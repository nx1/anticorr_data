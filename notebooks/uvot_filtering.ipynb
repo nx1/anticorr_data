{
 "cells": [
  {
   "cell_type": "code",
   "execution_count": 1,
   "id": "91aa3abf-f0d6-478a-8cc0-c07d4a31ff19",
   "metadata": {},
   "outputs": [
    {
     "name": "stderr",
     "output_type": "stream",
     "text": [
      "/usr/lib/python3/dist-packages/requests/__init__.py:89: RequestsDependencyWarning: urllib3 (1.26.9) or chardet (3.0.4) doesn't match a supported version!\n",
      "  warnings.warn(\"urllib3 ({}) or chardet ({}) doesn't match a supported \"\n"
     ]
    }
   ],
   "source": [
    "from glob import glob\n",
    "import numpy as np\n",
    "import matplotlib.pyplot as plt\n",
    "\n",
    "import pandas as pd\n",
    "from astropy.table import Table\n",
    "import astropy.units as u\n",
    "from astropy.coordinates import SkyCoord\n",
    "from astropy.table import vstack, hstack, join, unique\n",
    "from astroquery.simbad import Simbad\n",
    "from astropy.time import Time\n",
    "\n",
    "import sys\n",
    "sys.path.append('../')\n",
    "from uvot import read_uvotsource, calc_uvot_flags"
   ]
  },
  {
   "cell_type": "code",
   "execution_count": 2,
   "id": "80f19a98-2493-4d6a-b8fd-f3c6cfa6b681",
   "metadata": {},
   "outputs": [
    {
     "ename": "NameError",
     "evalue": "name 'uvotsource_files' is not defined",
     "output_type": "error",
     "traceback": [
      "\u001b[0;31m---------------------------------------------------------------------------\u001b[0m",
      "\u001b[0;31mNameError\u001b[0m                                 Traceback (most recent call last)",
      "Input \u001b[0;32mIn [2]\u001b[0m, in \u001b[0;36m<cell line: 1>\u001b[0;34m()\u001b[0m\n\u001b[0;32m----> 1\u001b[0m \u001b[38;5;28;01mfor\u001b[39;00m path \u001b[38;5;129;01min\u001b[39;00m \u001b[43muvotsource_files\u001b[49m:\n\u001b[1;32m      2\u001b[0m     tab \u001b[38;5;241m=\u001b[39m read_uvotsource(path)\n\u001b[1;32m      3\u001b[0m     diff \u001b[38;5;241m=\u001b[39m np\u001b[38;5;241m.\u001b[39mdiff(tab[\u001b[38;5;124m'\u001b[39m\u001b[38;5;124mMJD\u001b[39m\u001b[38;5;124m'\u001b[39m])\n",
      "\u001b[0;31mNameError\u001b[0m: name 'uvotsource_files' is not defined"
     ]
    }
   ],
   "source": [
    "for path in uvotsource_files:\n",
    "    tab = read_uvotsource(path)\n",
    "    diff = np.diff(tab['MJD'])\n",
    "    #lo = np.mean(diff)-np.std(diff)\n",
    "    hi = np.mean(diff)+np.std(diff)\n",
    "\n",
    "    plt.figure(figsize=(12,6))\n",
    "    plt.title(path)\n",
    "    plt.plot(diff)\n",
    "    plt.axhspan(0, hi, alpha=0.5, color='cyan', ec='black')\n",
    "    plt.show()"
   ]
  },
  {
   "cell_type": "code",
   "execution_count": null,
   "id": "c3fc1000-d435-4c7d-882d-f15dd4c71e22",
   "metadata": {},
   "outputs": [],
   "source": [
    "\n",
    "def plot_uvotsource_mag_hist(path, ax=None):\n",
    "    tab = read_uvotsource(path)\n",
    "    \n",
    "    if ax is None:\n",
    "        fig, ax = plt.subplots()\n",
    "    ax.hist(tab['MAG'], bins=20, orientation=\"horizontal\")"
   ]
  },
  {
   "cell_type": "code",
   "execution_count": null,
   "id": "64092d5b-79dc-4ee5-b73a-c932cf78e65e",
   "metadata": {},
   "outputs": [],
   "source": []
  },
  {
   "cell_type": "code",
   "execution_count": null,
   "id": "a6a03f23-6941-4058-9ec6-9d2cbe06afca",
   "metadata": {},
   "outputs": [],
   "source": []
  },
  {
   "cell_type": "code",
   "execution_count": null,
   "id": "a9981c42-4481-45e6-9b8f-fd4a67b247e8",
   "metadata": {},
   "outputs": [],
   "source": [
    "tab = read_uvotsource(path)"
   ]
  },
  {
   "cell_type": "code",
   "execution_count": null,
   "id": "f2ac9447-c35f-4c96-808b-55af62984741",
   "metadata": {},
   "outputs": [],
   "source": [
    "fig = plt.figure(figsize=(20,20))\n",
    "ax1 = plt.subplot2grid((7,7), (0,0), colspan=6) # Lightcurve\n",
    "ax2 = plt.subplot2grid((7,7), (0,6))\n",
    "ax3 = plt.subplot2grid((7,7), (1,0), colspan=6)\n",
    "ax3 = plt.subplot2grid((7,7), (2,0), colspan=6)\n",
    "#ax4 = plt.subplot2grid((3,3), (2, 0))\n",
    "#ax5 = plt.subplot2grid((3,3), (2, 1))"
   ]
  },
  {
   "cell_type": "code",
   "execution_count": null,
   "id": "5585881a-839d-4c46-b7c3-1ba025c0be2b",
   "metadata": {},
   "outputs": [],
   "source": [
    "import matplotlib.gridspec as gridspec\n",
    "\n",
    "gs1 = gridspec.GridSpec(3, 3)\n",
    "gs1.update(left=0.05, right=0.48, wspace=0.05)\n",
    "ax1 = plt.subplot(gs1[:-1, :])\n",
    "ax2 = plt.subplot(gs1[-1, :-1])\n",
    "ax3 = plt.subplot(gs1[-1, -1])\n",
    "\n",
    "gs2 = gridspec.GridSpec(3, 3)\n",
    "gs2.update(left=0.55, right=0.98, hspace=0.05)\n",
    "ax4 = plt.subplot(gs2[:, :-1])\n",
    "ax5 = plt.subplot(gs2[:-1, -1])\n",
    "ax6 = plt.subplot(gs2[-1, -1])"
   ]
  },
  {
   "cell_type": "code",
   "execution_count": null,
   "id": "73c33b47-92e9-4719-bc0a-c60191576764",
   "metadata": {},
   "outputs": [],
   "source": []
  },
  {
   "cell_type": "code",
   "execution_count": null,
   "id": "b48e26bf-dae1-42e5-b196-7635b7f71c87",
   "metadata": {},
   "outputs": [],
   "source": [
    "fig, ax = plt.subplots()"
   ]
  },
  {
   "cell_type": "code",
   "execution_count": null,
   "id": "e8bb6830-4f1e-4429-b10d-77231a4e0a50",
   "metadata": {},
   "outputs": [],
   "source": [
    "\n"
   ]
  },
  {
   "cell_type": "code",
   "execution_count": null,
   "id": "f94213a5-6707-42b0-a5b9-bb8c046602bb",
   "metadata": {},
   "outputs": [],
   "source": [
    "glob('../download_scripts/*/*uvot*.fits')"
   ]
  },
  {
   "cell_type": "code",
   "execution_count": null,
   "id": "410d2a95-c487-4945-a9c8-c81e4d3b5423",
   "metadata": {},
   "outputs": [],
   "source": [
    "tab = Table.read('../download_scripts/NGC7793/src_uvotsource_all.fits')"
   ]
  },
  {
   "cell_type": "code",
   "execution_count": null,
   "id": "6280516b-5f4d-43ac-ace2-bdb64ce1dfc5",
   "metadata": {},
   "outputs": [],
   "source": []
  },
  {
   "cell_type": "code",
   "execution_count": null,
   "id": "956b737e-09be-42c9-854a-e15b90d3618d",
   "metadata": {},
   "outputs": [],
   "source": [
    "tab['UPPER_LIM'] = tab['NSIGMA'] < tab['MAG_LIM_SIG'] \n",
    "tab = tab[tab['EXTNAME'] == 'U']\n",
    "tab = tab[tab['MAG'] != 99]"
   ]
  },
  {
   "cell_type": "code",
   "execution_count": null,
   "id": "b646a975-8e5b-49af-bcda-46ad83cab01a",
   "metadata": {},
   "outputs": [],
   "source": [
    "tab['EXTNAME', 'MAG', 'MAG_LIM', 'MAG_LIM_SIG', 'NSIGMA', 'UPPER_LIM']"
   ]
  },
  {
   "cell_type": "code",
   "execution_count": null,
   "id": "44ee12dc-7ac0-4495-8660-8d27ce0c1d6f",
   "metadata": {},
   "outputs": [],
   "source": [
    "for t in tab.colnames:\n",
    "    plt.figure(figsize=(3,3))\n",
    "    plt.title(t)\n",
    "    try:\n",
    "        plt.hist(tab[t], bins=20)\n",
    "    except:\n",
    "        pass\n",
    "    plt.show()"
   ]
  },
  {
   "cell_type": "code",
   "execution_count": null,
   "id": "3b350c5e-6928-47ca-958d-8515fad15a2c",
   "metadata": {},
   "outputs": [],
   "source": [
    "plt.figure(figsize=(20,5))\n",
    "#plt.scatter(tab['MET'], tab['MAG'])\n",
    "#plt.scatter(tab['MET'], tab['MAG_LIM'])\n",
    "plt.errorbar(tab['MET'], tab['MAG'], yerr=tab['MAG_ERR'], ls='none', uplims=tab['UPPER_LIM'], lw=1.0)\n",
    "#plt.axhline(3)\n",
    "#plt.ylim(18,22)"
   ]
  },
  {
   "cell_type": "code",
   "execution_count": null,
   "id": "6474606c-874e-4270-bc1e-9457fcb6a323",
   "metadata": {},
   "outputs": [],
   "source": [
    "tab = tab[tab['UPPER_LIM'] == False]"
   ]
  },
  {
   "cell_type": "code",
   "execution_count": null,
   "id": "00574ba8-1b9d-4068-9d98-1ac6044090d2",
   "metadata": {},
   "outputs": [],
   "source": [
    "plt.figure(figsize=(20,5))\n",
    "#plt.scatter(tab['MET'], tab['MAG'])\n",
    "#plt.scatter(tab['MET'], tab['MAG_LIM'])\n",
    "plt.errorbar(tab['MET'], tab['MAG'], yerr=tab['MAG_ERR'], ls='none', uplims=tab['UPPER_LIM'], lw=1.0)\n",
    "#plt.axhline(3)\n",
    "#plt.ylim(18,22)"
   ]
  },
  {
   "cell_type": "code",
   "execution_count": null,
   "id": "1bf1f22c-b5d9-4709-a8e5-b404ea9b72ef",
   "metadata": {},
   "outputs": [],
   "source": [
    "from astropy.timeseries import LombScargle"
   ]
  },
  {
   "cell_type": "code",
   "execution_count": null,
   "id": "07e494ba-42e6-4130-b4ca-4bf4c82f143d",
   "metadata": {},
   "outputs": [],
   "source": [
    "f, y = LombScargle(tab['MET'], tab['MAG']).autopower()"
   ]
  },
  {
   "cell_type": "code",
   "execution_count": null,
   "id": "679a9b26-c3cc-4b7f-80a2-603fe2be752c",
   "metadata": {},
   "outputs": [],
   "source": [
    "plt.figure(figsize=(20,5))\n",
    "plt.plot(f,y)"
   ]
  },
  {
   "cell_type": "code",
   "execution_count": null,
   "id": "628a59f3-d82d-433a-a845-4b4d6ebd813d",
   "metadata": {},
   "outputs": [],
   "source": [
    "uvotsource_lcs = glob('../download_scripts/*/*uvotsource_all.fits')"
   ]
  },
  {
   "cell_type": "code",
   "execution_count": null,
   "id": "c229942d-b3ea-4443-a9d9-3e6b02ed94af",
   "metadata": {},
   "outputs": [],
   "source": [
    "for lc in uvotsource_lcs:\n",
    "    tab = Table.read(lc, format='fits')\n",
    "    tab = calc_uvot_flags(tab)\n",
    "    tab = tab[~tab['FLAG_AB_MAG_99']]\n",
    "    tab.sort('MET')\n",
    "    \n",
    "    \n",
    "    fig, ax = plt.subplots(1, 1, figsize=(20,5))\n",
    "    ax.set_title(lc)\n",
    "    filter_colors = {'V' : 'red',\n",
    "                     'B' : 'black',\n",
    "                     'U' : 'blue',\n",
    "                     'UVW1' : 'green',\n",
    "                     'UVW2' : 'purple',\n",
    "                     'UVM2' : 'cyan',\n",
    "                     'WHITE' : 'grey'}\n",
    "    \n",
    "    for f in np.unique(tab['FILTER']):\n",
    "        sub = tab[tab['FILTER'] == f]\n",
    "        ax.scatter(sub['MET'], sub['MAG'], label=f, color=filter_colors[f])\n",
    "    ax.legend()\n",
    "    plt.show()"
   ]
  },
  {
   "cell_type": "code",
   "execution_count": null,
   "id": "f4aa197f-86a7-4a39-b5dd-02d98dd7800c",
   "metadata": {},
   "outputs": [],
   "source": []
  },
  {
   "cell_type": "code",
   "execution_count": null,
   "id": "f452f398-29ab-4ad2-8db0-0c60f1ec8afb",
   "metadata": {},
   "outputs": [],
   "source": []
  },
  {
   "cell_type": "code",
   "execution_count": null,
   "id": "d069a638-c47c-4c57-b368-4540e6e1e30c",
   "metadata": {},
   "outputs": [],
   "source": []
  }
 ],
 "metadata": {
  "kernelspec": {
   "display_name": "Python 3 (ipykernel)",
   "language": "python",
   "name": "python3"
  },
  "language_info": {
   "codemirror_mode": {
    "name": "ipython",
    "version": 3
   },
   "file_extension": ".py",
   "mimetype": "text/x-python",
   "name": "python",
   "nbconvert_exporter": "python",
   "pygments_lexer": "ipython3",
   "version": "3.10.4"
  }
 },
 "nbformat": 4,
 "nbformat_minor": 5
}
