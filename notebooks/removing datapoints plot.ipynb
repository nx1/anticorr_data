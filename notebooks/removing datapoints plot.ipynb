{
 "cells": [
  {
   "cell_type": "code",
   "execution_count": 1,
   "id": "cbd38b49-3fd2-441b-8d59-7957ec77ea73",
   "metadata": {},
   "outputs": [
    {
     "name": "stderr",
     "output_type": "stream",
     "text": [
      "WARNING: hdu= was not specified but multiple tables are present, reading in first available table (hdu=1) [astropy.io.fits.connect]\n"
     ]
    }
   ],
   "source": [
    "from glob import glob\n",
    "from astropy.table import Table\n",
    "import numpy as np\n",
    "import matplotlib.pyplot as plt\n",
    "from matplotlib.patches import Patch\n",
    "import sys\n",
    "sys.path.append('../')\n",
    "from source_names_dict import source_names_readable, source_distances_mpc, get_simbad_name_glob\n",
    "corr = __import__('11_corr')\n",
    "from process_corr import load_df_fit_values, load_df_fit_samples\n",
    "from uvot import filter_colors\n",
    "import pandas as pd\n",
    "from tqdm import tqdm\n",
    "import matplotlib\n",
    "import matplotlib.colors as mcolors\n",
    "from scipy.stats import pearsonr"
   ]
  },
  {
   "cell_type": "code",
   "execution_count": 2,
   "id": "bfbe77c0-0339-4595-a4af-784a4a61aad9",
   "metadata": {},
   "outputs": [],
   "source": [
    "matplotlib.rcParams['mathtext.fontset'] = 'stix'\n",
    "matplotlib.rcParams['font.family'] = 'STIXGeneral'"
   ]
  },
  {
   "cell_type": "code",
   "execution_count": 3,
   "id": "03776147-d6ca-40f3-8676-aa962491af68",
   "metadata": {},
   "outputs": [],
   "source": [
    "tab = Table.read('../lightcurves/joined/NAME_NGC_7793_P13,U,curve_nosys_join.fits')\n",
    "subsets = corr.calc_subsets(tab)\n",
    "tab_no_UL_no_bad = subsets['tab_no_UL_no_bad']\n",
    "\n",
    "x     = tab_no_UL_no_bad['Rate'].value\n",
    "x_err = (tab_no_UL_no_bad['Ratepos'] - tab_no_UL_no_bad['Rateneg']).value\n",
    "y     = tab_no_UL_no_bad['COI_SRC_RATE'].value\n",
    "y_err = tab_no_UL_no_bad['COI_SRC_RATE_ERR'].value"
   ]
  },
  {
   "cell_type": "code",
   "execution_count": 4,
   "id": "0607c4b8-c686-41ca-ae86-fce41b93e0fb",
   "metadata": {},
   "outputs": [],
   "source": [
    "Ndatas = np.arange(len(tab_no_UL_no_bad), 0, -10)\n",
    "Ndatas\n",
    "cmap = plt.cm.cool(Ndatas/max(Ndatas))"
   ]
  },
  {
   "cell_type": "code",
   "execution_count": 5,
   "id": "91227954-c006-4ea6-8410-8644a9a963e5",
   "metadata": {},
   "outputs": [
    {
     "name": "stdout",
     "output_type": "stream",
     "text": [
      "161\n",
      "152\n",
      "143\n",
      "133\n",
      "123\n",
      "113\n",
      "104\n",
      "94\n",
      "84\n",
      "76\n",
      "68\n",
      "59\n",
      "49\n",
      "40\n",
      "31\n",
      "23\n",
      "15\n",
      "7\n"
     ]
    },
    {
     "data": {
      "image/png": "[encoded data removed]",
      "text/plain": [
       "<Figure size 360x288 with 2 Axes>"
      ]
     },
     "metadata": {},
     "output_type": "display_data"
    }
   ],
   "source": [
    "plt.figure(figsize=(5,4), facecolor='white')\n",
    "i = 0\n",
    "while len(x) > 12:\n",
    "    r = np.random.randint(len(x), size=10) # index to remove\n",
    "    x = np.delete(x, r)\n",
    "    x_err = np.delete(x_err, r)\n",
    "    y = np.delete(y, r)\n",
    "    y_err = np.delete(y_err, r)\n",
    "    \n",
    "    x_samp = np.random.normal(loc=x, scale=x_err, size=(10000,len(x)))\n",
    "    y_samp = np.random.normal(loc=y, scale=y_err, size=(10000,len(y)))\n",
    "    r_vals = [pearsonr(x_samp[i], y_samp[i])[0] for i in range(10000)]\n",
    "\n",
    "    plt.hist(r_vals, bins=50, histtype='step', color=cmap[i])\n",
    "    print(len(x))\n",
    "    i+=1\n",
    "plt.xlim(-1,1)\n",
    "sm = plt.cm.ScalarMappable(cmap=plt.cm.cool, norm=plt.Normalize(vmin=min(Ndatas), vmax=max(Ndatas)))\n",
    "plt.colorbar(sm, location='top', label=r'Number of Data points', pad=0.01)\n",
    "plt.xlabel('Correlation coefficient r', size=15)\n",
    "plt.ylabel('Frequency', size=15)\n",
    "plt.axvline(0, color='grey', lw=1.0)\n",
    "plt.savefig('../figures/removing_datapoints_r.png', bbox_inches='tight')\n",
    "plt.savefig('../figures/removing_datapoints_r.pdf', bbox_inches='tight')\n",
    "plt.show()"
   ]
  },
  {
   "cell_type": "code",
   "execution_count": null,
   "id": "4df8a743-b3f7-40e1-91f7-b73dd5613c17",
   "metadata": {},
   "outputs": [],
   "source": []
  },
  {
   "cell_type": "code",
   "execution_count": null,
   "id": "6197b6b0-4802-45c1-9ba3-5775a99c825e",
   "metadata": {},
   "outputs": [],
   "source": []
  }
 ],
 "metadata": {
  "kernelspec": {
   "display_name": "Python 3 (ipykernel)",
   "language": "python",
   "name": "python3"
  },
  "language_info": {
   "codemirror_mode": {
    "name": "ipython",
    "version": 3
   },
   "file_extension": ".py",
   "mimetype": "text/x-python",
   "name": "python",
   "nbconvert_exporter": "python",
   "pygments_lexer": "ipython3",
   "version": "3.10.4"
  }
 },
 "nbformat": 4,
 "nbformat_minor": 5
}
