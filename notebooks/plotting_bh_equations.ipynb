{
 "cells": [
  {
   "cell_type": "code",
   "execution_count": 5,
   "id": "38f7be6d-1c80-4f92-9bef-df63b1310154",
   "metadata": {},
   "outputs": [],
   "source": [
    "from sympy import symbols, Eq"
   ]
  },
  {
   "cell_type": "code",
   "execution_count": 27,
   "id": "49a52d9d-90c0-4c67-aa24-da6a4ece5e16",
   "metadata": {},
   "outputs": [],
   "source": [
    "ds = symbols('ds')\n",
    "C, r, dt, dr, r, dr, omega = symbols('C r dt dr r dr Omega')\n"
   ]
  },
  {
   "cell_type": "code",
   "execution_count": 28,
   "id": "b72e76c3-13e1-485c-bae5-e02a451e61c7",
   "metadata": {},
   "outputs": [
    {
     "data": {
      "text/latex": [
       "$\\displaystyle ds^{2} = \\Omega r^{2} + dr^{2} \\left(\\frac{C}{r} + 1\\right) - dt^{2} \\left(\\frac{C}{r} + 1\\right)^{2}$"
      ],
      "text/plain": [
       "Eq(ds**2, Omega*r**2 + dr**2*(C/r + 1) - dt**2*(C/r + 1)**2)"
      ]
     },
     "execution_count": 28,
     "metadata": {},
     "output_type": "execute_result"
    }
   ],
   "source": [
    "eq1 = Eq(ds**2, -(1 + C/r)**2 * dt**2 + (1+C/r)**1 * dr**2 + r**2*omega)\n",
    "eq1"
   ]
  },
  {
   "cell_type": "code",
   "execution_count": null,
   "id": "622404bd-49eb-43fc-b790-1bbb5d65f4d4",
   "metadata": {},
   "outputs": [],
   "source": []
  }
 ],
 "metadata": {
  "kernelspec": {
   "display_name": "Python 3 (ipykernel)",
   "language": "python",
   "name": "python3"
  },
  "language_info": {
   "codemirror_mode": {
    "name": "ipython",
    "version": 3
   },
   "file_extension": ".py",
   "mimetype": "text/x-python",
   "name": "python",
   "nbconvert_exporter": "python",
   "pygments_lexer": "ipython3",
   "version": "3.8.10"
  }
 },
 "nbformat": 4,
 "nbformat_minor": 5
}
