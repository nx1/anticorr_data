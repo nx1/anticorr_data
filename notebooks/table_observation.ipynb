{
 "cells": [
  {
   "cell_type": "code",
   "execution_count": 1,
   "id": "6ce568ac-a48e-47e7-8325-5e13ebf21aa2",
   "metadata": {},
   "outputs": [],
   "source": [
    "import sys\n",
    "from glob import glob\n",
    "sys.path.append('../')\n",
    "import numpy as np\n",
    "import matplotlib.pyplot as plt\n",
    "from astropy.table import unique, join\n",
    "import pandas as pd\n",
    "from astropy.time import Time"
   ]
  },
  {
   "cell_type": "code",
   "execution_count": 2,
   "id": "bae4b17b-e033-4733-b2e6-322e4fc8f2c1",
   "metadata": {},
   "outputs": [
    {
     "name": "stderr",
     "output_type": "stream",
     "text": [
      "WARNING: hdu= was not specified but multiple tables are present, reading in first available table (hdu=1) [astropy.io.fits.connect]\n"
     ]
    }
   ],
   "source": [
    "from source_names_dict import source_names_dict, source_names_w_counterparts, source_names_readable\n",
    "from get_closest_srcreg import get_src_region_dict\n",
    "from uvot import read_uvotsource, calc_uvot_flags, filters, filter_colors, filter_markers, load_uvotsource\n",
    "from xrt import load_xrt, rename_xrt_cols, curves\n",
    "from lightcurve import LightCurve"
   ]
  },
  {
   "cell_type": "code",
   "execution_count": 3,
   "id": "f532c914-c6b2-4be8-bb00-a0203146edf4",
   "metadata": {},
   "outputs": [],
   "source": [
    "def get_first_val(df, col):\n",
    "    try:\n",
    "        val = df[col].values[0]\n",
    "    except IndexError:\n",
    "        val = np.nan\n",
    "    except AttributeError:\n",
    "        val = df[col][0]\n",
    "    return val"
   ]
  },
  {
   "cell_type": "code",
   "execution_count": 4,
   "id": "183a9a03-c810-47bb-bd23-f1d701a84ec5",
   "metadata": {},
   "outputs": [
    {
     "name": "stdout",
     "output_type": "stream",
     "text": [
      "Getting source region dict\n"
     ]
    }
   ],
   "source": [
    "src_region_dict = get_src_region_dict()"
   ]
  },
  {
   "cell_type": "code",
   "execution_count": 5,
   "id": "d3c3fb53-ee3c-4953-93a6-f2fae5ef0a49",
   "metadata": {},
   "outputs": [
    {
     "data": {
      "text/plain": [
       "{'ESO_243-49_HLX-1': '/mnt/d/anticorr_data/download_scripts/ESO243-49/src.reg',\n",
       " 'NAME_Holmberg_IX_X-1': '/mnt/d/anticorr_data/download_scripts/Holmberg_IX/src.reg',\n",
       " 'Holmberg_II_X-1': '/mnt/d/anticorr_data/download_scripts/Holmberg_II/src.reg',\n",
       " 'M31_ULX-1': '/mnt/d/anticorr_data/download_scripts/M31/src.reg',\n",
       " '[LM2005]_NGC_598_ULX1': '/mnt/d/anticorr_data/download_scripts/M33/src.reg',\n",
       " 'RX_J133001+47137': '/mnt/d/anticorr_data/download_scripts/M51/ULX7_src.reg',\n",
       " '[LM2005]_NGC_3031_ULX1': '/mnt/d/anticorr_data/download_scripts/M81/ULX1_src.reg',\n",
       " 'M82_X-2': '/mnt/d/anticorr_data/download_scripts/M82/src.reg',\n",
       " '[LM2005]_NGC_1042_ULX1': '/mnt/d/anticorr_data/download_scripts/NGC1042/src.reg',\n",
       " 'NAME_NGC_1313_X-1': '/mnt/d/anticorr_data/download_scripts/NGC1313/X-1_src.reg',\n",
       " 'NAME_NGC_1313_X-2': '/mnt/d/anticorr_data/download_scripts/NGC1313/X-2_src.reg',\n",
       " '[LM2005]_NGC_247_ULX1': '/mnt/d/anticorr_data/download_scripts/NGC247/src.reg',\n",
       " '[LB2005]_NGC_253_X2': '/mnt/d/anticorr_data/download_scripts/NGC253/X2_src.reg',\n",
       " '[LB2005]_NGC_253_X9': '/mnt/d/anticorr_data/download_scripts/NGC253/X9_src.reg',\n",
       " 'NAME_NGC_300_ULX1': '/mnt/d/anticorr_data/download_scripts/NGC300/src.reg',\n",
       " '[LM2005]_NGC_4395_ULX1': '/mnt/d/anticorr_data/download_scripts/NGC4395/src.reg',\n",
       " '[LM2005]_NGC_5204_ULX1': '/mnt/d/anticorr_data/download_scripts/NGC5204/src.reg',\n",
       " '[LM2005]_NGC_5408_ULX1': '/mnt/d/anticorr_data/download_scripts/NGC5408/src.reg',\n",
       " '[SRW2006b]_NGC_55_ULX': '/mnt/d/anticorr_data/download_scripts/NGC55/src.reg',\n",
       " '[SST2011]_J141939.39+564137.8': '/mnt/d/anticorr_data/download_scripts/NGC5585/src.reg',\n",
       " 'NAME_NGC_5907_ULX': '/mnt/d/anticorr_data/download_scripts/NGC5907/src.reg',\n",
       " '[LB2005]_NGC_6946_ULX1': '/mnt/d/anticorr_data/download_scripts/NGC6946/ULX1_src.reg',\n",
       " '[LB2005]_NGC_6946_ULX3': '/mnt/d/anticorr_data/download_scripts/NGC6946/ULX3_src.reg',\n",
       " 'NAME_NGC_7090_ULX3': '/mnt/d/anticorr_data/download_scripts/NGC7090/ULX3_src.reg',\n",
       " 'NAME_NGC_7793_P13': '/mnt/d/anticorr_data/download_scripts/NGC7793/src.reg',\n",
       " 'NAME_NGC_925_ULX-1': '/mnt/d/anticorr_data/download_scripts/NGC925/ULX1_src.reg',\n",
       " 'NAME_NGC_925_ULX-2': '/mnt/d/anticorr_data/download_scripts/NGC925/ULX2_src.reg',\n",
       " 'SMC_X-3': '/mnt/d/anticorr_data/download_scripts/SMC_X-3/src.reg',\n",
       " 'SS433': '/mnt/d/anticorr_data/download_scripts/SS433/src.reg',\n",
       " 'SWIFT_J0243.6+6124': '/mnt/d/anticorr_data/download_scripts/Swift_J0243.6+6124/src.reg',\n",
       " 'NAME_UGC_6456_ULX': '/mnt/d/anticorr_data/download_scripts/UGC6456/src.reg',\n",
       " 'NOVA_Cyg_1989': '/mnt/d/anticorr_data/download_scripts/V404Cyg/src.reg',\n",
       " '[LB2005]_NGC_5236_X11': '/mnt/d/anticorr_data/download_scripts/M83/X11_src.reg',\n",
       " 'NAME_M83_ULX-1': '/mnt/d/anticorr_data/download_scripts/M83/ULX1_src.reg',\n",
       " 'NAME_NGC_1365-X1': '/mnt/d/anticorr_data/download_scripts/NGC1365/X1_src.reg',\n",
       " '[SK2009]_X2': '/mnt/d/anticorr_data/download_scripts/NGC1365/X2_src.reg',\n",
       " 'NAME_IC_10_X-1': '/mnt/d/anticorr_data/download_scripts/IC10/src.reg',\n",
       " '[WMR2006]_NGC4945_XMM1': '/mnt/d/anticorr_data/download_scripts/NGC4945/src.reg',\n",
       " '[LM2005]_NGC_4559_ULX1': '/mnt/d/anticorr_data/download_scripts/NGC4559/src.reg',\n",
       " 'NAME_M101-ULX1': '/mnt/d/anticorr_data/download_scripts/M101/src.reg'}"
      ]
     },
     "execution_count": 5,
     "metadata": {},
     "output_type": "execute_result"
    }
   ],
   "source": [
    "src_region_dict"
   ]
  },
  {
   "cell_type": "code",
   "execution_count": 6,
   "id": "db6890ad-70aa-4452-abdb-61daf1533b15",
   "metadata": {},
   "outputs": [
    {
     "name": "stdout",
     "output_type": "stream",
     "text": [
      "{'readable_name': 'ESO 243-49 HLX-1'}\n",
      "{'readable_name': 'Holmberg IX X-1'}\n",
      "{'readable_name': 'Holmberg II X-1'}\n",
      "{'readable_name': 'M31 ULX-1'}\n",
      "{'readable_name': 'M33 ULX-1'}\n",
      "{'readable_name': 'M51 ULX-7'}\n",
      "{'readable_name': 'M81 X-6'}\n",
      "{'readable_name': 'M82 X-2'}\n",
      "{'readable_name': 'NGC1042 ULX-1'}\n",
      "{'readable_name': 'NGC1313 X-1'}\n",
      "{'readable_name': 'NGC1313 X-2'}\n",
      "{'readable_name': 'NGC247 ULX-1'}\n",
      "{'readable_name': 'NGC253 X-2'}\n",
      "{'readable_name': 'NGC253 X-9'}\n",
      "{'readable_name': 'NGC300 ULX-1'}\n",
      "{'readable_name': 'NGC4395 ULX-1'}\n",
      "{'readable_name': 'NGC5204 ULX-1'}\n",
      "{'readable_name': 'NGC5408 ULX-1'}\n",
      "{'readable_name': 'NGC55 ULX'}\n",
      "{'readable_name': 'NGC5585 ULX'}\n",
      "{'readable_name': 'NGC5907 ULX'}\n",
      "{'readable_name': 'NGC6946 ULX-1'}\n",
      "{'readable_name': 'NGC6946 ULX-3'}\n",
      "{'readable_name': 'NGC7090 ULX-3'}\n",
      "{'readable_name': 'NGC7793 P13'}\n",
      "{'readable_name': 'NGC925 ULX-1'}\n",
      "{'readable_name': 'NGC925 ULX-2'}\n",
      "{'readable_name': 'SMC X-3'}\n",
      "{'readable_name': 'SS433'}\n",
      "{'readable_name': 'Swift J0243.6+6124'}\n",
      "{'readable_name': 'UGC6456 ULX'}\n",
      "{'readable_name': 'V404Cyg'}\n",
      "{'readable_name': 'M83 ULX-2'}\n",
      "{'readable_name': 'M83 ULX-1'}\n",
      "{'readable_name': 'NGC1365 X-1'}\n",
      "{'readable_name': 'NGC1365 X-2'}\n",
      "{'readable_name': 'IC10 X-1'}\n",
      "{'readable_name': 'NGC4945 XMM-1'}\n",
      "{'readable_name': 'NGC4559 ULX-1'}\n",
      "{'readable_name': 'M101 ULX-1'}\n"
     ]
    }
   ],
   "source": [
    "all_rows = []\n",
    "for simbad_name, local_name in source_names_dict.items():\n",
    "    readable_name = source_names_readable[simbad_name]\n",
    "    try:\n",
    "        df_xrt_pc   = load_xrt(simbad_name, curve='PC')\n",
    "        df_xrt_soft = load_xrt(simbad_name, curve='SOFT')\n",
    "        df_xrt_hard = load_xrt(simbad_name, curve='HARD')\n",
    "        df_xrt_hr   = load_xrt(simbad_name, curve='HR')\n",
    "    except:\n",
    "        row = {}\n",
    "        row['readable_name'] = readable_name\n",
    "        all_rows.append(row)\n",
    "        print(row)\n",
    "        continue\n",
    "    \n",
    "    try:\n",
    "        print(f'loading uvot {simbad_name}')\n",
    "        tab_uvot = load_uvotsource(simbad_name, src_region_dict, False)\n",
    "        print(len(tab_uvot))\n",
    "        uvot_loaded = True\n",
    "    except:\n",
    "        print('Could not load uvot')\n",
    "        uvot_loaded = False\n",
    "\n",
    "    for obsid in df_xrt_pc['obsID']:\n",
    "        sub_pc   = df_xrt_pc[df_xrt_pc['obsID'] == obsid]\n",
    "        sub_soft = df_xrt_soft[df_xrt_soft['obsID'] == obsid]\n",
    "        sub_hard = df_xrt_hard[df_xrt_hard['obsID'] == obsid]\n",
    "        sub_hr   = df_xrt_hr[df_xrt_hr['obsID'] == obsid]\n",
    "        \n",
    "        \n",
    "        row = {}\n",
    "\n",
    "        mjd           = get_first_val(sub_pc, 'MJD')\n",
    "        rate_pc       = get_first_val(sub_pc, 'Rate')\n",
    "        rate_pc_err   = get_first_val(sub_pc, 'Ratepos')\n",
    "        rate_soft     = get_first_val(sub_soft, 'Rate')\n",
    "        rate_soft_err = get_first_val(sub_soft, 'Error')\n",
    "        rate_hard     = get_first_val(sub_hard, 'Rate')\n",
    "        rate_hard_err = get_first_val(sub_hard, 'Error')\n",
    "        rate_hr       = get_first_val(sub_hr, 'Rate')\n",
    "        rate_hr_err   = get_first_val(sub_hr, 'Error')\n",
    "        \n",
    "\n",
    "        if uvot_loaded:\n",
    "            sub_uvot = tab_uvot[tab_uvot['OBSID'] == obsid]\n",
    "            for filt in filters:\n",
    "                sub_uvot_filt = sub_uvot[sub_uvot['FILTER'] == filt]\n",
    "                if len(sub_uvot_filt) > 0:\n",
    "                    mag              = get_first_val(sub_uvot_filt, 'MAG')\n",
    "                    mag_err          = get_first_val(sub_uvot_filt, 'MAG_ERR')\n",
    "                    coi_src_rate     = get_first_val(sub_uvot_filt, 'COI_SRC_RATE')\n",
    "                    coi_src_rate_err = get_first_val(sub_uvot_filt, 'COI_SRC_RATE_ERR')\n",
    "                    nsigma           = get_first_val(sub_uvot_filt, 'NSIGMA')\n",
    "                    \n",
    "                    row[f'{filt}_MAG']              = f\"{mag:.2f} $\\pm$ {mag_err:.3f}\"\n",
    "                    row[f'{filt}_COI_SRC_RATE']     = f\"{coi_src_rate:.2f} $\\pm$ {coi_src_rate_err:.3f}\"\n",
    "                    row[f'NSIGMA']                  = f'{nsigma:.2f}'\n",
    "                    #print(row)\n",
    "                    \n",
    "        \n",
    "        t = Time(mjd, format='mjd')\n",
    "        date = t.to_value('iso', subfmt='date')\n",
    "        #row['simbad_name'] = simbad_name\n",
    "        #row['local_name']  = local_name\n",
    "        row['readable_name'] = readable_name\n",
    "        row['ObsID'] = obsid\n",
    "        row['Date']  = date\n",
    "        \n",
    "        row['rate_pc']   = f\"{rate_pc:.2f} $\\pm$ {rate_pc_err:.3f}\"\n",
    "        row['rate_soft'] = f\"{rate_soft:.2f} $\\pm$ {rate_soft_err:.3f}\"\n",
    "        row['rate_hard'] = f\"{rate_hard:.2f} $\\pm$ {rate_hard_err:.3f}\"\n",
    "        row['hr']        = f\"{rate_hr:.2f} $\\pm$ {rate_hr_err:.3f}\"\n",
    "        \n",
    "        #print(row)\n",
    "        \n",
    "        all_rows.append(row)\n",
    "\n",
    "        \n"
   ]
  },
  {
   "cell_type": "code",
   "execution_count": 7,
   "id": "1a11bea0-8dad-41d1-8f23-c42f39deb6f5",
   "metadata": {},
   "outputs": [
    {
     "name": "stdout",
     "output_type": "stream",
     "text": [
      "Saving to ../tables/observation_table.tex\n",
      "         readable_name\n",
      "0     ESO 243-49 HLX-1\n",
      "1      Holmberg IX X-1\n",
      "2      Holmberg II X-1\n",
      "3            M31 ULX-1\n",
      "4            M33 ULX-1\n",
      "5            M51 ULX-7\n",
      "6              M81 X-6\n",
      "7              M82 X-2\n",
      "8        NGC1042 ULX-1\n",
      "9          NGC1313 X-1\n",
      "10         NGC1313 X-2\n",
      "11        NGC247 ULX-1\n",
      "12          NGC253 X-2\n",
      "13          NGC253 X-9\n",
      "14        NGC300 ULX-1\n",
      "15       NGC4395 ULX-1\n",
      "16       NGC5204 ULX-1\n",
      "17       NGC5408 ULX-1\n",
      "18           NGC55 ULX\n",
      "19         NGC5585 ULX\n",
      "20         NGC5907 ULX\n",
      "21       NGC6946 ULX-1\n",
      "22       NGC6946 ULX-3\n",
      "23       NGC7090 ULX-3\n",
      "24         NGC7793 P13\n",
      "25        NGC925 ULX-1\n",
      "26        NGC925 ULX-2\n",
      "27             SMC X-3\n",
      "28               SS433\n",
      "29  Swift J0243.6+6124\n",
      "30         UGC6456 ULX\n",
      "31             V404Cyg\n",
      "32           M83 ULX-2\n",
      "33           M83 ULX-1\n",
      "34         NGC1365 X-1\n",
      "35         NGC1365 X-2\n",
      "36            IC10 X-1\n",
      "37       NGC4945 XMM-1\n",
      "38       NGC4559 ULX-1\n",
      "39          M101 ULX-1\n"
     ]
    },
    {
     "name": "stderr",
     "output_type": "stream",
     "text": [
      "/tmp/ipykernel_545/1474920516.py:4: FutureWarning: In future versions `DataFrame.to_latex` is expected to utilise the base implementation of `Styler.to_latex` for formatting and rendering. The arguments signature may therefore change. It is recommended instead to use `DataFrame.style.to_latex` which also contains additional functionality.\n",
      "  df.to_latex(savepath, longtable=False, escape=False)\n"
     ]
    }
   ],
   "source": [
    "df = pd.DataFrame(all_rows)\n",
    "savepath = '../tables/observation_table.tex'\n",
    "print(f'Saving to {savepath}')\n",
    "df.to_latex(savepath, longtable=False, escape=False)\n",
    "print(df)"
   ]
  },
  {
   "cell_type": "code",
   "execution_count": null,
   "id": "2cd85384-f72c-4e49-bcc3-2f551de02478",
   "metadata": {},
   "outputs": [],
   "source": []
  },
  {
   "cell_type": "code",
   "execution_count": null,
   "id": "48bf42a6-4aaf-4e24-8b4b-18ceb8d78e4e",
   "metadata": {},
   "outputs": [],
   "source": []
  },
  {
   "cell_type": "code",
   "execution_count": 8,
   "id": "18cd4833-44cb-47bb-a8d6-f84625e45dc9",
   "metadata": {},
   "outputs": [
    {
     "ename": "NameError",
     "evalue": "name 'tab_uvot' is not defined",
     "output_type": "error",
     "traceback": [
      "\u001b[0;31m---------------------------------------------------------------------------\u001b[0m",
      "\u001b[0;31mNameError\u001b[0m                                 Traceback (most recent call last)",
      "Input \u001b[0;32mIn [8]\u001b[0m, in \u001b[0;36m<cell line: 1>\u001b[0;34m()\u001b[0m\n\u001b[0;32m----> 1\u001b[0m \u001b[43mtab_uvot\u001b[49m\n",
      "\u001b[0;31mNameError\u001b[0m: name 'tab_uvot' is not defined"
     ]
    }
   ],
   "source": [
    "tab_uvot"
   ]
  },
  {
   "cell_type": "code",
   "execution_count": null,
   "id": "8c279a6d-54c6-4aad-a289-cfebb7e5a1e1",
   "metadata": {},
   "outputs": [],
   "source": [
    "from astropy.time import Time\n",
    "t = Time(54060.8419942672, format='mjd')\n"
   ]
  },
  {
   "cell_type": "code",
   "execution_count": null,
   "id": "a70b71da-346c-48bd-bca5-e2aa07daa042",
   "metadata": {},
   "outputs": [],
   "source": [
    "r"
   ]
  },
  {
   "cell_type": "code",
   "execution_count": null,
   "id": "d23ff1ae-3b74-4ebe-becb-4cf5b8995643",
   "metadata": {},
   "outputs": [],
   "source": []
  }
 ],
 "metadata": {
  "kernelspec": {
   "display_name": "Python 3 (ipykernel)",
   "language": "python",
   "name": "python3"
  },
  "language_info": {
   "codemirror_mode": {
    "name": "ipython",
    "version": 3
   },
   "file_extension": ".py",
   "mimetype": "text/x-python",
   "name": "python",
   "nbconvert_exporter": "python",
   "pygments_lexer": "ipython3",
   "version": "3.10.4"
  }
 },
 "nbformat": 4,
 "nbformat_minor": 5
}
