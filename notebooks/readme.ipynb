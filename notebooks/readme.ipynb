{
 "cells": [
  {
   "cell_type": "code",
   "execution_count": 1,
   "id": "90fbf1ce-6eff-45ff-a18a-488e28590750",
   "metadata": {},
   "outputs": [],
   "source": [
    "import sys\n",
    "sys.path.append('../')\n",
    "from source_names_dict import source_names_dict"
   ]
  },
  {
   "cell_type": "code",
   "execution_count": null,
   "id": "404b941f-efa0-4f8c-9658-094b7238a94a",
   "metadata": {},
   "outputs": [],
   "source": []
  },
  {
   "cell_type": "code",
   "execution_count": 3,
   "id": "5d6b3a91-ee04-4486-be0f-324ccffa6e8b",
   "metadata": {},
   "outputs": [
    {
     "data": {
      "text/plain": [
       "40"
      ]
     },
     "execution_count": 3,
     "metadata": {},
     "output_type": "execute_result"
    }
   ],
   "source": [
    "N_ulx = len(source_names_dict)\n",
    "N_ulx"
   ]
  },
  {
   "cell_type": "markdown",
   "id": "0f5d5589-6dc2-4a2d-9567-d53456894c7f",
   "metadata": {},
   "source": [
    "# Studies of ULX lightcurves using Swift\n",
    "40 ULXs specified via the following SIMBAD identifiers,\n"
   ]
  }
 ],
 "metadata": {
  "kernelspec": {
   "display_name": "Python 3 (ipykernel)",
   "language": "python",
   "name": "python3"
  },
  "language_info": {
   "codemirror_mode": {
    "name": "ipython",
    "version": 3
   },
   "file_extension": ".py",
   "mimetype": "text/x-python",
   "name": "python",
   "nbconvert_exporter": "python",
   "pygments_lexer": "ipython3",
   "version": "3.10.4"
  }
 },
 "nbformat": 4,
 "nbformat_minor": 5
}
