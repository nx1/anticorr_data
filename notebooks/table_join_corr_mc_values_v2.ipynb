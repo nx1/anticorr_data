{
 "cells": [
  {
   "cell_type": "code",
   "execution_count": 1,
   "id": "989381cb-7060-484b-9be9-2805ed0bc061",
   "metadata": {},
   "outputs": [],
   "source": [
    "from glob import glob\n",
    "import pandas as pd\n",
    "from pathlib import Path\n",
    "import sys\n",
    "from itertools import combinations, product\n",
    "sys.path.append('../')\n",
    "\n",
    "import matplotlib.pyplot as plt\n",
    "from tqdm import tqdm\n",
    "from astropy.table import unique, join\n",
    "import papermill as pm\n"
   ]
  },
  {
   "cell_type": "code",
   "execution_count": 2,
   "id": "1a58b7ea-ac82-4975-8a57-a195554ab66b",
   "metadata": {},
   "outputs": [
    {
     "name": "stderr",
     "output_type": "stream",
     "text": [
      "WARNING: hdu= was not specified but multiple tables are present, reading in first available table (hdu=1) [astropy.io.fits.connect]\n"
     ]
    }
   ],
   "source": [
    "from uvot import filters\n",
    "from xrt import curves\n",
    "from source_names_dict import source_names_dict, source_names_w_counterparts, source_names_readable\n",
    "from get_closest_srcreg import get_src_region_dict\n",
    "from uvot import read_uvotsource, calc_uvot_flags, filters, filter_colors, filter_markers\n",
    "from xrt import load_xrt, rename_xrt_cols, curves\n",
    "from lightcurve import LightCurve"
   ]
  },
  {
   "cell_type": "code",
   "execution_count": 3,
   "id": "7b691f7c-2d6d-4325-b518-387a5c1b991e",
   "metadata": {},
   "outputs": [
    {
     "name": "stderr",
     "output_type": "stream",
     "text": [
      " 90%|██████████████████████████████████████████████████████████████████████████████████████████████████████████████████████████████████████████████████████████████████████████████▋                    | 913/1019 [00:04<00:00, 191.63it/s]\n",
      "\n",
      "KeyboardInterrupt\n",
      "\n"
     ]
    }
   ],
   "source": [
    "all_df = []\n",
    "for f in tqdm(glob('../lightcurves/correlation_output/*/tables/*table_prop*')):\n",
    "    sp = f.split('/')[-1].split(',')\n",
    "    simbad_name = sp[0]\n",
    "    xrt_curve   = sp[1]\n",
    "    uvot_filter = sp[2]\n",
    "    include_bad = sp[3]\n",
    "    include_UL  = sp[4]\n",
    "    \n",
    "    df = pd.read_csv(f)\n",
    "    df['simbad_name'] = simbad_name\n",
    "    df['xrt_curve'] = xrt_curve\n",
    "    df['uvot_filter'] = uvot_filter\n",
    "    df['include_bad'] = include_bad\n",
    "    df['include_UL']  = include_UL\n",
    "    \n",
    "    all_df.append(df)\n",
    "df_prop = pd.concat(all_df)\n",
    "df_prop\n"
   ]
  },
  {
   "cell_type": "code",
   "execution_count": null,
   "id": "da2b39a7-6150-44f5-b417-e99a6cda44f5",
   "metadata": {},
   "outputs": [],
   "source": [
    "all_res = []\n",
    "for f in tqdm(glob('../lightcurves/correlation_output/*/tables/*table_corr*')):\n",
    "    sp = f.split('/')[-1].split(',')\n",
    "    simbad_name = sp[0]\n",
    "    xrt_curve = sp[1]\n",
    "    uvot_filter = sp[2]\n",
    "    include_bad = sp[3]\n",
    "    include_UL  = sp[4]\n",
    "    \n",
    "    # print(simbad_name, xrt_curve, uvot_filter)\n",
    "    \n",
    "    df = pd.read_csv(f)\n",
    "    r_mean = df['r'].mean()\n",
    "    r_std  = df['r'].std()\n",
    "    m_mean = df['m'].mean()\n",
    "    m_std  = df['m'].std()\n",
    "    c_mean = df['c'].mean()\n",
    "    c_std  = df['c'].std()\n",
    "    \n",
    "    res = {}\n",
    "    res['simbad_name'] = simbad_name\n",
    "    res['xrt_curve'] = xrt_curve\n",
    "    res['uvot_filter'] = uvot_filter\n",
    "    res['include_bad'] = include_bad\n",
    "    res['include_UL'] = include_UL\n",
    "    \n",
    "    res['r_mean'] = r_mean\n",
    "    res['r_std'] = r_std\n",
    "    res['m_mean'] = m_mean\n",
    "    res['m_std'] = m_std\n",
    "    res['c_mean'] = c_mean\n",
    "    res['c_std'] = c_std\n",
    "    \n",
    "    all_res.append(res)\n",
    "df = pd.DataFrame(all_res)\n",
    "df"
   ]
  },
  {
   "cell_type": "code",
   "execution_count": null,
   "id": "db819c7d-12c3-42ae-bd60-acbc7d118eee",
   "metadata": {},
   "outputs": [],
   "source": []
  },
  {
   "cell_type": "code",
   "execution_count": null,
   "id": "b8c3303f-1dc6-4b68-99db-ca99f6902d59",
   "metadata": {},
   "outputs": [],
   "source": [
    "exclude = ['SWIFT_J0243.6+6124', 'NOVA_Cyg_1989']\n",
    "\n",
    "nsig     = 2\n",
    "r_mu     = df['r_mean'].mean()\n",
    "r_std    = df['r_mean'].std()\n",
    "r_sig_up = r_mu + nsig*r_std\n",
    "r_sig_lo = r_mu - nsig*r_std\n",
    "\n",
    "\n",
    "df['nsig'] = abs((df['r_mean'] - r_mu) / r_std)\n",
    "\n",
    "plt.figure(figsize=(30,30), facecolor='white')\n",
    "for i, s in enumerate(df['simbad_name'].unique()):\n",
    "    if s in exclude:\n",
    "        continue\n",
    "    sub = df[df['simbad_name'] == s]\n",
    "    plt.scatter(sub['m_mean'], sub['r_mean'], marker=f'${i}$', label=s, s=100)\n",
    "    #plt.errorbar(sub['m_mean'], sub['r_mean'], xerr=sub['m_std'], yerr=sub['r_std'], marker=f'${i}$', label=s, markersize=10)\n",
    "plt.xlabel('m_mean')\n",
    "plt.ylabel('r_mean / r_std')\n",
    "\n",
    "plt.xscale('symlog')\n",
    "#plt.ylim(-5,5)\n",
    "plt.xlim(-10,10)\n",
    "plt.legend()\n",
    "#plt.ylim(-10,10)\n"
   ]
  },
  {
   "cell_type": "code",
   "execution_count": null,
   "id": "affecc27-005a-48be-b299-cd98be8d7f32",
   "metadata": {},
   "outputs": [],
   "source": [
    "sub_nsig = df[(df['r_mean'] > r_sig_up) | (df['r_mean'] < r_sig_lo)]"
   ]
  },
  {
   "cell_type": "code",
   "execution_count": null,
   "id": "b76574e8-8197-477c-9921-7487869a34da",
   "metadata": {},
   "outputs": [],
   "source": [
    "df_prop_tab_5_sig = df_prop[df_prop['name'] == 'tab_5_sig']"
   ]
  },
  {
   "cell_type": "code",
   "execution_count": null,
   "id": "633e4ce1-6138-42b7-96c4-fd3da8633510",
   "metadata": {},
   "outputs": [],
   "source": [
    "pd.set_option('display.max_rows', None)"
   ]
  },
  {
   "cell_type": "code",
   "execution_count": null,
   "id": "ef4084ea-c92b-4db9-8c95-13c4ee9a938d",
   "metadata": {},
   "outputs": [],
   "source": [
    "pd.merge(sub_nsig, df_prop_tab_5_sig, on=['simbad_name','xrt_curve','uvot_filter','include_bad','include_UL'])"
   ]
  },
  {
   "cell_type": "code",
   "execution_count": null,
   "id": "aefc02ed-22e2-43d8-9033-946c6a857758",
   "metadata": {},
   "outputs": [],
   "source": []
  },
  {
   "cell_type": "code",
   "execution_count": null,
   "id": "06dd9c5c-ec5e-462d-a065-4ca4110f3204",
   "metadata": {},
   "outputs": [],
   "source": []
  },
  {
   "cell_type": "code",
   "execution_count": null,
   "id": "2db2de20-9afc-4389-ba80-841ff5cc8ffc",
   "metadata": {},
   "outputs": [],
   "source": []
  },
  {
   "cell_type": "code",
   "execution_count": null,
   "id": "11bff050-1e82-4d7b-82bc-d650ea2c527d",
   "metadata": {},
   "outputs": [],
   "source": []
  },
  {
   "cell_type": "code",
   "execution_count": null,
   "id": "1dec5d8a-7127-44a9-a463-e592b1522d36",
   "metadata": {},
   "outputs": [],
   "source": []
  },
  {
   "cell_type": "code",
   "execution_count": null,
   "id": "0e0f3d14-4217-4498-a0d8-aca72ba91f25",
   "metadata": {},
   "outputs": [],
   "source": []
  },
  {
   "cell_type": "code",
   "execution_count": null,
   "id": "03fd55e9-45b6-47aa-92b7-73510ec860a3",
   "metadata": {},
   "outputs": [],
   "source": []
  },
  {
   "cell_type": "code",
   "execution_count": null,
   "id": "9d29767e-1e8b-4aa3-a17e-041ac7233109",
   "metadata": {},
   "outputs": [],
   "source": []
  },
  {
   "cell_type": "code",
   "execution_count": null,
   "id": "31015d6a-f140-4ee7-ac7c-01c770f2a799",
   "metadata": {},
   "outputs": [],
   "source": []
  },
  {
   "cell_type": "code",
   "execution_count": null,
   "id": "1826567e-fc6d-4b62-90b6-de43984b5930",
   "metadata": {},
   "outputs": [],
   "source": []
  }
 ],
 "metadata": {
  "kernelspec": {
   "display_name": "Python 3 (ipykernel)",
   "language": "python",
   "name": "python3"
  },
  "language_info": {
   "codemirror_mode": {
    "name": "ipython",
    "version": 3
   },
   "file_extension": ".py",
   "mimetype": "text/x-python",
   "name": "python",
   "nbconvert_exporter": "python",
   "pygments_lexer": "ipython3",
   "version": "3.10.4"
  }
 },
 "nbformat": 4,
 "nbformat_minor": 5
}
