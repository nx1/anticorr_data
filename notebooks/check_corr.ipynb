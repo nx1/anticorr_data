{
 "cells": [
  {
   "cell_type": "code",
   "execution_count": 1,
   "id": "377e9df9-bf7e-493b-b9dc-485c97211ea5",
   "metadata": {},
   "outputs": [],
   "source": [
    "import pandas as pd\n",
    "from astropy.table import Table, unique"
   ]
  },
  {
   "cell_type": "code",
   "execution_count": 2,
   "id": "5628d291-4499-4124-b356-ccb77c24b0b9",
   "metadata": {},
   "outputs": [
    {
     "name": "stderr",
     "output_type": "stream",
     "text": [
      "WARNING: UnitsWarning: 'sigma' did not parse as fits unit: At col 0, Unit 'sigma' not supported by the FITS standard.  If this is meant to be a custom unit, define it with 'u.def_unit'. To have it recognized inside a file reader or other code, enable it with 'u.add_enabled_units'. For details, see https://docs.astropy.org/en/latest/units/combining_and_defining.html [astropy.units.core]\n",
      "WARNING: UnitsWarning: 'mjy' did not parse as fits unit: At col 0, Unit 'mjy' not supported by the FITS standard. Did you mean Jy, MJ, MJy, mJ or mJy? If this is meant to be a custom unit, define it with 'u.def_unit'. To have it recognized inside a file reader or other code, enable it with 'u.add_enabled_units'. For details, see https://docs.astropy.org/en/latest/units/combining_and_defining.html [astropy.units.core]\n",
      "WARNING: UnitsWarning: 'mjy/arcsec2' did not parse as fits unit: At col 0, Unit 'mjy' not supported by the FITS standard. Did you mean Jy, MJ, MJy, mJ or mJy? If this is meant to be a custom unit, define it with 'u.def_unit'. To have it recognized inside a file reader or other code, enable it with 'u.add_enabled_units'. For details, see https://docs.astropy.org/en/latest/units/combining_and_defining.html [astropy.units.core]\n"
     ]
    },
    {
     "data": {
      "text/html": [
       "<div><i>Table length=124</i>\n",
       "<table id=\"table139982518456560\" class=\"table-striped table-bordered table-condensed\">\n",
       "<thead><tr><th>MET</th><th>EXTNAME</th><th>TSTART</th><th>TSTOP</th><th>EXPOSURE</th><th>TELAPSE</th><th>TIME</th><th>SRC_AREA</th><th>BKG_AREA</th><th>STD_AREA</th><th>PLATE_SCALE</th><th>RAW_TOT_CNTS</th><th>RAW_TOT_CNTS_ERR</th><th>RAW_BKG_CNTS</th><th>RAW_BKG_CNTS_ERR</th><th>RAW_STD_CNTS</th><th>RAW_STD_CNTS_ERR</th><th>RAW_TOT_RATE</th><th>RAW_TOT_RATE_ERR</th><th>RAW_BKG_RATE</th><th>RAW_BKG_RATE_ERR</th><th>RAW_STD_RATE</th><th>RAW_STD_RATE_ERR</th><th>COI_STD_FACTOR</th><th>COI_STD_FACTOR_ERR</th><th>COI_BKG_FACTOR</th><th>COI_BKG_FACTOR_ERR</th><th>COI_TOT_RATE</th><th>COI_TOT_RATE_ERR</th><th>COI_BKG_RATE</th><th>COI_BKG_RATE_ERR</th><th>COI_SRC_RATE</th><th>COI_SRC_RATE_ERR</th><th>AP_FACTOR</th><th>AP_FACTOR_ERR</th><th>AP_COI_SRC_RATE</th><th>AP_COI_SRC_RATE_ERR</th><th>LSS_FACTOR</th><th>LSS_RATE</th><th>LSS_RATE_ERR</th><th>SENSCORR_FACTOR</th><th>SENSCORR_RATE</th><th>SENSCORR_RATE_ERR</th><th>CORR_RATE</th><th>CORR_RATE_ERR</th><th>AB_MAG</th><th>AB_MAG_ERR</th><th>AB_MAG_ERR_STAT</th><th>AB_MAG_ERR_SYS</th><th>AB_MAG_BKG</th><th>AB_MAG_BKG_ERR_STAT</th><th>AB_MAG_BKG_ERR_SYS</th><th>AB_MAG_BKG_ERR</th><th>AB_MAG_LIM</th><th>AB_MAG_LIM_SIG</th><th>AB_MAG_COI_LIM</th><th>AB_FLUX_AA</th><th>AB_FLUX_AA_ERR_STAT</th><th>AB_FLUX_AA_ERR_SYS</th><th>AB_FLUX_AA_ERR</th><th>AB_FLUX_AA_BKG</th><th>AB_FLUX_AA_BKG_ERR_STAT</th><th>AB_FLUX_AA_BKG_ERR_SYS</th><th>AB_FLUX_AA_BKG_ERR</th><th>AB_FLUX_AA_LIM</th><th>AB_FLUX_AA_COI_LIM</th><th>AB_FLUX_HZ</th><th>AB_FLUX_HZ_ERR_STAT</th><th>AB_FLUX_HZ_ERR_SYS</th><th>AB_FLUX_HZ_ERR</th><th>AB_FLUX_HZ_BKG</th><th>AB_FLUX_HZ_BKG_ERR_STAT</th><th>AB_FLUX_HZ_BKG_ERR_SYS</th><th>AB_FLUX_HZ_BKG_ERR</th><th>AB_FLUX_HZ_LIM</th><th>AB_FLUX_HZ_COI_LIM</th><th>MAG</th><th>MAG_ERR</th><th>MAG_ERR_STAT</th><th>MAG_ERR_SYS</th><th>MAG_BKG</th><th>MAG_BKG_ERR_STAT</th><th>MAG_BKG_ERR_SYS</th><th>MAG_BKG_ERR</th><th>MAG_LIM</th><th>MAG_LIM_SIG</th><th>MAG_COI_LIM</th><th>FLUX_AA</th><th>FLUX_AA_ERR_STAT</th><th>FLUX_AA_ERR_SYS</th><th>FLUX_AA_ERR</th><th>FLUX_AA_BKG</th><th>FLUX_AA_BKG_ERR_STAT</th><th>FLUX_AA_BKG_ERR_SYS</th><th>FLUX_AA_BKG_ERR</th><th>FLUX_AA_LIM</th><th>FLUX_AA_COI_LIM</th><th>FLUX_HZ</th><th>FLUX_HZ_ERR_STAT</th><th>FLUX_HZ_ERR_SYS</th><th>FLUX_HZ_ERR</th><th>FLUX_HZ_BKG</th><th>FLUX_HZ_BKG_ERR_STAT</th><th>FLUX_HZ_BKG_ERR_SYS</th><th>FLUX_HZ_BKG_ERR</th><th>FLUX_HZ_LIM</th><th>FLUX_HZ_COI_LIM</th><th>COI_RATE_LIMIT</th><th>CORR_RATE_LIMIT</th><th>FILTER</th><th>RA</th><th>DEC</th><th>DETX</th><th>DETY</th><th>NSIGMA</th><th>FRAMTIME</th><th>SATURATED</th><th>SYS_ERR</th><th>OBSID</th><th>MJD_1</th><th>YEAR</th><th>MJD_0</th><th>FLAG_AB_MAG_99</th><th>FLAG_UPPER_LIM</th><th>FLAG_AB_MAG_ERR&gt;2</th><th>FLAG_AB_MAG_&gt;10_&lt;30</th><th>MJD_2</th><th>T_+ve</th><th>T_-ve</th><th>Rate</th><th>Ratepos</th><th>Rateneg</th><th>MODE</th><th>BAD</th><th>UL</th><th>BAND</th></tr></thead>\n",
       "<thead><tr><th>s</th><th></th><th>s</th><th>s</th><th>s</th><th>s</th><th>s</th><th>arcsec2</th><th>arcsec2</th><th>arcsec2</th><th>arcsec / pix</th><th>ct</th><th>ct</th><th>ct</th><th>ct</th><th>ct</th><th>ct</th><th>ct / s</th><th>ct / s</th><th>ct / (arcsec2 s)</th><th>ct / (arcsec2 s)</th><th>ct / s</th><th>ct / s</th><th></th><th></th><th></th><th></th><th>ct / s</th><th>ct / s</th><th>ct / (arcsec2 s)</th><th>ct / (arcsec2 s)</th><th>ct / s</th><th>ct / s</th><th></th><th></th><th>ct / s</th><th>ct / s</th><th></th><th>ct / s</th><th>ct / s</th><th></th><th>ct / s</th><th>ct / s</th><th>ct / s</th><th>ct / s</th><th>mag</th><th>mag</th><th>mag</th><th>mag</th><th>mag / arcsec2</th><th>mag / arcsec2</th><th>mag / arcsec2</th><th>mag / arcsec2</th><th>mag</th><th>sigma</th><th>mag</th><th>erg / (A cm2 s)</th><th>erg / (A cm2 s)</th><th>erg / (A cm2 s)</th><th>erg / (A cm2 s)</th><th>erg / (A arcsec2 cm2 s)</th><th>erg / (A arcsec2 cm2 s)</th><th>erg / (A arcsec2 cm2 s)</th><th>erg / (A arcsec2 cm2 s)</th><th>erg / (A cm2 s)</th><th>erg / (A cm2 s)</th><th>mjy</th><th>mjy</th><th>mjy</th><th>mjy</th><th>mjy/arcsec2</th><th>mjy/arcsec2</th><th>mjy/arcsec2</th><th>mjy/arcsec2</th><th>mjy</th><th>mjy</th><th>mag</th><th>mag</th><th>mag</th><th>mag</th><th>mag / arcsec2</th><th>mag / arcsec2</th><th>mag / arcsec2</th><th>mag / arcsec2</th><th>mag</th><th>sigma</th><th>mag</th><th>erg / (A cm2 s)</th><th>erg / (A cm2 s)</th><th>erg / (A cm2 s)</th><th>erg / (A cm2 s)</th><th>erg / (A arcsec2 cm2 s)</th><th>erg / (A arcsec2 cm2 s)</th><th>erg / (A arcsec2 cm2 s)</th><th>erg / (A arcsec2 cm2 s)</th><th>erg / (A cm2 s)</th><th>erg / (A cm2 s)</th><th>mjy</th><th>mjy</th><th>mjy</th><th>mjy</th><th>mjy/arcsec2</th><th>mjy/arcsec2</th><th>mjy/arcsec2</th><th>mjy/arcsec2</th><th>mjy</th><th>mjy</th><th>ct / s</th><th>ct / s</th><th></th><th>deg</th><th>deg</th><th>pix</th><th>pix</th><th></th><th>s</th><th></th><th></th><th></th><th>s</th><th></th><th>s</th><th></th><th></th><th></th><th></th><th></th><th></th><th></th><th></th><th></th><th></th><th></th><th></th><th></th><th></th></tr></thead>\n",
       "<thead><tr><th>float64</th><th>bytes12</th><th>float64</th><th>float64</th><th>float32</th><th>float32</th><th>float64</th><th>float32</th><th>float32</th><th>float32</th><th>float32</th><th>float32</th><th>float32</th><th>float32</th><th>float32</th><th>float32</th><th>float32</th><th>float32</th><th>float32</th><th>float32</th><th>float32</th><th>float32</th><th>float32</th><th>float32</th><th>float32</th><th>float32</th><th>float32</th><th>float32</th><th>float32</th><th>float32</th><th>float32</th><th>float32</th><th>float32</th><th>float32</th><th>float32</th><th>float32</th><th>float32</th><th>float32</th><th>float32</th><th>float32</th><th>float32</th><th>float32</th><th>float32</th><th>float32</th><th>float32</th><th>float32</th><th>float32</th><th>float32</th><th>float32</th><th>float32</th><th>float32</th><th>float32</th><th>float32</th><th>float32</th><th>float32</th><th>float32</th><th>float32</th><th>float32</th><th>float32</th><th>float32</th><th>float32</th><th>float32</th><th>float32</th><th>float32</th><th>float32</th><th>float32</th><th>float32</th><th>float32</th><th>float32</th><th>float32</th><th>float32</th><th>float32</th><th>float32</th><th>float32</th><th>float32</th><th>float32</th><th>float32</th><th>float32</th><th>float32</th><th>float32</th><th>float32</th><th>float32</th><th>float32</th><th>float32</th><th>float32</th><th>float32</th><th>float32</th><th>float32</th><th>float32</th><th>float32</th><th>float32</th><th>float32</th><th>float32</th><th>float32</th><th>float32</th><th>float32</th><th>float32</th><th>float32</th><th>float32</th><th>float32</th><th>float32</th><th>float32</th><th>float32</th><th>float32</th><th>float32</th><th>float32</th><th>float32</th><th>float32</th><th>float32</th><th>bytes8</th><th>float64</th><th>float64</th><th>float32</th><th>float32</th><th>float32</th><th>float32</th><th>int16</th><th>bool</th><th>bytes11</th><th>float64</th><th>float64</th><th>float64</th><th>bool</th><th>bool</th><th>bool</th><th>bool</th><th>float64</th><th>float64</th><th>float64</th><th>float64</th><th>float64</th><th>float64</th><th>bytes2</th><th>bool</th><th>bool</th><th>bytes4</th></tr></thead>\n",
       "<tr><td>304712451.0759</td><td>U</td><td>304697201.1991</td><td>304727700.9527</td><td>4739.4897</td><td>30499.754</td><td>0.0</td><td>78.530495</td><td>553.08624</td><td>78.530495</td><td>1.004</td><td>10507.416</td><td>101.26438</td><td>68825.61</td><td>259.3374</td><td>10507.416</td><td>101.26438</td><td>2.216993</td><td>0.021366095</td><td>0.026255822</td><td>9.893289e-05</td><td>2.216993</td><td>0.021366095</td><td>1.0137882</td><td>0.009890313</td><td>1.0128127</td><td>0.003859849</td><td>2.2475617</td><td>0.021926757</td><td>0.026592232</td><td>0.00010134351</td><td>0.1592606</td><td>0.023326406</td><td>1.0000088</td><td>1.0107262</td><td>0.159262</td><td>0.02357661</td><td>1.0</td><td>0.159262</td><td>0.02357661</td><td>1.0593312</td><td>0.1687112</td><td>0.024975436</td><td>0.1687112</td><td>0.024975436</td><td>21.292141</td><td>0.16072872</td><td>0.16072872</td><td>0.02</td><td>23.298113</td><td>0.004137762</td><td>0.02</td><td>0.004137762</td><td>22.204082</td><td>3.0</td><td>12.93296</td><td>2.8056673e-17</td><td>4.153415e-18</td><td>4.21778e-19</td><td>4.153415e-18</td><td>4.4222883e-18</td><td>1.6853425e-20</td><td>6.648058e-20</td><td>1.6853425e-20</td><td>1.2113211e-17</td><td>6.190251e-14</td><td>0.011087591</td><td>0.0016413695</td><td>0.00016668056</td><td>0.0016413695</td><td>0.0017476243</td><td>6.6602297e-06</td><td>2.6272162e-05</td><td>6.6602297e-06</td><td>0.004786966</td><td>24.462976</td><td>20.27214</td><td>0.16072872</td><td>0.16072872</td><td>0.02</td><td>22.278112</td><td>0.004137762</td><td>0.02</td><td>0.004137762</td><td>21.184082</td><td>3.0</td><td>11.91296</td><td>2.7466183e-17</td><td>4.066001e-18</td><td>4.21778e-19</td><td>4.066001e-18</td><td>4.329215e-18</td><td>1.6498723e-20</td><td>6.648058e-20</td><td>1.6498723e-20</td><td>1.18582735e-17</td><td>6.059969e-14</td><td>0.0112295365</td><td>0.0016623826</td><td>0.00017244373</td><td>0.0016623826</td><td>0.0017699976</td><td>6.7454957e-06</td><td>2.7180555e-05</td><td>6.7454957e-06</td><td>0.0048482497</td><td>24.776155</td><td>0.06875931</td><td>0.07283951</td><td>U</td><td>359.462083333333</td><td>-32.6240555555556</td><td>--</td><td>--</td><td>6.8226004</td><td>0.0110322</td><td>0</td><td>False</td><td>00031791003</td><td>55436.76448004514</td><td>2010.656888986425</td><td>12.727973934255715</td><td>False</td><td>False</td><td>False</td><td>False</td><td>55436.7310352998</td><td>0.143181041666667</td><td>-0.143181041666667</td><td>0.04457152</td><td>0.003749918</td><td>-0.003749918</td><td>PC</td><td>False</td><td>False</td><td>FULL</td></tr>\n",
       "<tr><td>305009747.03402</td><td>uu305009373I</td><td>305009373.07872</td><td>305010120.98932</td><td>736.11456</td><td>747.9106</td><td>0.0</td><td>78.499245</td><td>552.77075</td><td>78.499245</td><td>1.004</td><td>1736.551</td><td>41.13476</td><td>11041.527</td><td>103.832855</td><td>1736.551</td><td>41.13476</td><td>2.3590772</td><td>0.055880927</td><td>0.027135553</td><td>0.00025517866</td><td>2.3590772</td><td>0.055880927</td><td>1.0146834</td><td>0.024349999</td><td>1.0132416</td><td>0.009640734</td><td>2.3937163</td><td>0.057443526</td><td>0.027494874</td><td>0.00026160665</td><td>0.23538946</td><td>0.061003957</td><td>1.0000383</td><td>1.003475</td><td>0.23539846</td><td>0.06121594</td><td>1.0034311</td><td>0.23459356</td><td>0.061006624</td><td>1.0594354</td><td>0.2485367</td><td>0.06463257</td><td>0.2485367</td><td>0.06463257</td><td>20.871523</td><td>0.28234833</td><td>0.28234833</td><td>0.02</td><td>23.261871</td><td>0.0103305</td><td>0.02</td><td>0.0103305</td><td>21.154972</td><td>3.0</td><td>12.93296</td><td>4.1331654e-17</td><td>1.0748397e-17</td><td>6.213418e-19</td><td>1.0748397e-17</td><td>4.5723976e-18</td><td>4.3505183e-20</td><td>6.8737184e-20</td><td>4.3505183e-20</td><td>3.1834883e-17</td><td>6.190251e-14</td><td>0.016333671</td><td>0.004247611</td><td>0.00024554526</td><td>0.004247611</td><td>0.0018069453</td><td>1.7192619e-05</td><td>2.716394e-05</td><td>1.7192619e-05</td><td>0.012580685</td><td>24.462976</td><td>19.851524</td><td>0.28234833</td><td>0.28234833</td><td>0.02</td><td>22.24187</td><td>0.0103305</td><td>0.02</td><td>0.0103305</td><td>20.134972</td><td>3.0</td><td>11.91296</td><td>4.0461775e-17</td><td>1.0522183e-17</td><td>6.213418e-19</td><td>1.0522183e-17</td><td>4.4761655e-18</td><td>4.2589562e-20</td><td>6.8737184e-20</td><td>4.2589562e-20</td><td>3.1164877e-17</td><td>6.059969e-14</td><td>0.01654278</td><td>0.00430199</td><td>0.0002540353</td><td>0.00430199</td><td>0.0018300782</td><td>1.7412722e-05</td><td>2.8103166e-05</td><td>1.7412722e-05</td><td>0.012741745</td><td>24.776155</td><td>0.18130404</td><td>0.19143045</td><td>U</td><td>359.462083333333</td><td>-32.6240555555556</td><td>983.6872</td><td>1133.7332</td><td>3.8569114</td><td>0.0110322</td><td>0</td><td>False</td><td>00031791004</td><td>55440.20540548634</td><td>2010.6663161794147</td><td>16.16889937545784</td><td>False</td><td>False</td><td>False</td><td>False</td><td>55440.3077208845</td><td>0.1067603125</td><td>-0.1067603125</td><td>0.0337838</td><td>0.00341813</td><td>-0.00341813</td><td>PC</td><td>False</td><td>False</td><td>FULL</td></tr>\n",
       "<tr><td>305334746.58809</td><td>uu305334172I</td><td>305334172.21434</td><td>305335320.96184</td><td>1130.6294</td><td>1148.7476</td><td>0.0</td><td>78.451866</td><td>553.19617</td><td>78.451866</td><td>1.004</td><td>2518.584</td><td>49.574844</td><td>16533.666</td><td>127.09844</td><td>2518.584</td><td>49.574844</td><td>2.2275946</td><td>0.04384712</td><td>0.026434416</td><td>0.000203208</td><td>2.2275946</td><td>0.04384712</td><td>1.013855</td><td>0.020202657</td><td>1.0128878</td><td>0.007875668</td><td>2.258458</td><td>0.04500333</td><td>0.026775097</td><td>0.00020818869</td><td>0.15790145</td><td>0.04787546</td><td>1.0000829</td><td>1.0025961</td><td>0.15791453</td><td>0.047999755</td><td>1.0043107</td><td>0.15723673</td><td>0.047793727</td><td>1.0595493</td><td>0.16660008</td><td>0.050639812</td><td>0.16660008</td><td>0.050639812</td><td>21.305813</td><td>0.33002073</td><td>0.33002073</td><td>0.02</td><td>23.290672</td><td>0.008442098</td><td>0.02</td><td>0.008442098</td><td>21.411253</td><td>3.0</td><td>12.93296</td><td>2.7705592e-17</td><td>8.421401e-18</td><td>4.165002e-19</td><td>8.421401e-18</td><td>4.4526988e-18</td><td>3.462178e-20</td><td>6.693774e-20</td><td>3.462178e-20</td><td>2.51415e-17</td><td>6.190251e-14</td><td>0.010948849</td><td>0.0033280158</td><td>0.00016459485</td><td>0.0033280158</td><td>0.0017596422</td><td>1.3682026e-05</td><td>2.6452828e-05</td><td>1.3682026e-05</td><td>0.009935557</td><td>24.462976</td><td>20.285812</td><td>0.33002073</td><td>0.33002073</td><td>0.02</td><td>22.270672</td><td>0.008442098</td><td>0.02</td><td>0.008442098</td><td>20.391253</td><td>3.0</td><td>11.91296</td><td>2.7122491e-17</td><td>8.244162e-18</td><td>4.165002e-19</td><td>8.244162e-18</td><td>4.358986e-18</td><td>3.3893118e-20</td><td>6.693774e-20</td><td>3.3893118e-20</td><td>2.4612364e-17</td><td>6.059969e-14</td><td>0.011089019</td><td>0.0033706217</td><td>0.00017028592</td><td>0.0033706217</td><td>0.0017821694</td><td>1.3857187e-05</td><td>2.7367467e-05</td><td>1.3857187e-05</td><td>0.010062754</td><td>24.776155</td><td>0.143288</td><td>0.1511816</td><td>U</td><td>359.462083333333</td><td>-32.6240555555556</td><td>956.3807</td><td>1142.7336</td><td>3.295771</td><td>0.0110322</td><td>0</td><td>False</td><td>00031791005</td><td>55443.96697439919</td><td>2010.676621847669</td><td>19.930468288308475</td><td>False</td><td>False</td><td>False</td><td>False</td><td>55444.2585312262</td><td>0.298325636574074</td><td>-0.298325636574074</td><td>0.03838557</td><td>0.004323387</td><td>-0.004323387</td><td>PC</td><td>False</td><td>False</td><td>FULL</td></tr>\n",
       "<tr><td>305723708.87395</td><td>U</td><td>305714716.779</td><td>305732700.9689</td><td>3306.3967</td><td>17984.19</td><td>0.0</td><td>78.43574</td><td>553.054</td><td>78.43574</td><td>1.004</td><td>7304.409</td><td>84.43455</td><td>48659.445</td><td>218.0245</td><td>7304.409</td><td>84.43455</td><td>2.209175</td><td>0.025536727</td><td>0.026609985</td><td>0.00011922925</td><td>2.209175</td><td>0.025536727</td><td>1.0137391</td><td>0.011861628</td><td>1.0129716</td><td>0.0045911637</td><td>2.239527</td><td>0.026204413</td><td>0.026955163</td><td>0.00012217081</td><td>0.12527892</td><td>0.027901553</td><td>1.0000981</td><td>1.0047519</td><td>0.12529121</td><td>0.028034138</td><td>1.0</td><td>0.12529121</td><td>0.028034138</td><td>1.0596857</td><td>0.13276932</td><td>0.029707376</td><td>0.13276932</td><td>0.029707376</td><td>21.552256</td><td>0.24293545</td><td>0.24293545</td><td>0.02</td><td>23.283396</td><td>0.00492096</td><td>0.02</td><td>0.00492096</td><td>21.998734</td><td>3.0</td><td>12.93296</td><td>2.2079538e-17</td><td>4.9403366e-18</td><td>3.319233e-19</td><td>4.9403366e-18</td><td>4.4826435e-18</td><td>2.0317005e-20</td><td>6.7387904e-20</td><td>2.0317005e-20</td><td>1.463521e-17</td><td>6.190251e-14</td><td>0.008725514</td><td>0.0019523496</td><td>0.00013117128</td><td>0.0019523496</td><td>0.0017714758</td><td>8.0289865e-06</td><td>2.6630725e-05</td><td>8.0289865e-06</td><td>0.005783623</td><td>24.462976</td><td>20.532255</td><td>0.24293545</td><td>0.24293545</td><td>0.02</td><td>22.263395</td><td>0.00492096</td><td>0.02</td><td>0.00492096</td><td>20.978733</td><td>3.0</td><td>11.91296</td><td>2.1614845e-17</td><td>4.836361e-18</td><td>3.319233e-19</td><td>4.836361e-18</td><td>4.3883003e-18</td><td>1.9889408e-20</td><td>6.7387904e-20</td><td>1.9889408e-20</td><td>1.4327193e-17</td><td>6.059969e-14</td><td>0.008837219</td><td>0.001977344</td><td>0.0001357067</td><td>0.001977344</td><td>0.0017941546</td><td>8.131775e-06</td><td>2.7551514e-05</td><td>8.131775e-06</td><td>0.0058576665</td><td>24.776155</td><td>0.08303993</td><td>0.08800487</td><td>U</td><td>359.462083333333</td><td>-32.6240555555556</td><td>--</td><td>--</td><td>4.4861197</td><td>0.0110322</td><td>0</td><td>False</td><td>00031791006</td><td>55448.46885270775</td><td>2010.688955760843</td><td>24.432346596870048</td><td>False</td><td>False</td><td>False</td><td>False</td><td>55448.4378379103</td><td>0.0731803472222222</td><td>-0.0731803472222222</td><td>0.03070385</td><td>0.003674477</td><td>-0.003674477</td><td>PC</td><td>False</td><td>False</td><td>FULL</td></tr>\n",
       "<tr><td>306394347.92969</td><td>U</td><td>306385494.8665</td><td>306403200.99288</td><td>2740.9514</td><td>17706.127</td><td>0.0</td><td>78.467995</td><td>552.8806</td><td>78.467995</td><td>1.004</td><td>6165.097</td><td>77.55338</td><td>40424.383</td><td>198.71507</td><td>6165.097</td><td>77.55338</td><td>2.2492545</td><td>0.02829433</td><td>0.026675384</td><td>0.0001311288</td><td>2.2492545</td><td>0.02829433</td><td>1.0139914</td><td>0.012914434</td><td>1.0130093</td><td>0.0050373566</td><td>2.2807245</td><td>0.029047847</td><td>0.027022414</td><td>0.00013437342</td><td>0.16032988</td><td>0.030902322</td><td>1.0000677</td><td>1.0062746</td><td>0.16034074</td><td>0.031096222</td><td>1.0</td><td>0.16034074</td><td>0.031096222</td><td>1.059921</td><td>0.16994852</td><td>0.03295954</td><td>0.16994852</td><td>0.03295954</td><td>21.284206</td><td>0.21056591</td><td>0.21056591</td><td>0.02</td><td>23.28069</td><td>0.0053990027</td><td>0.02</td><td>0.0053990027</td><td>21.893059</td><td>3.0</td><td>12.93296</td><td>2.826244e-17</td><td>5.4811713e-18</td><td>4.248713e-19</td><td>5.4811713e-18</td><td>4.4938274e-18</td><td>2.23463e-20</td><td>6.7556034e-20</td><td>2.23463e-20</td><td>1.6131263e-17</td><td>6.190251e-14</td><td>0.011168906</td><td>0.0021660796</td><td>0.00016790298</td><td>0.0021660796</td><td>0.0017758956</td><td>8.830934e-06</td><td>2.6697167e-05</td><td>8.830934e-06</td><td>0.006374842</td><td>24.462976</td><td>20.264206</td><td>0.21056591</td><td>0.21056591</td><td>0.02</td><td>22.260689</td><td>0.0053990027</td><td>0.02</td><td>0.0053990027</td><td>20.87306</td><td>3.0</td><td>11.91296</td><td>2.7667618e-17</td><td>5.3658127e-18</td><td>4.248713e-19</td><td>5.3658127e-18</td><td>4.399249e-18</td><td>2.1875993e-20</td><td>6.7556034e-20</td><td>2.1875993e-20</td><td>1.579176e-17</td><td>6.059969e-14</td><td>0.011311893</td><td>0.0021938102</td><td>0.00017370844</td><td>0.0021938102</td><td>0.0017986309</td><td>8.94399e-06</td><td>2.7620254e-05</td><td>8.94399e-06</td><td>0.006456454</td><td>24.776155</td><td>0.09151099</td><td>0.09700099</td><td>U</td><td>359.462083333333</td><td>-32.6240555555556</td><td>--</td><td>--</td><td>5.184494</td><td>0.0110322</td><td>0</td><td>False</td><td>00031791007</td><td>55456.230878815855</td><td>2010.710221585797</td><td>32.19437270497292</td><td>False</td><td>False</td><td>False</td><td>False</td><td>55456.1675766368</td><td>0.0392823611111111</td><td>-0.0392823611111111</td><td>0.02755486</td><td>0.004550406</td><td>-0.004550406</td><td>PC</td><td>False</td><td>False</td><td>FULL</td></tr>\n",
       "<tr><td>306755954.02927</td><td>uu306755607I</td><td>306755607.20934</td><td>306756300.8492</td><td>682.69977</td><td>693.63983</td><td>0.0</td><td>78.56275</td><td>552.94415</td><td>78.56275</td><td>1.004</td><td>1568.955</td><td>39.1127</td><td>9878.49</td><td>98.254456</td><td>1568.955</td><td>39.1127</td><td>2.2981625</td><td>0.05729122</td><td>0.026168544</td><td>0.00026028027</td><td>2.2981625</td><td>0.05729122</td><td>1.0142994</td><td>0.025607813</td><td>1.012775</td><td>0.010187935</td><td>2.331025</td><td>0.058850914</td><td>0.026502846</td><td>0.00026660343</td><td>0.24888848</td><td>0.062467013</td><td>0.9999803</td><td>1.0036417</td><td>0.24888358</td><td>0.062694505</td><td>1.0052896</td><td>0.24757402</td><td>0.06236462</td><td>1.0600479</td><td>0.2624403</td><td>0.066109486</td><td>0.2624403</td><td>0.066109486</td><td>20.812424</td><td>0.27350014</td><td>0.27350014</td><td>0.02</td><td>23.30177</td><td>0.010921883</td><td>0.02</td><td>0.010921883</td><td>21.13297</td><td>3.0</td><td>12.93296</td><td>4.3643823e-17</td><td>1.0994007e-17</td><td>6.561008e-19</td><td>1.0994007e-17</td><td>4.4074234e-18</td><td>4.433615e-20</td><td>6.6257115e-20</td><td>4.433615e-20</td><td>3.2486602e-17</td><td>6.190251e-14</td><td>0.017247407</td><td>0.0043446724</td><td>0.0002592815</td><td>0.0043446724</td><td>0.0017417499</td><td>1.7521004e-05</td><td>2.6183852e-05</td><td>1.7521004e-05</td><td>0.012838234</td><td>24.462976</td><td>19.792423</td><td>0.27350014</td><td>0.27350014</td><td>0.02</td><td>22.281769</td><td>0.010921883</td><td>0.02</td><td>0.010921883</td><td>20.11297</td><td>3.0</td><td>11.91296</td><td>4.272528e-17</td><td>1.0762624e-17</td><td>6.561008e-19</td><td>1.0762624e-17</td><td>4.3146634e-18</td><td>4.340304e-20</td><td>6.6257115e-20</td><td>4.340304e-20</td><td>3.1802878e-17</td><td>6.059969e-14</td><td>0.017468212</td><td>0.004400294</td><td>0.0002682465</td><td>0.004400294</td><td>0.0017640481</td><td>1.7745313e-05</td><td>2.7089192e-05</td><td>1.7745313e-05</td><td>0.013002592</td><td>24.776155</td><td>0.18526196</td><td>0.19534938</td><td>U</td><td>359.462083333333</td><td>-32.6240555555556</td><td>932.42523</td><td>1143.8221</td><td>3.9829946</td><td>0.0110322</td><td>0</td><td>False</td><td>00031791008</td><td>55460.41613459803</td><td>2010.7216880399947</td><td>36.3796284871496</td><td>False</td><td>False</td><td>False</td><td>False</td><td>55460.7857310519</td><td>0.17319037037037</td><td>-0.17319037037037</td><td>0.02421162</td><td>0.004182752</td><td>-0.004182752</td><td>PC</td><td>False</td><td>False</td><td>FULL</td></tr>\n",
       "<tr><td>307098219.99616</td><td>uu307097539I</td><td>307097539.01672</td><td>307098900.9756</td><td>1340.478</td><td>1361.9589</td><td>0.0</td><td>78.499245</td><td>553.19617</td><td>78.499245</td><td>1.004</td><td>3118.095</td><td>55.13021</td><td>19199.545</td><td>136.99539</td><td>3118.095</td><td>55.13021</td><td>2.3261068</td><td>0.041127276</td><td>0.025891194</td><td>0.00018474262</td><td>2.3261068</td><td>0.041127276</td><td>1.0144755</td><td>0.018168068</td><td>1.0126277</td><td>0.0073066726</td><td>2.3597784</td><td>0.042260863</td><td>0.026218142</td><td>0.00018917849</td><td>0.30167398</td><td>0.04479413</td><td>1.0000383</td><td>1.0104711</td><td>0.3016855</td><td>0.045263175</td><td>1.0101099</td><td>0.29866603</td><td>0.044810146</td><td>1.060168</td><td>0.31663617</td><td>0.047506284</td><td>0.31663617</td><td>0.047506284</td><td>20.608599</td><td>0.16289766</td><td>0.16289766</td><td>0.02</td><td>23.313496</td><td>0.007834191</td><td>0.02</td><td>0.007834191</td><td>21.521858</td><td>3.0</td><td>12.93296</td><td>5.2656594e-17</td><td>7.900295e-18</td><td>7.9159044e-19</td><td>7.900295e-18</td><td>4.360077e-18</td><td>3.1460383e-20</td><td>6.554535e-20</td><td>3.1460383e-20</td><td>2.2706437e-17</td><td>6.190251e-14</td><td>0.020809123</td><td>0.0031220822</td><td>0.00031282508</td><td>0.0031220822</td><td>0.0017230393</td><td>1.2432688e-05</td><td>2.5902576e-05</td><td>1.2432688e-05</td><td>0.008973255</td><td>24.462976</td><td>19.588598</td><td>0.16289766</td><td>0.16289766</td><td>0.02</td><td>22.293495</td><td>0.007834191</td><td>0.02</td><td>0.007834191</td><td>20.501858</td><td>3.0</td><td>11.91296</td><td>5.1548367e-17</td><td>7.734023e-18</td><td>7.9159044e-19</td><td>7.734023e-18</td><td>4.2683136e-18</td><td>3.0798257e-20</td><td>6.554535e-20</td><td>3.0798257e-20</td><td>2.222855e-17</td><td>6.059969e-14</td><td>0.021075526</td><td>0.0031620518</td><td>0.00032364138</td><td>0.0031620518</td><td>0.001745098</td><td>1.2591854e-05</td><td>2.6798189e-05</td><td>1.2591854e-05</td><td>0.0090881325</td><td>24.776155</td><td>0.13008705</td><td>0.13653901</td><td>U</td><td>359.462083333333</td><td>-32.6240555555556</td><td>884.0366</td><td>1025.5474</td><td>6.7340674</td><td>0.0110322</td><td>0</td><td>False</td><td>00031791009</td><td>55464.37754625185</td><td>2010.7325412226078</td><td>40.34104014097102</td><td>False</td><td>False</td><td>False</td><td>False</td><td>55464.4409701426</td><td>0.0714241203703704</td><td>-0.0714241203703704</td><td>0.01992943</td><td>0.002888309</td><td>-0.002888309</td><td>PC</td><td>False</td><td>False</td><td>FULL</td></tr>\n",
       "<tr><td>307427268.16161</td><td>uu307426775I</td><td>307426775.4755</td><td>307427760.84772</td><td>969.83093</td><td>985.3722</td><td>0.0</td><td>78.483116</td><td>552.77075</td><td>78.483116</td><td>1.004</td><td>2380.672</td><td>48.13749</td><td>14195.036</td><td>117.76476</td><td>2380.672</td><td>48.13749</td><td>2.4547288</td><td>0.04963493</td><td>0.026478624</td><td>0.00021967178</td><td>2.4547288</td><td>0.04963493</td><td>1.0152867</td><td>0.020809043</td><td>1.0129148</td><td>0.008499966</td><td>2.4922535</td><td>0.051080562</td><td>0.02682059</td><td>0.0002250674</td><td>0.38729012</td><td>0.0540485</td><td>1.0000534</td><td>1.0118581</td><td>0.3873108</td><td>0.05468941</td><td>1.0062419</td><td>0.38490826</td><td>0.05435016</td><td>1.0602834</td><td>0.40811184</td><td>0.057626575</td><td>0.40811184</td><td>0.057626575</td><td>20.333052</td><td>0.15330909</td><td>0.15330909</td><td>0.02</td><td>23.28883</td><td>0.009111053</td><td>0.02</td><td>0.009111053</td><td>21.324133</td><td>3.0</td><td>12.93296</td><td>6.7869e-17</td><td>9.583299e-18</td><td>1.0202796e-18</td><td>9.583299e-18</td><td>4.460264e-18</td><td>3.7428708e-20</td><td>6.7051474e-20</td><td>3.7428708e-20</td><td>2.7241994e-17</td><td>6.190251e-14</td><td>0.026820846</td><td>0.0037871813</td><td>0.00040319972</td><td>0.0037871813</td><td>0.0017626318</td><td>1.4791284e-05</td><td>2.6497773e-05</td><td>1.4791284e-05</td><td>0.010765642</td><td>24.462976</td><td>19.313051</td><td>0.15330909</td><td>0.15330909</td><td>0.02</td><td>22.26883</td><td>0.009111053</td><td>0.02</td><td>0.009111053</td><td>20.304132</td><td>3.0</td><td>11.91296</td><td>6.644061e-17</td><td>9.381606e-18</td><td>1.0202796e-18</td><td>9.381606e-18</td><td>4.366392e-18</td><td>3.6640973e-20</td><td>6.7051474e-20</td><td>3.6640973e-20</td><td>2.6668652e-17</td><td>6.059969e-14</td><td>0.027164213</td><td>0.0038356655</td><td>0.00041714087</td><td>0.0038356655</td><td>0.0017851974</td><td>1.4980646e-05</td><td>2.7413966e-05</td><td>1.4980646e-05</td><td>0.010903466</td><td>24.776155</td><td>0.15545471</td><td>0.16381235</td><td>U</td><td>359.462083333333</td><td>-32.6240555555556</td><td>987.64557</td><td>1006.4258</td><td>7.167416</td><td>0.0110322</td><td>0</td><td>False</td><td>00031791010</td><td>55468.18597409271</td><td>2010.7429752714868</td><td>44.14946798182791</td><td>False</td><td>False</td><td>False</td><td>False</td><td>55468.2542602865</td><td>0.0741084143518519</td><td>-0.0741084143518519</td><td>0.01909502</td><td>0.002642378</td><td>-0.002642378</td><td>PC</td><td>False</td><td>False</td><td>FULL</td></tr>\n",
       "<tr><td>307815953.92047</td><td>uu307815646I</td><td>307815646.89088</td><td>307816260.95006</td><td>604.3742</td><td>614.0592</td><td>0.0</td><td>78.467995</td><td>552.8655</td><td>78.467995</td><td>1.004</td><td>1468.995</td><td>37.81832</td><td>8930.47</td><td>93.39773</td><td>1468.995</td><td>37.81832</td><td>2.430605</td><td>0.06257434</td><td>0.026726918</td><td>0.00027951872</td><td>2.430605</td><td>0.06257434</td><td>1.0151345</td><td>0.02648661</td><td>1.0130347</td><td>0.010717611</td><td>2.4673908</td><td>0.064378485</td><td>0.027075296</td><td>0.0002864487</td><td>0.3428466</td><td>0.068189494</td><td>1.0000677</td><td>1.0058978</td><td>0.34286982</td><td>0.068591654</td><td>0.9970872</td><td>0.34387144</td><td>0.06879204</td><td>1.0604199</td><td>0.3646481</td><td>0.07294844</td><td>0.3646481</td><td>0.07294844</td><td>20.455315</td><td>0.21720327</td><td>0.21720327</td><td>0.02</td><td>23.278566</td><td>0.011486771</td><td>0.02</td><td>0.011486771</td><td>21.043688</td><td>3.0</td><td>12.93296</td><td>6.064098e-17</td><td>1.2131326e-17</td><td>9.116202e-19</td><td>1.2131326e-17</td><td>4.502622e-18</td><td>4.763642e-20</td><td>6.768824e-20</td><td>4.763642e-20</td><td>3.5270958e-17</td><td>6.190251e-14</td><td>0.023964439</td><td>0.0047941245</td><td>0.00036025915</td><td>0.0047941245</td><td>0.0017793709</td><td>1.8825223e-05</td><td>2.6749414e-05</td><td>1.8825223e-05</td><td>0.013938572</td><td>24.462976</td><td>19.435314</td><td>0.21720327</td><td>0.21720327</td><td>0.02</td><td>22.258568</td><td>0.011486771</td><td>0.02</td><td>0.011486771</td><td>20.023687</td><td>3.0</td><td>11.91296</td><td>5.9364714e-17</td><td>1.1876006e-17</td><td>9.116202e-19</td><td>1.1876006e-17</td><td>4.407858e-18</td><td>4.6633848e-20</td><td>6.768824e-20</td><td>4.6633848e-20</td><td>3.4528636e-17</td><td>6.059969e-14</td><td>0.024271237</td><td>0.0048554996</td><td>0.00037271553</td><td>0.0048554996</td><td>0.0018021509</td><td>1.9066227e-05</td><td>2.7674307e-05</td><td>1.9066227e-05</td><td>0.014117017</td><td>24.776155</td><td>0.19941182</td><td>0.21209235</td><td>U</td><td>359.462083333333</td><td>-32.6240555555556</td><td>1131.4952</td><td>1181.0516</td><td>5.0280867</td><td>0.0110322</td><td>0</td><td>False</td><td>00031791011</td><td>55472.68465185729</td><td>2010.7553004160475</td><td>48.64814574641059</td><td>False</td><td>False</td><td>False</td><td>False</td><td>55472.7178742844</td><td>0.0369005671296296</td><td>-0.0369005671296296</td><td>0.03393376</td><td>0.00545829</td><td>-0.00545829</td><td>PC</td><td>False</td><td>False</td><td>FULL</td></tr>\n",
       "<tr><td>...</td><td>...</td><td>...</td><td>...</td><td>...</td><td>...</td><td>...</td><td>...</td><td>...</td><td>...</td><td>...</td><td>...</td><td>...</td><td>...</td><td>...</td><td>...</td><td>...</td><td>...</td><td>...</td><td>...</td><td>...</td><td>...</td><td>...</td><td>...</td><td>...</td><td>...</td><td>...</td><td>...</td><td>...</td><td>...</td><td>...</td><td>...</td><td>...</td><td>...</td><td>...</td><td>...</td><td>...</td><td>...</td><td>...</td><td>...</td><td>...</td><td>...</td><td>...</td><td>...</td><td>...</td><td>...</td><td>...</td><td>...</td><td>...</td><td>...</td><td>...</td><td>...</td><td>...</td><td>...</td><td>...</td><td>...</td><td>...</td><td>...</td><td>...</td><td>...</td><td>...</td><td>...</td><td>...</td><td>...</td><td>...</td><td>...</td><td>...</td><td>...</td><td>...</td><td>...</td><td>...</td><td>...</td><td>...</td><td>...</td><td>...</td><td>...</td><td>...</td><td>...</td><td>...</td><td>...</td><td>...</td><td>...</td><td>...</td><td>...</td><td>...</td><td>...</td><td>...</td><td>...</td><td>...</td><td>...</td><td>...</td><td>...</td><td>...</td><td>...</td><td>...</td><td>...</td><td>...</td><td>...</td><td>...</td><td>...</td><td>...</td><td>...</td><td>...</td><td>...</td><td>...</td><td>...</td><td>...</td><td>...</td><td>...</td><td>...</td><td>...</td><td>...</td><td>...</td><td>...</td><td>...</td><td>...</td><td>...</td><td>...</td><td>...</td><td>...</td><td>...</td><td>...</td><td>...</td><td>...</td><td>...</td><td>...</td><td>...</td><td>...</td><td>...</td><td>...</td><td>...</td><td>...</td><td>...</td><td>...</td><td>...</td><td>...</td></tr>\n",
       "<tr><td>619925091.51203</td><td>U</td><td>619893762.10166</td><td>619956420.9224</td><td>1121.2256</td><td>62658.82</td><td>0.0</td><td>78.483116</td><td>553.00665</td><td>78.483116</td><td>1.004</td><td>2311.057</td><td>47.532448</td><td>14860.21</td><td>120.62688</td><td>2311.057</td><td>47.532448</td><td>2.0611882</td><td>0.042393297</td><td>0.023966335</td><td>0.0001945453</td><td>2.0611882</td><td>0.042393297</td><td>1.0128083</td><td>0.021068383</td><td>1.0116769</td><td>0.008297544</td><td>2.0875888</td><td>0.043425906</td><td>0.024246188</td><td>0.0001988617</td><td>0.18467243</td><td>0.046145387</td><td>1.0000534</td><td>1.0037504</td><td>0.1846823</td><td>0.046318453</td><td>1.0</td><td>0.1846823</td><td>0.046318453</td><td>1.183279</td><td>0.2185307</td><td>0.05480765</td><td>0.2185307</td><td>0.05480765</td><td>21.011219</td><td>0.2723034</td><td>0.2723034</td><td>0.02</td><td>23.398392</td><td>0.008904961</td><td>0.02</td><td>0.008904961</td><td>21.33452</td><td>3.0</td><td>12.93296</td><td>3.6341654e-17</td><td>9.114513e-18</td><td>5.4632674e-19</td><td>9.114513e-18</td><td>4.032141e-18</td><td>3.3070704e-20</td><td>6.0615466e-20</td><td>3.3070704e-20</td><td>2.6982622e-17</td><td>6.190251e-14</td><td>0.014361696</td><td>0.0036019236</td><td>0.00021590042</td><td>0.0036019236</td><td>0.0015934437</td><td>1.3069062e-05</td><td>2.3954355e-05</td><td>1.3069062e-05</td><td>0.0106631415</td><td>24.462976</td><td>19.991219</td><td>0.2723034</td><td>0.2723034</td><td>0.02</td><td>22.378391</td><td>0.008904961</td><td>0.02</td><td>0.008904961</td><td>20.31452</td><td>3.0</td><td>11.91296</td><td>3.5576797e-17</td><td>8.922686e-18</td><td>5.4632674e-19</td><td>8.922686e-18</td><td>3.9472794e-18</td><td>3.2374686e-20</td><td>6.0615466e-20</td><td>3.2374686e-20</td><td>2.6414737e-17</td><td>6.059969e-14</td><td>0.014545557</td><td>0.0036480362</td><td>0.00022336544</td><td>0.0036480362</td><td>0.0016138434</td><td>1.3236376e-05</td><td>2.4782606e-05</td><td>1.3236376e-05</td><td>0.010799653</td><td>24.776155</td><td>0.1371139</td><td>0.16225268</td><td>U</td><td>359.462083333333</td><td>-32.6240555555556</td><td>--</td><td>--</td><td>3.9999874</td><td>0.0110322</td><td>0</td><td>False</td><td>00031791088</td><td>59085.05892953739</td><td>2020.6449697528344</td><td>3661.0224234265042</td><td>False</td><td>False</td><td>False</td><td>False</td><td>59085.0586004149</td><td>0.362622175925926</td><td>-0.362622175925926</td><td>0.01447933</td><td>0.005276049</td><td>-0.00426257</td><td>PC</td><td>True</td><td>False</td><td>FULL</td></tr>\n",
       "<tr><td>621206851.70771</td><td>U</td><td>621206536.08898</td><td>621207167.32644</td><td>621.28156</td><td>631.2375</td><td>0.0</td><td>78.530495</td><td>552.9129</td><td>78.530495</td><td>1.004</td><td>1299.095</td><td>35.631443</td><td>8111.749</td><td>89.136734</td><td>1299.095</td><td>35.631443</td><td>2.0909922</td><td>0.057351522</td><td>0.023613987</td><td>0.00025948457</td><td>2.0909922</td><td>0.057351522</td><td>1.0129957</td><td>0.028105848</td><td>1.0115105</td><td>0.011228898</td><td>2.1181662</td><td>0.05876911</td><td>0.023885796</td><td>0.00026515903</td><td>0.24240285</td><td>0.06234909</td><td>1.0000088</td><td>1.0034965</td><td>0.24240498</td><td>0.06256709</td><td>1.0</td><td>0.24240498</td><td>0.06256709</td><td>1.1838411</td><td>0.28696898</td><td>0.0740695</td><td>0.28696898</td><td>0.0740695</td><td>20.715412</td><td>0.28023914</td><td>0.28023914</td><td>0.02</td><td>23.41465</td><td>0.012052886</td><td>0.02</td><td>0.012052886</td><td>21.009304</td><td>3.0</td><td>12.93296</td><td>4.772294e-17</td><td>1.23177574e-17</td><td>7.1742243e-19</td><td>1.23177574e-17</td><td>3.972208e-18</td><td>4.4095948e-20</td><td>5.971449e-20</td><td>4.4095948e-20</td><td>3.6405827e-17</td><td>6.190251e-14</td><td>0.018859414</td><td>0.0048677996</td><td>0.00028351496</td><td>0.0048677996</td><td>0.0015697591</td><td>1.742608e-05</td><td>2.3598303e-05</td><td>1.742608e-05</td><td>0.014387056</td><td>24.462976</td><td>19.695414</td><td>0.28023914</td><td>0.28023914</td><td>0.02</td><td>22.394651</td><td>0.012052886</td><td>0.02</td><td>0.012052886</td><td>19.989304</td><td>3.0</td><td>11.91296</td><td>4.671855e-17</td><td>1.2058514e-17</td><td>7.1742243e-19</td><td>1.2058514e-17</td><td>3.8886075e-18</td><td>4.3167894e-20</td><td>5.971449e-20</td><td>4.3167894e-20</td><td>3.563962e-17</td><td>6.059969e-14</td><td>0.019100858</td><td>0.004930118</td><td>0.00029331783</td><td>0.004930118</td><td>0.0015898555</td><td>1.7649174e-05</td><td>2.4414243e-05</td><td>1.7649174e-05</td><td>0.014571242</td><td>24.776155</td><td>0.18491895</td><td>0.21891658</td><td>U</td><td>359.462083333333</td><td>-32.6240555555556</td><td>--</td><td>--</td><td>3.8869274</td><td>0.0110322</td><td>0</td><td>False</td><td>00031791090</td><td>59099.89411698739</td><td>2020.6855030518782</td><td>3675.8576108765046</td><td>False</td><td>False</td><td>False</td><td>False</td><td>59099.893784129</td><td>0.0036709837962963</td><td>-0.0036709837962963</td><td>0.01032107</td><td>0.005697372</td><td>-0.004208089</td><td>PC</td><td>True</td><td>False</td><td>FULL</td></tr>\n",
       "<tr><td>621883286.75923</td><td>U</td><td>621882738.80934</td><td>621883834.70912</td><td>1078.6152</td><td>1095.8998</td><td>0.0</td><td>78.467995</td><td>552.78687</td><td>78.467995</td><td>1.004</td><td>2391.409</td><td>48.30982</td><td>14253.493</td><td>118.14191</td><td>2391.409</td><td>48.30982</td><td>2.2171104</td><td>0.04478874</td><td>0.023905456</td><td>0.00019814345</td><td>2.2171104</td><td>0.04478874</td><td>1.013789</td><td>0.020731531</td><td>1.0116447</td><td>0.008472018</td><td>2.247682</td><td>0.045964092</td><td>0.024183827</td><td>0.00020252744</td><td>0.35002565</td><td>0.048633847</td><td>1.0000677</td><td>1.0119778</td><td>0.35004935</td><td>0.04921637</td><td>1.0</td><td>0.35004935</td><td>0.04921637</td><td>1.1841378</td><td>0.41450667</td><td>0.058278967</td><td>0.41450667</td><td>0.058278967</td><td>20.316172</td><td>0.15265276</td><td>0.15265276</td><td>0.02</td><td>23.401188</td><td>0.009092497</td><td>0.02</td><td>0.009092497</td><td>21.31241</td><td>3.0</td><td>12.93296</td><td>6.893246e-17</td><td>9.691792e-18</td><td>1.0362666e-18</td><td>9.691792e-18</td><td>4.0217703e-18</td><td>3.3680313e-20</td><td>6.045957e-20</td><td>3.3680313e-20</td><td>2.7537733e-17</td><td>6.190251e-14</td><td>0.027241109</td><td>0.003830056</td><td>0.00040951758</td><td>0.003830056</td><td>0.0015893455</td><td>1.3309972e-05</td><td>2.3892746e-05</td><td>1.3309972e-05</td><td>0.010882514</td><td>24.462976</td><td>19.296171</td><td>0.15265276</td><td>0.15265276</td><td>0.02</td><td>22.381187</td><td>0.009092497</td><td>0.02</td><td>0.009092497</td><td>20.29241</td><td>3.0</td><td>11.91296</td><td>6.7481686e-17</td><td>9.487815e-18</td><td>1.0362666e-18</td><td>9.487815e-18</td><td>3.937127e-18</td><td>3.2971468e-20</td><td>6.045957e-20</td><td>3.2971468e-20</td><td>2.6958165e-17</td><td>6.059969e-14</td><td>0.027589856</td><td>0.0038790891</td><td>0.00042367715</td><td>0.0038790891</td><td>0.0016096926</td><td>1.34803695e-05</td><td>2.4718867e-05</td><td>1.34803695e-05</td><td>0.011021834</td><td>24.776155</td><td>0.13983127</td><td>0.1655907</td><td>U</td><td>359.462083333333</td><td>-32.6240555555556</td><td>--</td><td>--</td><td>7.1987457</td><td>0.0110322</td><td>0</td><td>False</td><td>00031791092</td><td>59107.723226379974</td><td>2020.7068940611475</td><td>3683.686720269092</td><td>False</td><td>False</td><td>False</td><td>False</td><td>59107.7228957331</td><td>0.0063553125</td><td>-0.0063553125</td><td>0.00473739</td><td>0.003066494</td><td>-0.002179429</td><td>PC</td><td>True</td><td>False</td><td>FULL</td></tr>\n",
       "<tr><td>622044098.89465</td><td>uu622043656I</td><td>622043656.93796</td><td>622044540.85134</td><td>869.9723</td><td>883.9134</td><td>0.0</td><td>78.656494</td><td>552.8655</td><td>78.656494</td><td>1.004</td><td>1995.408</td><td>44.110233</td><td>11462.635</td><td>105.9497</td><td>1995.408</td><td>44.110233</td><td>2.2936454</td><td>0.050703034</td><td>0.023831949</td><td>0.00022027986</td><td>2.2936454</td><td>0.050703034</td><td>1.014271</td><td>0.022706471</td><td>1.0116367</td><td>0.0094474135</td><td>2.326378</td><td>0.052080594</td><td>0.024109274</td><td>0.00022515026</td><td>0.4300271</td><td>0.055009235</td><td>0.99989974</td><td>1.013909</td><td>0.429984</td><td>0.055774357</td><td>0.9999488</td><td>0.43000603</td><td>0.05577721</td><td>1.1842084</td><td>0.5092167</td><td>0.06605184</td><td>0.5092167</td><td>0.06605184</td><td>20.092743</td><td>0.14083369</td><td>0.14083369</td><td>0.02</td><td>23.40454</td><td>0.010139409</td><td>0.02</td><td>0.010139409</td><td>21.191622</td><td>3.0</td><td>12.93296</td><td>8.468274e-17</td><td>1.0984421e-17</td><td>1.2730418e-18</td><td>1.0984421e-17</td><td>4.009372e-18</td><td>3.744249e-20</td><td>6.027318e-20</td><td>3.744249e-20</td><td>3.0778233e-17</td><td>6.190251e-14</td><td>0.033465393</td><td>0.0043408843</td><td>0.0005030877</td><td>0.0043408843</td><td>0.0015844458</td><td>1.4796729e-05</td><td>2.381909e-05</td><td>1.4796729e-05</td><td>0.012163112</td><td>24.462976</td><td>19.072742</td><td>0.14083369</td><td>0.14083369</td><td>0.02</td><td>22.38454</td><td>0.010139409</td><td>0.02</td><td>0.010139409</td><td>20.171621</td><td>3.0</td><td>11.91296</td><td>8.2900484e-17</td><td>1.075324e-17</td><td>1.2730418e-18</td><td>1.075324e-17</td><td>3.9249898e-18</td><td>3.6654464e-20</td><td>6.027318e-20</td><td>3.6654464e-20</td><td>3.0130464e-17</td><td>6.059969e-14</td><td>0.033893824</td><td>0.004396457</td><td>0.00052048254</td><td>0.004396457</td><td>0.0016047303</td><td>1.4986161e-05</td><td>2.4642664e-05</td><td>1.4986161e-05</td><td>0.012318827</td><td>24.776155</td><td>0.15629482</td><td>0.18507656</td><td>U</td><td>359.462083333333</td><td>-32.6240555555556</td><td>1016.9531</td><td>1230.1469</td><td>7.821843</td><td>0.0110322</td><td>0</td><td>False</td><td>00031791093</td><td>59109.58447794734</td><td>2020.7119794479436</td><td>3685.5479718364586</td><td>False</td><td>False</td><td>False</td><td>False</td><td>59109.5841418281</td><td>0.0051219675925925</td><td>-0.0051219675925925</td><td>0.008254065</td><td>0.004240511</td><td>-0.003216219</td><td>PC</td><td>True</td><td>False</td><td>FULL</td></tr>\n",
       "<tr><td>630224416.51057</td><td>U</td><td>630223652.00656</td><td>630225181.01458</td><td>1504.8925</td><td>1529.008</td><td>0.0</td><td>78.51537</td><td>552.84937</td><td>78.51537</td><td>1.004</td><td>3310.878</td><td>56.84879</td><td>21710.963</td><td>145.66681</td><td>3310.878</td><td>56.84879</td><td>2.200076</td><td>0.037775982</td><td>0.02609557</td><td>0.00017508473</td><td>2.200076</td><td>0.037775982</td><td>1.0136818</td><td>0.017617352</td><td>1.0127312</td><td>0.0068717976</td><td>2.2301772</td><td>0.038759515</td><td>0.026427798</td><td>0.00017932347</td><td>0.15518875</td><td>0.041237563</td><td>1.000023</td><td>1.0032918</td><td>0.15519233</td><td>0.04137331</td><td>1.0</td><td>0.15519233</td><td>0.04137331</td><td>1.1878027</td><td>0.18433787</td><td>0.049143326</td><td>0.18433787</td><td>0.049143326</td><td>21.195963</td><td>0.2894505</td><td>0.2894505</td><td>0.02</td><td>23.304848</td><td>0.0073671667</td><td>0.02</td><td>0.0073671667</td><td>21.448503</td><td>3.0</td><td>12.93296</td><td>3.0655386e-17</td><td>8.172535e-18</td><td>4.6084465e-19</td><td>8.172535e-18</td><td>4.3949425e-18</td><td>2.9821493e-20</td><td>6.6069494e-20</td><td>2.9821493e-20</td><td>2.4293557e-17</td><td>6.190251e-14</td><td>0.012114565</td><td>0.0032296677</td><td>0.00018211914</td><td>0.0032296677</td><td>0.0017368178</td><td>1.1785022e-05</td><td>2.6109707e-05</td><td>1.1785022e-05</td><td>0.009600461</td><td>24.462976</td><td>20.175964</td><td>0.2894505</td><td>0.2894505</td><td>0.02</td><td>22.284847</td><td>0.0073671667</td><td>0.02</td><td>0.0073671667</td><td>20.428503</td><td>3.0</td><td>11.91296</td><td>3.0010205e-17</td><td>8.000533e-18</td><td>4.6084465e-19</td><td>8.000533e-18</td><td>4.3024455e-18</td><td>2.919386e-20</td><td>6.6069494e-20</td><td>2.919386e-20</td><td>2.3782266e-17</td><td>6.059969e-14</td><td>0.012269658</td><td>0.0032710144</td><td>0.00018841613</td><td>0.0032710144</td><td>0.0017590529</td><td>1.19358965e-05</td><td>2.7012482e-05</td><td>1.19358965e-05</td><td>0.009723369</td><td>24.776155</td><td>0.122982845</td><td>0.14608271</td><td>U</td><td>359.462083333333</td><td>-32.6240555555556</td><td>--</td><td>--</td><td>3.760562</td><td>0.0110322</td><td>0</td><td>False</td><td>00031791109</td><td>59204.26407998345</td><td>2020.9706668852007</td><td>3780.2275738725657</td><td>False</td><td>False</td><td>False</td><td>False</td><td>59204.2637329369</td><td>0.0088509953703703</td><td>-0.0088509953703703</td><td>0.02409142</td><td>0.004584291</td><td>-0.004584291</td><td>PC</td><td>False</td><td>False</td><td>FULL</td></tr>\n",
       "<tr><td>646167370.05793</td><td>uu646166959I</td><td>646166959.26924</td><td>646167780.84662</td><td>808.61945</td><td>821.5774</td><td>0.0</td><td>78.530495</td><td>552.8967</td><td>78.530495</td><td>1.004</td><td>1629.292</td><td>39.920494</td><td>10552.119</td><td>101.66503</td><td>1629.292</td><td>39.920494</td><td>2.0149057</td><td>0.049368706</td><td>0.023602145</td><td>0.00022739629</td><td>2.0149057</td><td>0.049368706</td><td>1.0125176</td><td>0.025084877</td><td>1.0115047</td><td>0.009845144</td><td>2.0401275</td><td>0.050543662</td><td>0.02387368</td><td>0.00023236651</td><td>0.16531579</td><td>0.053736825</td><td>1.0000088</td><td>1.002194</td><td>0.16531724</td><td>0.053854723</td><td>1.0051969</td><td>0.16446254</td><td>0.05357629</td><td>1.1949068</td><td>0.19651742</td><td>0.06401868</td><td>0.19651742</td><td>0.06401868</td><td>21.126497</td><td>0.35369587</td><td>0.35369587</td><td>0.02</td><td>23.415201</td><td>0.010567651</td><td>0.02</td><td>0.010567651</td><td>21.154211</td><td>3.0</td><td>12.93296</td><td>3.2680847e-17</td><td>1.0646306e-17</td><td>4.9129353e-19</td><td>1.0646306e-17</td><td>3.9701927e-18</td><td>3.864255e-20</td><td>5.9684196e-20</td><td>3.864255e-20</td><td>3.185721e-17</td><td>6.190251e-14</td><td>0.0129149975</td><td>0.004207266</td><td>0.0001941521</td><td>0.004207266</td><td>0.0015689628</td><td>1.5270976e-05</td><td>2.3586332e-05</td><td>1.5270976e-05</td><td>0.012589509</td><td>24.462976</td><td>20.106497</td><td>0.35369587</td><td>0.35369587</td><td>0.02</td><td>22.3952</td><td>0.010567651</td><td>0.02</td><td>0.010567651</td><td>20.13421</td><td>3.0</td><td>11.91296</td><td>3.1993037e-17</td><td>1.0422241e-17</td><td>4.9129353e-19</td><td>1.0422241e-17</td><td>3.886635e-18</td><td>3.7829267e-20</td><td>5.9684196e-20</td><td>3.7829267e-20</td><td>3.1186734e-17</td><td>6.059969e-14</td><td>0.013080338</td><td>0.0042611286</td><td>0.00020086515</td><td>0.0042611286</td><td>0.001589049</td><td>1.546648e-05</td><td>2.4401857e-05</td><td>1.546648e-05</td><td>0.012750682</td><td>24.776155</td><td>0.16114943</td><td>0.19156471</td><td>U</td><td>359.462083333333</td><td>-32.6240555555556</td><td>1069.6882</td><td>924.9233</td><td>3.0746746</td><td>0.0110322</td><td>0</td><td>False</td><td>00031791115</td><td>59388.78900530012</td><td>2021.4761342610961</td><td>3964.752499189235</td><td>False</td><td>False</td><td>False</td><td>False</td><td>59388.8251138686</td><td>0.0412235416666667</td><td>-0.0412235416666667</td><td>0.005219228</td><td>0.003383354</td><td>-0.002407035</td><td>PC</td><td>True</td><td>False</td><td>FULL</td></tr>\n",
       "<tr><td>646666647.56162</td><td>U</td><td>646665834.11008</td><td>646667461.01316</td><td>1601.2435</td><td>1626.9031</td><td>0.0</td><td>78.43574</td><td>552.9129</td><td>78.43574</td><td>1.004</td><td>3807.333</td><td>60.90185</td><td>25169.76</td><td>156.67862</td><td>3807.333</td><td>60.90185</td><td>2.3777351</td><td>0.038034096</td><td>0.028429221</td><td>0.00017696836</td><td>2.3777351</td><td>0.038034096</td><td>1.014801</td><td>0.016446853</td><td>1.0138693</td><td>0.0063891904</td><td>2.4129279</td><td>0.03910626</td><td>0.028823515</td><td>0.00018163971</td><td>0.15213421</td><td>0.041620642</td><td>1.0000981</td><td>1.0031847</td><td>0.15214913</td><td>0.04175319</td><td>1.0</td><td>0.15214913</td><td>0.04175319</td><td>1.1951306</td><td>0.18183807</td><td>0.049900517</td><td>0.18183807</td><td>0.049900517</td><td>21.210789</td><td>0.2979508</td><td>0.2979508</td><td>0.02</td><td>23.210632</td><td>0.0068420805</td><td>0.02</td><td>0.0068420805</td><td>21.430304</td><td>3.0</td><td>12.93296</td><td>3.0239672e-17</td><td>8.298456e-18</td><td>4.545952e-19</td><td>8.298456e-18</td><td>4.7933508e-18</td><td>3.0206684e-20</td><td>7.2058786e-20</td><td>3.0206684e-20</td><td>2.47042e-17</td><td>6.190251e-14</td><td>0.0119502805</td><td>0.0032794296</td><td>0.00017964943</td><td>0.0032794296</td><td>0.0018942627</td><td>1.1937244e-05</td><td>2.847659e-05</td><td>1.1937244e-05</td><td>0.009762743</td><td>24.462976</td><td>20.190788</td><td>0.2979508</td><td>0.2979508</td><td>0.02</td><td>22.190632</td><td>0.0068420805</td><td>0.02</td><td>0.0068420805</td><td>20.410303</td><td>3.0</td><td>11.91296</td><td>2.960324e-17</td><td>8.123804e-18</td><td>4.545952e-19</td><td>8.123804e-18</td><td>4.6924682e-18</td><td>2.9570944e-20</td><td>7.2058786e-20</td><td>2.9570944e-20</td><td>2.4184268e-17</td><td>6.059969e-14</td><td>0.012103271</td><td>0.0033214136</td><td>0.00018586103</td><td>0.0033214136</td><td>0.0019185136</td><td>1.2090068e-05</td><td>2.9461204e-05</td><td>1.2090068e-05</td><td>0.009887727</td><td>24.776155</td><td>0.12428554</td><td>0.14855202</td><td>U</td><td>359.462083333333</td><td>-32.6240555555556</td><td>--</td><td>--</td><td>3.6521616</td><td>0.0110322</td><td>0</td><td>False</td><td>00031791116</td><td>59394.567680111344</td><td>2021.4919662468803</td><td>3970.5311740004618</td><td>False</td><td>False</td><td>False</td><td>False</td><td>59394.3716553547</td><td>0.205100289351852</td><td>-0.205100289351852</td><td>0.007299268</td><td>0.002343331</td><td>-0.001945018</td><td>PC</td><td>True</td><td>False</td><td>FULL</td></tr>\n",
       "<tr><td>647240415.50564</td><td>U</td><td>647205510.08976</td><td>647275320.92152</td><td>1581.2192</td><td>69810.83</td><td>0.0</td><td>78.577866</td><td>553.00665</td><td>78.577866</td><td>1.004</td><td>3351.154</td><td>57.219196</td><td>21736.727</td><td>145.83333</td><td>3351.154</td><td>57.219196</td><td>2.119348</td><td>0.036186755</td><td>0.024858315</td><td>0.0001667763</td><td>2.119348</td><td>0.036186755</td><td>1.0131739</td><td>0.01750236</td><td>1.0121309</td><td>0.0068637705</td><td>2.1472683</td><td>0.037093595</td><td>0.02515987</td><td>0.00017062177</td><td>0.17025936</td><td>0.03944217</td><td>0.9999673</td><td>1.0042632</td><td>0.1702538</td><td>0.03961032</td><td>1.0</td><td>0.1702538</td><td>0.03961032</td><td>1.1953876</td><td>0.20351927</td><td>0.047349684</td><td>0.20351927</td><td>0.047349684</td><td>21.088486</td><td>0.25260144</td><td>0.25260144</td><td>0.02</td><td>23.358229</td><td>0.0073629254</td><td>0.02</td><td>0.0073629254</td><td>21.494982</td><td>3.0</td><td>12.93296</td><td>3.3845256e-17</td><td>7.874252e-18</td><td>5.087982e-19</td><td>7.874252e-18</td><td>4.1840863e-18</td><td>2.8374402e-20</td><td>6.2899673e-20</td><td>2.8374402e-20</td><td>2.327554e-17</td><td>6.190251e-14</td><td>0.013375155</td><td>0.0031117906</td><td>0.00020106968</td><td>0.0031117906</td><td>0.0016534904</td><td>1.1213152e-05</td><td>2.485704e-05</td><td>1.1213152e-05</td><td>0.009198157</td><td>24.462976</td><td>20.068485</td><td>0.25260144</td><td>0.25260144</td><td>0.02</td><td>22.338228</td><td>0.0073629254</td><td>0.02</td><td>0.0073629254</td><td>20.474981</td><td>3.0</td><td>11.91296</td><td>3.3132938e-17</td><td>7.708528e-18</td><td>5.087982e-19</td><td>7.708528e-18</td><td>4.0960268e-18</td><td>2.7777226e-20</td><td>6.2899673e-20</td><td>2.7777226e-20</td><td>2.2785676e-17</td><td>6.059969e-14</td><td>0.013546387</td><td>0.0031516284</td><td>0.00020802191</td><td>0.0031516284</td><td>0.0016746586</td><td>1.1356706e-05</td><td>2.5716503e-05</td><td>1.1356706e-05</td><td>0.009315914</td><td>24.776155</td><td>0.11708816</td><td>0.13996115</td><td>U</td><td>359.462083333333</td><td>-32.6240555555556</td><td>--</td><td>--</td><td>4.3140864</td><td>0.0110322</td><td>0</td><td>False</td><td>00031791117</td><td>59401.20851279676</td><td>2021.5101603090322</td><td>3977.172006685876</td><td>False</td><td>False</td><td>False</td><td>False</td><td>59401.2081576429</td><td>0.404004282407407</td><td>-0.404004282407407</td><td>0.00549272</td><td>0.002723338</td><td>-0.002067204</td><td>PC</td><td>True</td><td>False</td><td>FULL</td></tr>\n",
       "<tr><td>652812190.80349</td><td>U</td><td>652791893.30556</td><td>652832488.30142</td><td>899.0524</td><td>40594.996</td><td>0.0</td><td>78.467995</td><td>552.8343</td><td>78.467995</td><td>1.004</td><td>1841.929</td><td>42.43765</td><td>11991.201</td><td>108.35082</td><td>1841.929</td><td>42.43765</td><td>2.048745</td><td>0.04720264</td><td>0.024125855</td><td>0.00021799786</td><td>2.048745</td><td>0.04720264</td><td>1.0127301</td><td>0.023597525</td><td>1.0117532</td><td>0.009237661</td><td>2.0748258</td><td>0.04834531</td><td>0.02440941</td><td>0.00022286648</td><td>0.15946826</td><td>0.05141104</td><td>1.0000677</td><td>1.0022906</td><td>0.15947905</td><td>0.051528804</td><td>1.0</td><td>0.15947905</td><td>0.051528804</td><td>1.197887</td><td>0.19103788</td><td>0.06172568</td><td>0.19103788</td><td>0.06172568</td><td>21.157202</td><td>0.350809</td><td>0.350809</td><td>0.02</td><td>23.391108</td><td>0.009913153</td><td>0.02</td><td>0.009913153</td><td>21.194124</td><td>3.0</td><td>12.93296</td><td>3.17696e-17</td><td>1.02649805e-17</td><td>4.775947e-19</td><td>1.02649805e-17</td><td>4.059285e-18</td><td>3.7062697e-20</td><td>6.1023524e-20</td><td>3.7062697e-20</td><td>3.0707366e-17</td><td>6.190251e-14</td><td>0.012554886</td><td>0.004056572</td><td>0.00018873852</td><td>0.004056572</td><td>0.0016041707</td><td>1.4646641e-05</td><td>2.4115614e-05</td><td>1.4646641e-05</td><td>0.012135106</td><td>24.462976</td><td>20.137201</td><td>0.350809</td><td>0.350809</td><td>0.02</td><td>22.371107</td><td>0.009913153</td><td>0.02</td><td>0.009913153</td><td>20.174124</td><td>3.0</td><td>11.91296</td><td>3.1100965e-17</td><td>1.0048941e-17</td><td>4.775947e-19</td><td>1.0048941e-17</td><td>3.9738518e-18</td><td>3.6282662e-20</td><td>6.1023524e-20</td><td>3.6282662e-20</td><td>3.006109e-17</td><td>6.059969e-14</td><td>0.012715616</td><td>0.004108505</td><td>0.00019526438</td><td>0.004108505</td><td>0.0016247076</td><td>1.48341505e-05</td><td>2.494944e-05</td><td>1.48341505e-05</td><td>0.012290463</td><td>24.776155</td><td>0.15413634</td><td>0.18465042</td><td>U</td><td>359.462083333333</td><td>-32.6240555555556</td><td>--</td><td>--</td><td>3.0999398</td><td>0.0110322</td><td>0</td><td>False</td><td>00031791125</td><td>59465.69665281817</td><td>2021.6868401447073</td><td>4041.6601467072906</td><td>False</td><td>False</td><td>False</td><td>False</td><td>59465.6978744519</td><td>0.236516458333333</td><td>-0.236516458333333</td><td>0.005516055</td><td>0.003069916</td><td>-0.002265418</td><td>PC</td><td>True</td><td>False</td><td>FULL</td></tr>\n",
       "</table></div>"
      ],
      "text/plain": [
       "<Table length=124>\n",
       "      MET         EXTNAME         TSTART          TSTOP       EXPOSURE ...   Rateneg     MODE   BAD    UL   BAND \n",
       "       s                            s               s            s     ...                                       \n",
       "    float64       bytes12        float64         float64      float32  ...   float64    bytes2  bool  bool bytes4\n",
       "--------------- ------------ --------------- --------------- --------- ... ------------ ------ ----- ----- ------\n",
       " 304712451.0759            U  304697201.1991  304727700.9527 4739.4897 ... -0.003749918     PC False False   FULL\n",
       "305009747.03402 uu305009373I 305009373.07872 305010120.98932 736.11456 ...  -0.00341813     PC False False   FULL\n",
       "305334746.58809 uu305334172I 305334172.21434 305335320.96184 1130.6294 ... -0.004323387     PC False False   FULL\n",
       "305723708.87395            U   305714716.779  305732700.9689 3306.3967 ... -0.003674477     PC False False   FULL\n",
       "306394347.92969            U  306385494.8665 306403200.99288 2740.9514 ... -0.004550406     PC False False   FULL\n",
       "306755954.02927 uu306755607I 306755607.20934  306756300.8492 682.69977 ... -0.004182752     PC False False   FULL\n",
       "307098219.99616 uu307097539I 307097539.01672  307098900.9756  1340.478 ... -0.002888309     PC False False   FULL\n",
       "307427268.16161 uu307426775I  307426775.4755 307427760.84772 969.83093 ... -0.002642378     PC False False   FULL\n",
       "307815953.92047 uu307815646I 307815646.89088 307816260.95006  604.3742 ...  -0.00545829     PC False False   FULL\n",
       "            ...          ...             ...             ...       ... ...          ...    ...   ...   ...    ...\n",
       "619925091.51203            U 619893762.10166  619956420.9224 1121.2256 ...  -0.00426257     PC  True False   FULL\n",
       "621206851.70771            U 621206536.08898 621207167.32644 621.28156 ... -0.004208089     PC  True False   FULL\n",
       "621883286.75923            U 621882738.80934 621883834.70912 1078.6152 ... -0.002179429     PC  True False   FULL\n",
       "622044098.89465 uu622043656I 622043656.93796 622044540.85134  869.9723 ... -0.003216219     PC  True False   FULL\n",
       "630224416.51057            U 630223652.00656 630225181.01458 1504.8925 ... -0.004584291     PC False False   FULL\n",
       "646167370.05793 uu646166959I 646166959.26924 646167780.84662 808.61945 ... -0.002407035     PC  True False   FULL\n",
       "646666647.56162            U 646665834.11008 646667461.01316 1601.2435 ... -0.001945018     PC  True False   FULL\n",
       "647240415.50564            U 647205510.08976 647275320.92152 1581.2192 ... -0.002067204     PC  True False   FULL\n",
       "652812190.80349            U 652791893.30556 652832488.30142  899.0524 ... -0.002265418     PC  True False   FULL"
      ]
     },
     "execution_count": 2,
     "metadata": {},
     "output_type": "execute_result"
    }
   ],
   "source": [
    "tab = Table.read('../lightcurves/joined/NAME_NGC_7793_P13,U,curve_nosys_join.fits')\n",
    "tab = tab[tab['Ratepos'] > 0.0001]\n",
    "tab"
   ]
  },
  {
   "cell_type": "code",
   "execution_count": 3,
   "id": "bdfafd10-0391-4666-882a-3ff96d4da0ac",
   "metadata": {},
   "outputs": [],
   "source": [
    "import matplotlib.pyplot as plt"
   ]
  },
  {
   "cell_type": "code",
   "execution_count": 4,
   "id": "047eed48-3c39-4f77-856c-4949641ec971",
   "metadata": {},
   "outputs": [],
   "source": [
    "x = tab['Rate']\n",
    "x_err = tab['Ratepos']\n",
    "y = tab['COI_SRC_RATE']\n",
    "y_err = tab['COI_SRC_RATE_ERR']"
   ]
  },
  {
   "cell_type": "code",
   "execution_count": null,
   "id": "ca0b5b08-ed0d-4172-9067-bb9a454f86de",
   "metadata": {},
   "outputs": [],
   "source": []
  },
  {
   "cell_type": "code",
   "execution_count": 5,
   "id": "108fbe42-ef6b-4950-9479-f4f105990b4b",
   "metadata": {},
   "outputs": [
    {
     "ename": "NameError",
     "evalue": "name 'tab1' is not defined",
     "output_type": "error",
     "traceback": [
      "\u001b[0;31m---------------------------------------------------------------------------\u001b[0m",
      "\u001b[0;31mNameError\u001b[0m                                 Traceback (most recent call last)",
      "Input \u001b[0;32mIn [5]\u001b[0m, in \u001b[0;36m<cell line: 1>\u001b[0;34m()\u001b[0m\n\u001b[0;32m----> 1\u001b[0m \u001b[43mtab1\u001b[49m\n",
      "\u001b[0;31mNameError\u001b[0m: name 'tab1' is not defined"
     ]
    }
   ],
   "source": [
    "tab1"
   ]
  },
  {
   "cell_type": "code",
   "execution_count": null,
   "id": "bbb878b0-b3e7-4ad9-bc5a-25d47637149e",
   "metadata": {},
   "outputs": [],
   "source": []
  },
  {
   "cell_type": "code",
   "execution_count": null,
   "id": "f61d8ffc-e6fd-41f7-8865-2feef9d871b7",
   "metadata": {},
   "outputs": [],
   "source": []
  },
  {
   "cell_type": "code",
   "execution_count": null,
   "id": "a8df39ce-54fb-4a53-b198-bc2b0cd69adf",
   "metadata": {},
   "outputs": [],
   "source": [
    "def line(x, m, c):\n",
    "    return m*x+c"
   ]
  },
  {
   "cell_type": "code",
   "execution_count": null,
   "id": "62d6623e-ecd2-4d0d-b651-1e045ff0713a",
   "metadata": {},
   "outputs": [],
   "source": [
    "import numpy as np\n",
    "from scipy.optimize import curve_fit"
   ]
  },
  {
   "cell_type": "code",
   "execution_count": null,
   "id": "5204400a-aa5f-4429-bd91-9b0c96c8f1ec",
   "metadata": {},
   "outputs": [],
   "source": [
    "plt.figure(figsize=(6,6))\n",
    "plt.errorbar(x, y, xerr=x_err, yerr=y_err, ls='none', lw=1.0)"
   ]
  },
  {
   "cell_type": "code",
   "execution_count": null,
   "id": "e8a263da-73dc-4184-a2a7-21b43f353d1f",
   "metadata": {},
   "outputs": [],
   "source": [
    "class CorrHeatMap:\n",
    "    \"\"\"\n",
    "    Create a Correlation Heatmap via repeated sampling\n",
    "    of x, y data with errors.\n",
    "    \n",
    "    Assumes Gaussian Errors.\n",
    "    \"\"\"\n",
    "    def __init__(self, x, y, x_err, y_err):\n",
    "        self.x = x\n",
    "        self.y = y\n",
    "        self.x_err = x_err\n",
    "        self.y_err = y_err\n",
    "        \n",
    "        self.N_data = len(self.x)\n",
    "        self.N_mc = 10000\n",
    "        \n",
    "        self.x_samps = np.ndarray(shape=(self.N_mc, self.N_data))\n",
    "        self.y_samps = np.ndarray(shape=(self.N_mc, self.N_data))\n",
    "        \n",
    "    def sample(self):\n",
    "        for i in range(self.N_mc):\n",
    "            self.x_samps[i] = np.random.normal(loc=self.x, scale=self.x_err)\n",
    "            self.y_samps[i] = np.random.normal(loc=self.y, scale=self.y_err)\n",
    "\n",
    "    \n",
    "    def plot(self):\n",
    "        plt.figure(figsize=(12,12))\n",
    "        plt.hist2d(self.x_samps.flatten(), self.y_samps.flatten(), bins=300, cmap='hot')\n",
    "        plt.xlabel('XRT Rate (ct/s)')\n",
    "        plt.ylabel('UVOT Rate (ct/s)')\n",
    "        plt.show()\n"
   ]
  },
  {
   "cell_type": "code",
   "execution_count": null,
   "id": "cf01d8b0-5013-4564-8031-2bbd9807fb9a",
   "metadata": {},
   "outputs": [],
   "source": [
    "chm = CorrHeatMap(x=tab['Rate'], y=tab['COI_SRC_RATE'], x_err=tab['Ratepos'], y_err=tab['COI_SRC_RATE_ERR'])\n",
    "chm.sample()\n",
    "chm.plot()"
   ]
  },
  {
   "cell_type": "code",
   "execution_count": null,
   "id": "11743891-f1a6-435c-af6f-c8721b4dde3c",
   "metadata": {},
   "outputs": [],
   "source": [
    "tab1 = Table.read('../lightcurves/joined/NAME_NGC_7793_P13,U,curve_nosys_join.fits')\n",
    "tab2 = Table.read('../lightcurves/joined/NAME_NGC_7793_P13,U,hardrat_join,HR.fits')\n",
    "\n",
    "tab1['Ratepos'] = 2*tab1['Ratepos']\n",
    "\n",
    "mask = tab1['Ratepos'] > 0\n",
    "tab1 = tab1[mask]\n",
    "tab2 = tab2[mask]"
   ]
  },
  {
   "cell_type": "code",
   "execution_count": null,
   "id": "8cdaf0dc-f018-42ca-8e3a-24af7757646f",
   "metadata": {},
   "outputs": [],
   "source": [
    "xrt_rate  = tab1['Rate']\n",
    "xrt_hr    = tab2['Rate']\n",
    "uvot_rate = tab1['COI_SRC_RATE']\n",
    "\n",
    "xrt_rate_err  = tab1['Ratepos']\n",
    "xrt_hr_err    = tab2['Error']\n",
    "uvot_rate_err = tab1['COI_SRC_RATE_ERR']\n"
   ]
  },
  {
   "cell_type": "code",
   "execution_count": null,
   "id": "6b59a195-54d7-47bd-acf3-48bc51b8013f",
   "metadata": {},
   "outputs": [],
   "source": [
    "N_mc = 1000\n",
    "N_data = len(xrt_rate)\n",
    "\n",
    "xrt_rate_samp = np.ndarray(shape=(N_mc, N_data))\n",
    "xrt_hr_samp   = np.ndarray(shape=(N_mc, N_data))\n",
    "xrt_uvot_samp = np.ndarray(shape=(N_mc, N_data))"
   ]
  },
  {
   "cell_type": "code",
   "execution_count": null,
   "id": "69ac3406-aa46-457d-9a72-8e6c669c4f11",
   "metadata": {},
   "outputs": [],
   "source": [
    "for i in range(N_mc):\n",
    "    xrt_rate_samp[i] = np.random.normal(loc=xrt_rate, scale=xrt_rate_err)\n",
    "    xrt_hr_samp[i]   = np.random.normal(loc=xrt_hr, scale=xrt_rate_err)\n",
    "    xrt_uvot_samp[i] = np.random.normal(loc=uvot_rate, scale=uvot_rate_err)\n",
    "    "
   ]
  },
  {
   "cell_type": "code",
   "execution_count": null,
   "id": "8fcc6b2c-f8d1-4944-b856-b665dfe25356",
   "metadata": {},
   "outputs": [],
   "source": [
    "import matplotlib"
   ]
  },
  {
   "cell_type": "code",
   "execution_count": null,
   "id": "670f477b-92cb-44b8-9f33-437dafd5ae41",
   "metadata": {},
   "outputs": [],
   "source": [
    "plt.figure(figsize=(20,20))\n",
    "plt.scatter(xrt_rate_samp.flatten(), xrt_uvot_samp.flatten(), c=xrt_hr_samp, cmap='hot', s=3, marker='.', vmin=0, vmax=3)\n",
    "plt.ylim(0,0.6)\n",
    "plt.xlim(0,0.3)\n",
    "\n",
    "plt.colorbar()"
   ]
  },
  {
   "cell_type": "code",
   "execution_count": null,
   "id": "c535af43-715c-4f36-bb26-d3f0aca841fd",
   "metadata": {},
   "outputs": [],
   "source": [
    "plt.figure(figsize=(6,6))\n",
    "\n",
    "for i in range(100):\n",
    "    x_samp = np.random.normal(loc=x, scale=x_err)\n",
    "    y_samp = np.random.normal(loc=y, scale=y_err)\n",
    "\n",
    "    \n",
    "    p_opt, p_cov = curve_fit(line, x_samp, y_samp)\n",
    "    m, c = p_opt\n",
    "    \n",
    "    plt.scatter(x_samp, y_samp, marker='.')\n",
    "    plt.plot(x_samp, line(x_samp, m, c))"
   ]
  },
  {
   "cell_type": "code",
   "execution_count": null,
   "id": "a547a0c2-92e2-4f2f-b99d-64b9b891ea4a",
   "metadata": {},
   "outputs": [],
   "source": [
    "x_samps = np.ndarray(shape=(10000, 151))\n",
    "y_samps = np.ndarray(shape=(10000, 151))\n"
   ]
  },
  {
   "cell_type": "code",
   "execution_count": null,
   "id": "1f1717e9-a523-4257-930e-c893ba18e43c",
   "metadata": {},
   "outputs": [],
   "source": []
  },
  {
   "cell_type": "code",
   "execution_count": null,
   "id": "6128e208-cb8b-4024-a15b-92367c6aff9b",
   "metadata": {},
   "outputs": [],
   "source": [
    "import numpy as np"
   ]
  },
  {
   "cell_type": "code",
   "execution_count": null,
   "id": "84598b8f-94b7-4633-9327-b3c45fb00739",
   "metadata": {},
   "outputs": [],
   "source": [
    "x_samps = np.array([])\n",
    "y_samps = np.array([])\n",
    "\n",
    "for i in range(10000):\n",
    "    x_samps = np.append(x_samps, np.random.normal(loc=x, scale=x_err))\n",
    "    y_samps = np.append(y_samps, np.random.normal(loc=y, scale=y_err))\n",
    "    "
   ]
  },
  {
   "cell_type": "code",
   "execution_count": null,
   "id": "3b68201c-005b-478f-b86d-5f38d67255b3",
   "metadata": {},
   "outputs": [],
   "source": [
    "plt.figure(figsize=(12,12))\n",
    "plt.hist2d(x_samps, y_samps, bins=300, cmap='hot')\n",
    "plt.xlabel('XRT Rate')\n",
    "plt.ylabel('UVOT Rate')\n",
    "plt.xlim(0,0.2)\n",
    "plt.ylim(0,0.5)\n",
    "plt.show()"
   ]
  },
  {
   "cell_type": "code",
   "execution_count": null,
   "id": "e0feab5f-891a-4408-9a65-947a3af5c9b3",
   "metadata": {},
   "outputs": [],
   "source": []
  },
  {
   "cell_type": "code",
   "execution_count": null,
   "id": "35c40bf5-fc50-4409-acbb-7e978800c883",
   "metadata": {},
   "outputs": [],
   "source": []
  },
  {
   "cell_type": "code",
   "execution_count": null,
   "id": "b9fdaaa5-cc40-459a-9f62-53988e96af20",
   "metadata": {},
   "outputs": [],
   "source": []
  }
 ],
 "metadata": {
  "kernelspec": {
   "display_name": "Python 3 (ipykernel)",
   "language": "python",
   "name": "python3"
  },
  "language_info": {
   "codemirror_mode": {
    "name": "ipython",
    "version": 3
   },
   "file_extension": ".py",
   "mimetype": "text/x-python",
   "name": "python",
   "nbconvert_exporter": "python",
   "pygments_lexer": "ipython3",
   "version": "3.10.4"
  }
 },
 "nbformat": 4,
 "nbformat_minor": 5
}
