{
 "cells": [
  {
   "cell_type": "code",
   "execution_count": null,
   "id": "99c15426-ec7f-4414-b0a8-b2ae8b2c8dc1",
   "metadata": {},
   "outputs": [],
   "source": [
    "# UVOT responses\n",
    "rsp_v      = Table.read('/mnt/d/anticorr_data/external/swift_rsp/v.rsp')\n",
    "rsp_b      = Table.read('/mnt/d/anticorr_data/external/swift_rsp/b.rsp')\n",
    "rsp_u      = Table.read('/mnt/d/anticorr_data/external/swift_rsp/u.rsp')\n",
    "rsp_uvw1   = Table.read('/mnt/d/anticorr_data/external/swift_rsp/uvw1.rsp')\n",
    "rsp_uvm2   = Table.read('/mnt/d/anticorr_data/external/swift_rsp/uvm2.rsp')\n",
    "rsp_uvw2   = Table.read('/mnt/d/anticorr_data/external/swift_rsp/uvw2.rsp')\n",
    "rsp_ugrism = Table.read('/mnt/d/anticorr_data/external/swift_rsp/ugrism.rsp')\n",
    "rsp_vgrism = Table.read('/mnt/d/anticorr_data/external/swift_rsp/vgrism.rsp')\n",
    "rsp_white  = Table.read('/mnt/d/anticorr_data/external/swift_rsp/white.rsp')\n",
    "\n",
    "# XRT responses\n",
    "rmf_wt = Table.read('../external/swift_rsp/swxwt0to2s6_20131212v015.rmf')\n",
    "rmf_pc = Table.read('../external/swift_rsp/swxpc0to12s6_20130101v014.rmf')\n",
    "\n",
    "\n",
    "all_rsp = {'V'      : rsp_v,\n",
    "           'B'      : rsp_b,\n",
    "           'U'      : rsp_u,\n",
    "           'UVW1'   : rsp_uvw1,\n",
    "           'UVM2'   : rsp_uvm2,\n",
    "           'UVW2'   : rsp_uvw2,\n",
    "           'WHITE'  : rsp_white,\n",
    "           'ugrism' : rsp_ugrism,\n",
    "           'vgrism' : rsp_vgrism}"
   ]
  },
  {
   "cell_type": "code",
   "execution_count": null,
   "id": "854dc5a6-0f90-4b14-8b05-6c2a193a4e52",
   "metadata": {},
   "outputs": [],
   "source": []
  }
 ],
 "metadata": {
  "kernelspec": {
   "display_name": "Python 3 (ipykernel)",
   "language": "python",
   "name": "python3"
  },
  "language_info": {
   "name": ""
  }
 },
 "nbformat": 4,
 "nbformat_minor": 5
}
