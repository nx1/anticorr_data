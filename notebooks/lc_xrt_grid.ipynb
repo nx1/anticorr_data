{
 "cells": [
  {
   "cell_type": "code",
   "execution_count": 11,
   "id": "15b77ed2-8e4a-442f-87b4-3d3314a74cbc",
   "metadata": {},
   "outputs": [],
   "source": [
    "import sys\n",
    "from glob import glob\n",
    "sys.path.append('../')\n",
    "import numpy as np\n",
    "import matplotlib.pyplot as plt\n",
    "from astropy.table import Table\n",
    "\n",
    "from xrt import load_xrt, curves\n",
    "from source_names_dict import source_names_dict, source_names_readable"
   ]
  },
  {
   "cell_type": "code",
   "execution_count": 13,
   "id": "8ee99de1-d18b-48bb-9023-e5bca62388c9",
   "metadata": {},
   "outputs": [
    {
     "ename": "IndexError",
     "evalue": "list index out of range",
     "output_type": "error",
     "traceback": [
      "\u001b[0;31m---------------------------------------------------------------------------\u001b[0m",
      "\u001b[0;31mIndexError\u001b[0m                                Traceback (most recent call last)",
      "Input \u001b[0;32mIn [13]\u001b[0m, in \u001b[0;36m<cell line: 6>\u001b[0;34m()\u001b[0m\n\u001b[1;32m      4\u001b[0m simbad_name_glob \u001b[38;5;241m=\u001b[39m simbad_name\u001b[38;5;241m.\u001b[39mtranslate(\u001b[38;5;28mstr\u001b[39m\u001b[38;5;241m.\u001b[39mmaketrans(to_replace))\n\u001b[1;32m      5\u001b[0m s \u001b[38;5;241m=\u001b[39m \u001b[38;5;124mf\u001b[39m\u001b[38;5;124m'\u001b[39m\u001b[38;5;124m/mnt/d/anticorr_data/UKSSDC/\u001b[39m\u001b[38;5;132;01m{\u001b[39;00msimbad_name_glob\u001b[38;5;132;01m}\u001b[39;00m\u001b[38;5;124m/*/*/*hardrat_HR_PC.csv\u001b[39m\u001b[38;5;124m'\u001b[39m\n\u001b[0;32m----> 6\u001b[0m csv_file \u001b[38;5;241m=\u001b[39m \u001b[43mglob\u001b[49m\u001b[43m(\u001b[49m\u001b[43ms\u001b[49m\u001b[43m)\u001b[49m\u001b[43m[\u001b[49m\u001b[38;5;241;43m0\u001b[39;49m\u001b[43m]\u001b[49m\n",
      "\u001b[0;31mIndexError\u001b[0m: list index out of range"
     ]
    }
   ],
   "source": [
    "# Fix glob square bracket issue\n",
    "to_replace = {'[':'[[]',\n",
    "              ']':'[]]'}\n",
    "simbad_name_glob = simbad_name.translate(str.maketrans(to_replace))\n",
    "s = f'/mnt/d/anticorr_data/UKSSDC/{simbad_name_glob}/*/*/*hardrat_HR_PC.csv'\n"
   ]
  },
  {
   "cell_type": "code",
   "execution_count": 20,
   "id": "0f6dc843-9b8b-41c3-9f3c-3392ee093f56",
   "metadata": {},
   "outputs": [
    {
     "data": {
      "text/plain": [
       "['/mnt/d/anticorr_data/lightcurves/xrt/ESO_243-49_HLX-1,curve_nosys_join.csv',\n",
       " '/mnt/d/anticorr_data/lightcurves/xrt/ESO_243-49_HLX-1,hardrat_join.csv']"
      ]
     },
     "execution_count": 20,
     "metadata": {},
     "output_type": "execute_result"
    }
   ],
   "source": [
    "glob(f'/mnt/d/anticorr_data/lightcurves/xrt/*{simbad_name_glob}*')"
   ]
  },
  {
   "cell_type": "code",
   "execution_count": 10,
   "id": "8b02b62e-eec5-4281-a440-372ead0a986c",
   "metadata": {},
   "outputs": [
    {
     "ename": "IndexError",
     "evalue": "list index out of range",
     "output_type": "error",
     "traceback": [
      "\u001b[0;31m---------------------------------------------------------------------------\u001b[0m",
      "\u001b[0;31mIndexError\u001b[0m                                Traceback (most recent call last)",
      "Input \u001b[0;32mIn [10]\u001b[0m, in \u001b[0;36m<cell line: 6>\u001b[0;34m()\u001b[0m\n\u001b[1;32m      4\u001b[0m lcs_hr \u001b[38;5;241m=\u001b[39m {}\n\u001b[1;32m      6\u001b[0m \u001b[38;5;28;01mfor\u001b[39;00m simbad_name, local_name \u001b[38;5;129;01min\u001b[39;00m source_names_dict\u001b[38;5;241m.\u001b[39mitems():\n\u001b[0;32m----> 7\u001b[0m     lcs_pc[simbad_name] \u001b[38;5;241m=\u001b[39m \u001b[43mload_xrt\u001b[49m\u001b[43m(\u001b[49m\u001b[43msimbad_name\u001b[49m\u001b[43m,\u001b[49m\u001b[43m \u001b[49m\u001b[43mcurve\u001b[49m\u001b[38;5;241;43m=\u001b[39;49m\u001b[38;5;124;43m'\u001b[39;49m\u001b[38;5;124;43mPC\u001b[39;49m\u001b[38;5;124;43m'\u001b[39;49m\u001b[43m,\u001b[49m\u001b[43m \u001b[49m\u001b[43mpandas\u001b[49m\u001b[38;5;241;43m=\u001b[39;49m\u001b[38;5;28;43;01mFalse\u001b[39;49;00m\u001b[43m)\u001b[49m\n",
      "File \u001b[0;32m/mnt/d/anticorr_data/notebooks/../xrt.py:53\u001b[0m, in \u001b[0;36mload_xrt\u001b[0;34m(simbad_name, curve, pandas)\u001b[0m\n\u001b[1;32m     50\u001b[0m \u001b[38;5;28;01melif\u001b[39;00m curve \u001b[38;5;241m==\u001b[39m \u001b[38;5;124m'\u001b[39m\u001b[38;5;124mHR\u001b[39m\u001b[38;5;124m'\u001b[39m:\n\u001b[1;32m     51\u001b[0m     s \u001b[38;5;241m=\u001b[39m \u001b[38;5;124mf\u001b[39m\u001b[38;5;124m'\u001b[39m\u001b[38;5;124m/mnt/d/anticorr_data/UKSSDC/\u001b[39m\u001b[38;5;132;01m{\u001b[39;00msimbad_name_glob\u001b[38;5;132;01m}\u001b[39;00m\u001b[38;5;124m/*/*/*hardrat_HR_PC.csv\u001b[39m\u001b[38;5;124m'\u001b[39m\n\u001b[0;32m---> 53\u001b[0m csv_file \u001b[38;5;241m=\u001b[39m \u001b[43mglob\u001b[49m\u001b[43m(\u001b[49m\u001b[43ms\u001b[49m\u001b[43m)\u001b[49m\u001b[43m[\u001b[49m\u001b[38;5;241;43m0\u001b[39;49m\u001b[43m]\u001b[49m\n\u001b[1;32m     54\u001b[0m logging\u001b[38;5;241m.\u001b[39mdebug(\u001b[38;5;124mf\u001b[39m\u001b[38;5;124m'\u001b[39m\u001b[38;5;124mLoading file: \u001b[39m\u001b[38;5;132;01m{\u001b[39;00mcsv_file\u001b[38;5;132;01m}\u001b[39;00m\u001b[38;5;124m'\u001b[39m)\n\u001b[1;32m     55\u001b[0m df \u001b[38;5;241m=\u001b[39m pd\u001b[38;5;241m.\u001b[39mread_csv(csv_file, dtype\u001b[38;5;241m=\u001b[39m{\u001b[38;5;124m'\u001b[39m\u001b[38;5;124mobsID\u001b[39m\u001b[38;5;124m'\u001b[39m:\u001b[38;5;28mstr\u001b[39m})\n",
      "\u001b[0;31mIndexError\u001b[0m: list index out of range"
     ]
    }
   ],
   "source": [
    "lcs_pc = {}\n",
    "lcs_hard = {}\n",
    "lcs_soft = {}\n",
    "lcs_hr = {}\n",
    "\n",
    "for simbad_name, local_name in source_names_dict.items():\n",
    "    lcs_pc[simbad_name] = load_xrt(simbad_name, curve='PC', pandas=False)\n"
   ]
  },
  {
   "cell_type": "code",
   "execution_count": 3,
   "id": "338dd825-5258-483f-be0d-0998e1c8c6f1",
   "metadata": {},
   "outputs": [
    {
     "data": {
      "text/plain": [
       "{}"
      ]
     },
     "execution_count": 3,
     "metadata": {},
     "output_type": "execute_result"
    }
   ],
   "source": [
    "lc_pc_mean = {}\n",
    "for simbad_name, lc in lcs_pc.items():\n",
    "    lc_pc_mean[simbad_name] = lc['RATE'].mean()\n",
    "    \n",
    "lc_pc_mean"
   ]
  },
  {
   "cell_type": "code",
   "execution_count": 4,
   "id": "0b1aef5a-e988-4923-b011-7b6a9eb9b8c5",
   "metadata": {},
   "outputs": [
    {
     "data": {
      "text/plain": [
       "[]"
      ]
     },
     "execution_count": 4,
     "metadata": {},
     "output_type": "execute_result"
    }
   ],
   "source": [
    "simbad_names_by_mean = sorted(lc_pc_mean, key=lc_pc_mean.get)\n",
    "simbad_names_by_mean"
   ]
  },
  {
   "cell_type": "code",
   "execution_count": null,
   "id": "c4efca7f-9894-42c7-8477-48f3d2b46fcd",
   "metadata": {},
   "outputs": [],
   "source": []
  },
  {
   "cell_type": "code",
   "execution_count": 5,
   "id": "e3295895-a222-4396-8bb1-a65aece333ad",
   "metadata": {
    "jupyter": {
     "source_hidden": true
    },
    "tags": []
   },
   "outputs": [
    {
     "data": {
      "text/plain": [
       "<Figure size 720x1152 with 0 Axes>"
      ]
     },
     "metadata": {},
     "output_type": "display_data"
    }
   ],
   "source": [
    "plt.figure(figsize=(10,16))\n",
    "\n",
    "height = 0\n",
    "for simbad_name in simbad_names_by_mean:\n",
    "    lc = lcs_pc[simbad_name]\n",
    "    readable_name = source_names_readable[simbad_name]\n",
    "    print(simbad_name)\n",
    "    \n",
    "    if len(lc) == 0:\n",
    "        continue\n",
    "    elif lc['RATE'].max() > 2:\n",
    "        continue\n",
    "    elif len(lc) < 30:\n",
    "        continue\n",
    "    #plt.plot(lc['RATE']-np.mean(lc['RATE'])+height, label=simbad_name)\n",
    "    xplot = np.arange(len(lc))\n",
    "    yplot = lc['RATE']-np.mean(lc['RATE'])+height\n",
    "    yerr  = lc['RATE_ERR']\n",
    "    \n",
    "    plt.errorbar(x=xplot, y=yplot, yerr=yerr, label=simbad_name, ls='none', lw=1.0, capsize=1.0)\n",
    "\n",
    "    #plt.text(s=readable_name, x=len(lc['RATE'])+5, y=height)\n",
    "    height += 1\n",
    "\n",
    "\n",
    "#plt.legend()\n",
    "#plt.axis('off') \n",
    "plt.show()"
   ]
  },
  {
   "cell_type": "code",
   "execution_count": 6,
   "id": "a28f662c-a6d2-41af-8a65-e1d0b6c66c01",
   "metadata": {},
   "outputs": [
    {
     "data": {
      "image/png": "[encoded data removed]",
      "text/plain": [
       "<Figure size 720x1440 with 3 Axes>"
      ]
     },
     "metadata": {
      "needs_background": "light"
     },
     "output_type": "display_data"
    }
   ],
   "source": [
    "\n",
    "fig, ax = plt.subplots(int(len(simbad_names_by_mean)/3)+1,3, figsize=(10,20), sharey='row')\n",
    "axes = ax.flatten()\n",
    "i=0\n",
    "for simbad_name in simbad_names_by_mean:\n",
    "    lc = lcs_pc[simbad_name]\n",
    "    readable_name = source_names_readable[simbad_name]\n",
    "    \n",
    "    xplot = np.arange(len(lc))\n",
    "    yplot = lc['RATE']\n",
    "    yerr  = lc['RATE_ERR']\n",
    "    \n",
    "    axes[i].errorbar(x=xplot, y=yplot, yerr=yerr, label=readable_name, ls='none', lw=1.0, capsize=1.0, color='black')\n",
    "    #axes[i].text(s=readable_name, x=len(lc['RATE'])+5, y=np.mean(lc['RATE']))\n",
    "    #axes[i].set_title(readable_name)\n",
    "    axes[i].legend()\n",
    "    #axes[i].axis('off')\n",
    "    axes[i].get_xaxis().set_visible(False)\n",
    "    i+=1\n",
    "    \n",
    "plt.subplots_adjust(wspace=0, hspace=0)\n",
    "#plt.tight_layout()"
   ]
  },
  {
   "cell_type": "code",
   "execution_count": 7,
   "id": "3ce680f2-3a71-41ad-baca-edbaeaec6b0d",
   "metadata": {},
   "outputs": [
    {
     "ename": "KeyError",
     "evalue": "'NAME_NGC_7793_P13'",
     "output_type": "error",
     "traceback": [
      "\u001b[0;31m---------------------------------------------------------------------------\u001b[0m",
      "\u001b[0;31mKeyError\u001b[0m                                  Traceback (most recent call last)",
      "Input \u001b[0;32mIn [7]\u001b[0m, in \u001b[0;36m<cell line: 1>\u001b[0;34m()\u001b[0m\n\u001b[0;32m----> 1\u001b[0m LC \u001b[38;5;241m=\u001b[39m \u001b[43mlcs_pc\u001b[49m\u001b[43m[\u001b[49m\u001b[38;5;124;43m'\u001b[39;49m\u001b[38;5;124;43mNAME_NGC_7793_P13\u001b[39;49m\u001b[38;5;124;43m'\u001b[39;49m\u001b[43m]\u001b[49m\n\u001b[1;32m      2\u001b[0m plt\u001b[38;5;241m.\u001b[39mfigure(figsize\u001b[38;5;241m=\u001b[39m(\u001b[38;5;241m10\u001b[39m,\u001b[38;5;241m8\u001b[39m))\n\u001b[1;32m      3\u001b[0m plt\u001b[38;5;241m.\u001b[39merrorbar(LC[\u001b[38;5;124m'\u001b[39m\u001b[38;5;124mMJD_0\u001b[39m\u001b[38;5;124m'\u001b[39m], LC[\u001b[38;5;124m'\u001b[39m\u001b[38;5;124mRATE\u001b[39m\u001b[38;5;124m'\u001b[39m], yerr\u001b[38;5;241m=\u001b[39mLC[\u001b[38;5;124m'\u001b[39m\u001b[38;5;124mRATE_ERR\u001b[39m\u001b[38;5;124m'\u001b[39m], ls\u001b[38;5;241m=\u001b[39m\u001b[38;5;124m'\u001b[39m\u001b[38;5;124mnone\u001b[39m\u001b[38;5;124m'\u001b[39m, lw\u001b[38;5;241m=\u001b[39m\u001b[38;5;241m1.0\u001b[39m, capsize\u001b[38;5;241m=\u001b[39m\u001b[38;5;241m1.0\u001b[39m, color\u001b[38;5;241m=\u001b[39m\u001b[38;5;124m'\u001b[39m\u001b[38;5;124mblack\u001b[39m\u001b[38;5;124m'\u001b[39m)\n",
      "\u001b[0;31mKeyError\u001b[0m: 'NAME_NGC_7793_P13'"
     ]
    }
   ],
   "source": [
    "LC = lcs_pc['NAME_NGC_7793_P13']\n",
    "plt.figure(figsize=(10,8))\n",
    "plt.errorbar(LC['MJD_0'], LC['RATE'], yerr=LC['RATE_ERR'], ls='none', lw=1.0, capsize=1.0, color='black')\n",
    "#plt.xlim(2200, 3500)"
   ]
  },
  {
   "cell_type": "code",
   "execution_count": null,
   "id": "c6c35afa-49d9-4448-a269-5785eea23241",
   "metadata": {},
   "outputs": [],
   "source": []
  },
  {
   "cell_type": "code",
   "execution_count": null,
   "id": "558a2497-7bc7-4a67-a54c-2ba24307dec8",
   "metadata": {},
   "outputs": [],
   "source": []
  },
  {
   "cell_type": "code",
   "execution_count": null,
   "id": "dc4e409a-b1e4-4a3c-af6f-b8a421ce9858",
   "metadata": {},
   "outputs": [],
   "source": []
  },
  {
   "cell_type": "code",
   "execution_count": null,
   "id": "fbfbf868-c11b-4154-8806-900ca4165d6e",
   "metadata": {},
   "outputs": [],
   "source": []
  },
  {
   "cell_type": "code",
   "execution_count": null,
   "id": "7f80a73e-7a97-4b6b-9bfa-f47e8c312622",
   "metadata": {},
   "outputs": [],
   "source": []
  }
 ],
 "metadata": {
  "kernelspec": {
   "display_name": "Python 3 (ipykernel)",
   "language": "python",
   "name": "python3"
  },
  "language_info": {
   "codemirror_mode": {
    "name": "ipython",
    "version": 3
   },
   "file_extension": ".py",
   "mimetype": "text/x-python",
   "name": "python",
   "nbconvert_exporter": "python",
   "pygments_lexer": "ipython3",
   "version": "3.10.4"
  }
 },
 "nbformat": 4,
 "nbformat_minor": 5
}
