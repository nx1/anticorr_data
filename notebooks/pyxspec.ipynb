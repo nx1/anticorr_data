{
 "cells": [
  {
   "cell_type": "code",
   "execution_count": 8,
   "id": "d15dd47d-4bc6-43f0-9931-b1934090aaf7",
   "metadata": {},
   "outputs": [],
   "source": [
    "import xspec"
   ]
  },
  {
   "cell_type": "code",
   "execution_count": 9,
   "id": "a4e36513-6312-4a1c-9b2f-542cc0f89fb2",
   "metadata": {},
   "outputs": [
    {
     "name": "stdout",
     "output_type": "stream",
     "text": [
      "***Warning: Detected response matrix energy bin value = 0 (or neg).\n",
      "     XSPEC will instead use small finite value (response file will not be altered).\n",
      "PC_exp.arf is not a valid arf file.\n",
      "New filename ( \"none\" or \"/*\" to return to the XSPEC prompt): No such file: .bck\n",
      "New filename ( \"none\" or \"/*\" to return to the XSPEC prompt): No such file: .bck\n",
      "New filename ( \"none\" or \"/*\" to return to the XSPEC prompt): No such file: .bck\n",
      "\n"
     ]
    },
    {
     "name": "stderr",
     "output_type": "stream",
     "text": [
      "\n",
      "***XSPEC Error:  cannot open file named: PCback.pi\n",
      "Error: cannot read background file \n",
      "terminated at user request\n"
     ]
    },
    {
     "ename": "ValueError",
     "evalue": "PyCapsule_New called with null pointer",
     "output_type": "error",
     "traceback": [
      "\u001b[0;31m---------------------------------------------------------------------------\u001b[0m",
      "\u001b[0;31mValueError\u001b[0m                                Traceback (most recent call last)",
      "Input \u001b[0;32mIn [9]\u001b[0m, in \u001b[0;36m<cell line: 1>\u001b[0;34m()\u001b[0m\n\u001b[0;32m----> 1\u001b[0m \u001b[43mxspec\u001b[49m\u001b[38;5;241;43m.\u001b[39;49m\u001b[43mSpectrum\u001b[49m\u001b[43m(\u001b[49m\u001b[38;5;124;43m'\u001b[39;49m\u001b[38;5;124;43m../download_scripts/NGC1313/PC_grp.pi\u001b[39;49m\u001b[38;5;124;43m'\u001b[39;49m\u001b[43m)\u001b[49m\n",
      "File \u001b[0;32m~/heasoft-6.29/x86_64-pc-linux-gnu-libc2.31/lib/python/xspec/spectrum.py:197\u001b[0m, in \u001b[0;36mSpectrum.__init__\u001b[0;34m(self, dataFile, backFile, respFile, arfFile)\u001b[0m\n\u001b[1;32m    195\u001b[0m     \u001b[38;5;28mself\u001b[39m\u001b[38;5;241m.\u001b[39m__handle \u001b[38;5;241m=\u001b[39m dataFile\n\u001b[1;32m    196\u001b[0m \u001b[38;5;28;01melse\u001b[39;00m:\n\u001b[0;32m--> 197\u001b[0m     \u001b[38;5;28mself\u001b[39m\u001b[38;5;241m.\u001b[39m__handle \u001b[38;5;241m=\u001b[39m \u001b[43m_pyXspec\u001b[49m\u001b[38;5;241;43m.\u001b[39;49m\u001b[43mreadSpectrum\u001b[49m\u001b[43m(\u001b[49m\u001b[43mdataFile\u001b[49m\u001b[43m)\u001b[49m\n\u001b[1;32m    198\u001b[0m \u001b[38;5;28mself\u001b[39m\u001b[38;5;241m.\u001b[39m__detArray \u001b[38;5;241m=\u001b[39m _DetArrayEmulator(\u001b[38;5;28mself\u001b[39m\u001b[38;5;241m.\u001b[39m__handle)\n\u001b[1;32m    199\u001b[0m specIdx \u001b[38;5;241m=\u001b[39m _pyXspec\u001b[38;5;241m.\u001b[39mgetIndexFromHandle(\u001b[38;5;28mself\u001b[39m\u001b[38;5;241m.\u001b[39m__handle)\n",
      "\u001b[0;31mValueError\u001b[0m: PyCapsule_New called with null pointer"
     ]
    }
   ],
   "source": [
    "xspec.Spectrum('../download_scripts/NGC1313/PC_grp.pi')"
   ]
  },
  {
   "cell_type": "code",
   "execution_count": 4,
   "id": "f45be7b2-b737-4553-95b0-9350c5aa0903",
   "metadata": {},
   "outputs": [
    {
     "name": "stderr",
     "output_type": "stream",
     "text": [
      "Error: cannot read spectrum file data.pha\n",
      "terminated at user request\n"
     ]
    },
    {
     "name": "stdout",
     "output_type": "stream",
     "text": [
      "New filename ( \"none\" or \"/*\" to return to the XSPEC prompt): No such file: .pha\n",
      "New filename ( \"none\" or \"/*\" to return to the XSPEC prompt): No such file: .pha\n",
      "New filename ( \"none\" or \"/*\" to return to the XSPEC prompt): "
     ]
    }
   ],
   "source": [
    "xspec.AllData('data 1:1 ../download_scripts/NGC1313/PC_grp.pi')"
   ]
  },
  {
   "cell_type": "code",
   "execution_count": null,
   "id": "e0bf8a7b-876f-4318-9eaf-590be7526485",
   "metadata": {},
   "outputs": [],
   "source": []
  }
 ],
 "metadata": {
  "kernelspec": {
   "display_name": "Python 3 (ipykernel)",
   "language": "python",
   "name": "python3"
  },
  "language_info": {
   "codemirror_mode": {
    "name": "ipython",
    "version": 3
   },
   "file_extension": ".py",
   "mimetype": "text/x-python",
   "name": "python",
   "nbconvert_exporter": "python",
   "pygments_lexer": "ipython3",
   "version": "3.8.10"
  }
 },
 "nbformat": 4,
 "nbformat_minor": 5
}
