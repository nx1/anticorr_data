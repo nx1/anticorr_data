{
 "cells": [
  {
   "cell_type": "code",
   "execution_count": 70,
   "id": "d7a8abe7-3089-4bea-a6d6-85ada9165725",
   "metadata": {},
   "outputs": [],
   "source": [
    "import numpy as np\n",
    "import matplotlib.pyplot as plt\n",
    "from matplotlib.collections import LineCollection"
   ]
  },
  {
   "cell_type": "code",
   "execution_count": 71,
   "id": "877087b2-af5e-44f4-b6bd-cdfea8793daf",
   "metadata": {},
   "outputs": [],
   "source": [
    "hot = plt.get_cmap('hot')"
   ]
  },
  {
   "cell_type": "code",
   "execution_count": 72,
   "id": "2ed2c934-80c4-42b4-b893-9cbbf0e018f0",
   "metadata": {},
   "outputs": [],
   "source": [
    "x_disk = [1.25, 3]\n",
    "y_disk = [0, 0.4]\n",
    "\n",
    "x_disk = np.linspace(1.25, 10,100)\n",
    "y_disk = (1-x_disk**-0.5)\n",
    "T_disk = x_disk**-0.5"
   ]
  },
  {
   "cell_type": "code",
   "execution_count": 103,
   "id": "75428260-c063-4e04-9cad-1cbea45e9586",
   "metadata": {},
   "outputs": [
    {
     "data": {
      "text/plain": [
       "[]"
      ]
     },
     "execution_count": 103,
     "metadata": {},
     "output_type": "execute_result"
    },
    {
     "data": {
      "image/png": "[encoded data removed]",
      "text/plain": [
       "<Figure size 432x432 with 1 Axes>"
      ]
     },
     "metadata": {},
     "output_type": "display_data"
    }
   ],
   "source": [
    "bh = plt.Circle((0, 0), 1, color='black')\n",
    "ns = plt.Circle((0, -5), 1, color='blue')\n",
    "\n",
    "fig, ax = plt.subplots(figsize=(6,6), facecolor='white') # note we must use plt.subplots, not plt.subplot\n",
    "\n",
    "ax.add_patch(bh)\n",
    "ax.add_patch(ns)\n",
    "\n",
    "\n",
    "ax.plot(x_disk,y_disk, color='red')\n",
    "ax.plot(x_disk,-y_disk, color='red')\n",
    "ax.set_xlim(-10,10)\n",
    "ax.set_ylim(-10,10)\n",
    "ax.set_xticks([1.25])\n",
    "ax.set_yticks([])\n"
   ]
  },
  {
   "cell_type": "code",
   "execution_count": null,
   "id": "1af1434e-9e8a-4785-9cda-9ab8fe2f9e8d",
   "metadata": {},
   "outputs": [],
   "source": []
  },
  {
   "cell_type": "code",
   "execution_count": 77,
   "id": "91e6bcca-8c85-4f75-9b41-8feb758fe778",
   "metadata": {},
   "outputs": [],
   "source": []
  },
  {
   "cell_type": "code",
   "execution_count": 78,
   "id": "1417c45f-bab5-4e78-8a4f-a097a1125f4c",
   "metadata": {},
   "outputs": [],
   "source": []
  },
  {
   "cell_type": "code",
   "execution_count": 79,
   "id": "7e93dcd7-a5a7-45bd-944e-a00d7763682d",
   "metadata": {},
   "outputs": [
    {
     "data": {
      "text/plain": [
       "<matplotlib.collections.LineCollection at 0x7f84f8df39d0>"
      ]
     },
     "execution_count": 79,
     "metadata": {},
     "output_type": "execute_result"
    }
   ],
   "source": []
  },
  {
   "cell_type": "code",
   "execution_count": null,
   "id": "5a78b468-8beb-4df7-941c-9a73c761052b",
   "metadata": {},
   "outputs": [],
   "source": []
  }
 ],
 "metadata": {
  "kernelspec": {
   "display_name": "Python 3 (ipykernel)",
   "language": "python",
   "name": "python3"
  },
  "language_info": {
   "codemirror_mode": {
    "name": "ipython",
    "version": 3
   },
   "file_extension": ".py",
   "mimetype": "text/x-python",
   "name": "python",
   "nbconvert_exporter": "python",
   "pygments_lexer": "ipython3",
   "version": "3.10.4"
  }
 },
 "nbformat": 4,
 "nbformat_minor": 5
}
