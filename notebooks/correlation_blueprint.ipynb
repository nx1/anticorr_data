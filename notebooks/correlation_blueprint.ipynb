{
 "cells": [
  {
   "cell_type": "code",
   "execution_count": 1,
   "id": "5ec24ae3-0aa3-484f-aefe-53d38668f429",
   "metadata": {},
   "outputs": [],
   "source": [
    "import sys\n",
    "from glob import glob\n",
    "sys.path.append('../')\n",
    "import numpy as np\n",
    "import matplotlib.pyplot as plt\n",
    "from astropy.table import unique, join\n",
    "from scipy import signal\n",
    "from scipy.stats import pearsonr\n",
    "from tqdm import tqdm\n",
    "import pandas as pd\n",
    "from scipy.optimize import curve_fit"
   ]
  },
  {
   "cell_type": "code",
   "execution_count": 2,
   "id": "a077e3f2-001d-44bd-9cf1-51bd978f99b0",
   "metadata": {},
   "outputs": [
    {
     "name": "stderr",
     "output_type": "stream",
     "text": [
      "WARNING: hdu= was not specified but multiple tables are present, reading in first available table (hdu=1) [astropy.io.fits.connect]\n"
     ]
    }
   ],
   "source": [
    "from source_names_dict import source_names_dict, source_names_w_counterparts, source_names_readable\n",
    "from get_closest_srcreg import get_src_region_dict\n",
    "from uvot import read_uvotsource, calc_uvot_flags, filters, filter_colors, filter_markers\n",
    "from xrt import load_xrt, rename_xrt_cols, curves\n",
    "from lightcurve import LightCurve"
   ]
  },
  {
   "cell_type": "code",
   "execution_count": 3,
   "id": "3956aeb4-216b-4ad8-aeb8-7ac45a69e441",
   "metadata": {},
   "outputs": [],
   "source": [
    "import matplotlib\n",
    "matplotlib.rcParams['mathtext.fontset'] = 'stix'\n",
    "matplotlib.rcParams['font.family'] = 'STIXGeneral'"
   ]
  },
  {
   "cell_type": "code",
   "execution_count": 4,
   "id": "c5956460-0368-47ad-81ae-e895d93ce33b",
   "metadata": {
    "tags": [
     "parameters"
    ]
   },
   "outputs": [],
   "source": [
    "# Parameters\n",
    "plot_errors = False\n",
    "simbad_name = 'NAME_NGC_1313_X-2'\n",
    "\n",
    "uvot_filter   = 'U'\n",
    "xrt_curve     = 'HARD'\n",
    "\n",
    "xrt_rate      = 'RATE'\n",
    "xrt_rate_err  = 'RATE_ERR'\n",
    "\n",
    "uvot_rate     = 'COI_SRC_RATE'\n",
    "uvot_rate_err = 'COI_SRC_RATE_ERR'\n"
   ]
  },
  {
   "cell_type": "code",
   "execution_count": 5,
   "id": "a90890e6-1185-4c01-b3cc-edc2ab2a1357",
   "metadata": {},
   "outputs": [
    {
     "name": "stdout",
     "output_type": "stream",
     "text": [
      "Getting source region dict\n"
     ]
    }
   ],
   "source": [
    "src_region_dict = get_src_region_dict()\n",
    "local_name    = source_names_dict[simbad_name]\n",
    "readable_name = source_names_readable[simbad_name]\n",
    "closest_src   = src_region_dict[simbad_name]"
   ]
  },
  {
   "cell_type": "code",
   "execution_count": 6,
   "id": "f87ecc5c-96ab-4bb8-a591-323a9d21e802",
   "metadata": {},
   "outputs": [
    {
     "ename": "IndexError",
     "evalue": "list index out of range",
     "output_type": "error",
     "traceback": [
      "\u001b[0;31m---------------------------------------------------------------------------\u001b[0m",
      "\u001b[0;31mIndexError\u001b[0m                                Traceback (most recent call last)",
      "Input \u001b[0;32mIn [6]\u001b[0m, in \u001b[0;36m<cell line: 2>\u001b[0;34m()\u001b[0m\n\u001b[1;32m      1\u001b[0m \u001b[38;5;66;03m# Load X-ray Data\u001b[39;00m\n\u001b[0;32m----> 2\u001b[0m tab_xrt_full \u001b[38;5;241m=\u001b[39m \u001b[43mload_xrt\u001b[49m\u001b[43m(\u001b[49m\u001b[43msimbad_name\u001b[49m\u001b[38;5;241;43m=\u001b[39;49m\u001b[43msimbad_name\u001b[49m\u001b[43m,\u001b[49m\u001b[43m \u001b[49m\u001b[43mcurve\u001b[49m\u001b[38;5;241;43m=\u001b[39;49m\u001b[43mxrt_curve\u001b[49m\u001b[43m,\u001b[49m\u001b[43m \u001b[49m\u001b[43mpandas\u001b[49m\u001b[38;5;241;43m=\u001b[39;49m\u001b[38;5;28;43;01mFalse\u001b[39;49;00m\u001b[43m)\u001b[49m\n\u001b[1;32m      4\u001b[0m \u001b[38;5;66;03m# Load UV Data\u001b[39;00m\n\u001b[1;32m      5\u001b[0m fits_files \u001b[38;5;241m=\u001b[39m glob(\u001b[38;5;124mf\u001b[39m\u001b[38;5;124m'\u001b[39m\u001b[38;5;124m../download_scripts/\u001b[39m\u001b[38;5;132;01m{\u001b[39;00mlocal_name\u001b[38;5;132;01m}\u001b[39;00m\u001b[38;5;124m/*uvotsource*fits*\u001b[39m\u001b[38;5;124m'\u001b[39m)\n",
      "File \u001b[0;32m/mnt/d/anticorr_data/notebooks/../xrt.py:53\u001b[0m, in \u001b[0;36mload_xrt\u001b[0;34m(simbad_name, curve, pandas)\u001b[0m\n\u001b[1;32m     50\u001b[0m \u001b[38;5;28;01melif\u001b[39;00m curve \u001b[38;5;241m==\u001b[39m \u001b[38;5;124m'\u001b[39m\u001b[38;5;124mHR\u001b[39m\u001b[38;5;124m'\u001b[39m:\n\u001b[1;32m     51\u001b[0m     s \u001b[38;5;241m=\u001b[39m \u001b[38;5;124mf\u001b[39m\u001b[38;5;124m'\u001b[39m\u001b[38;5;124m/mnt/d/anticorr_data/UKSSDC/\u001b[39m\u001b[38;5;132;01m{\u001b[39;00msimbad_name_glob\u001b[38;5;132;01m}\u001b[39;00m\u001b[38;5;124m/*/*/*hardrat_HR_PC.csv\u001b[39m\u001b[38;5;124m'\u001b[39m\n\u001b[0;32m---> 53\u001b[0m csv_file \u001b[38;5;241m=\u001b[39m \u001b[43mglob\u001b[49m\u001b[43m(\u001b[49m\u001b[43ms\u001b[49m\u001b[43m)\u001b[49m\u001b[43m[\u001b[49m\u001b[38;5;241;43m0\u001b[39;49m\u001b[43m]\u001b[49m\n\u001b[1;32m     54\u001b[0m logging\u001b[38;5;241m.\u001b[39mdebug(\u001b[38;5;124mf\u001b[39m\u001b[38;5;124m'\u001b[39m\u001b[38;5;124mLoading file: \u001b[39m\u001b[38;5;132;01m{\u001b[39;00mcsv_file\u001b[38;5;132;01m}\u001b[39;00m\u001b[38;5;124m'\u001b[39m)\n\u001b[1;32m     55\u001b[0m df \u001b[38;5;241m=\u001b[39m pd\u001b[38;5;241m.\u001b[39mread_csv(csv_file, dtype\u001b[38;5;241m=\u001b[39m{\u001b[38;5;124m'\u001b[39m\u001b[38;5;124mobsID\u001b[39m\u001b[38;5;124m'\u001b[39m:\u001b[38;5;28mstr\u001b[39m})\n",
      "\u001b[0;31mIndexError\u001b[0m: list index out of range"
     ]
    }
   ],
   "source": [
    "# Load X-ray Data\n",
    "tab_xrt_full = load_xrt(simbad_name=simbad_name, curve=xrt_curve, pandas=False)\n",
    "\n",
    "# Load UV Data\n",
    "fits_files = glob(f'../download_scripts/{local_name}/*uvotsource*fits*')\n",
    "for f in fits_files:\n",
    "    if closest_src.split('/')[-1][:-4] in f:\n",
    "        tab_uvot = read_uvotsource(f)\n",
    "tab_uvot = tab_uvot[tab_uvot['FILTER'] == uvot_filter]\n",
    "tab_uvot = unique(tab_uvot, keys='OBSID')37.2166737.21667\n"
   ]
  },
  {
   "cell_type": "code",
   "execution_count": null,
   "id": "f22af1ff-adfe-4435-9efb-944c9d482265",
   "metadata": {},
   "outputs": [],
   "source": [
    "tab_xrt_full"
   ]
  },
  {
   "cell_type": "code",
   "execution_count": null,
   "id": "e155fc38-2fcc-4f61-ae44-e4b171329398",
   "metadata": {},
   "outputs": [],
   "source": [
    "tab_uvot"
   ]
  },
  {
   "cell_type": "code",
   "execution_count": null,
   "id": "360ee04e-aefa-4a57-b1f2-0bbf15303ccf",
   "metadata": {},
   "outputs": [],
   "source": [
    "\n",
    "# Join Data\n",
    "tab_join = join(tab_uvot, tab_xrt_full , join_type='inner', keys='OBSID')\n",
    "tab_join.sort('MJD_2')\n",
    "# Get x,y data\n",
    "t = tab_join['MJD_2']\n",
    "\n",
    "x = tab_join[xrt_rate]\n",
    "x_err = tab_join[xrt_rate_err]\n",
    "\n",
    "y = tab_join[uvot_rate]\n",
    "y_err = tab_join[uvot_rate_err]\n",
    "\n",
    "\n",
    "# Caclulate pearson\n",
    "r, p_val = pearsonr(x,y)\n",
    "\n",
    "# calculate ccf\n",
    "lags = np.arange(-len(x) + 1, len(x))\n",
    "c = signal.correlate(x / np.std(x), y / np.std(y), 'full') \n",
    "c = c / len(x)\n",
    "lag_max = lags[np.argmax(c)]\n",
    "\n",
    "#calculate autocorrelations\n",
    "import statsmodels.api as sm\n",
    "acf_y = sm.tsa.acf(y, nlags=2*len(y))\n",
    "acf_x = sm.tsa.acf(x, nlags=2*len(x))\n"
   ]
  },
  {
   "cell_type": "code",
   "execution_count": null,
   "id": "3287e625-1ad3-4c7b-a410-fbb492f4cb19",
   "metadata": {},
   "outputs": [],
   "source": [
    "# Plot lightcurve\n",
    "fig, ax = plt.subplots(1, 1, figsize=(10,10/3))\n",
    "ax2 = ax.twinx()\n",
    "ax.errorbar(t, x, yerr=x_err, lw=1.0, label=f'XRT {xrt_curve} | {xrt_rate}', ls='none', marker='.', color='black', capsize=1.0)\n",
    "ax2.errorbar(t, y, yerr=y_err, lw=1.0, label=f'UVOT {uvot_filter} | {uvot_rate}', ls='none', marker='.', color='violet', capsize=1.0)\n",
    "ax.set_ylabel(f'{xrt_curve} {xrt_rate} (ct/s)')\n",
    "ax2.set_ylabel(f'{uvot_filter} {uvot_rate} (ct/s)')\n",
    "ax.set_title(readable_name)\n",
    "ax.legend(loc='upper left')\n",
    "ax2.legend(loc='upper right')\n",
    "ax.set_xlabel('Time (MJD)')\n",
    "plt.tight_layout()\n",
    "plt.savefig(f'correlation_outputs/plots/{simbad_name}_{xrt_curve}_{uvot_filter}_lc_mjd.png')\n",
    "plt.savefig(f'correlation_outputs/plots/{simbad_name}_{xrt_curve}_{uvot_filter}_lc_mjd.pdf')\n",
    "\n",
    "# Plot lightcurve (no time)\n",
    "fig, ax = plt.subplots(1, 1, figsize=(10,10/3))\n",
    "ax2 = ax.twinx()\n",
    "ax.plot(range(len(x)), x, lw=1.0, label=f'XRT {xrt_curve} | {xrt_rate}', ls='-', marker='.', color='black')\n",
    "ax2.plot(range(len(y)), y, lw=1.0, label=f'UVOT {uvot_filter} | {uvot_rate}', ls='-', marker='.', color='violet')\n",
    "ax.set_ylabel(f'{xrt_curve} {xrt_rate} (ct/s)')\n",
    "ax2.set_ylabel(f'{uvot_filter} {uvot_rate} (ct/s)')\n",
    "ax.set_title(readable_name)\n",
    "ax.legend(loc='upper left')\n",
    "ax2.legend(loc='upper right')\n",
    "ax.set_xlabel('# Datapoint')\n",
    "plt.tight_layout()\n",
    "plt.savefig(f'correlation_outputs/plots/{simbad_name},{xrt_curve},{uvot_filter},lc_seq.png')\n",
    "plt.savefig(f'correlation_outputs/plots/{simbad_name},{xrt_curve},{uvot_filter},lc_seq.pdf')\n",
    "\n",
    "# Plot correlation (No errors)\n",
    "plt.figure(figsize=(5,5))\n",
    "plt.scatter(x, y, marker='x', color='black')\n",
    "plt.title(f'{readable_name} | $r$ = {r:.2f}')\n",
    "plt.xlabel(f'{xrt_curve} {xrt_rate} (ct/s)')\n",
    "plt.ylabel(f'{uvot_filter} {uvot_rate} (ct/s)')\n",
    "plt.tight_layout()\n",
    "plt.savefig(f'correlation_outputs/plots/{simbad_name},{xrt_curve},{uvot_filter},corr.png')\n",
    "plt.savefig(f'correlation_outputs/plots/{simbad_name},{xrt_curve},{uvot_filter},corr.pdf')\n",
    "\n",
    "# Plot Correlation with errors\n",
    "plt.figure(figsize=(5,5))\n",
    "plt.errorbar(x, y, xerr=x_err, yerr=y_err,  lw=1.0, capsize=1.0, ls='none', color='black')\n",
    "plt.title(f'{readable_name} | $r$ = {r:.2f}')\n",
    "plt.xlabel(f'{xrt_curve} {xrt_rate} (ct/s)')\n",
    "plt.ylabel(f'{uvot_filter} {uvot_rate} (ct/s)')\n",
    "plt.tight_layout()\n",
    "plt.savefig(f'correlation_outputs/plots/{simbad_name},{xrt_curve},{uvot_filter},corr_err.png')\n",
    "plt.savefig(f'correlation_outputs/plots/{simbad_name},{xrt_curve},{uvot_filter},corr_err.pdf')\n",
    "\n",
    "# Plot CCF\n",
    "plt.figure(figsize=(5,5))\n",
    "plt.plot(lags, c, label='CCF', color='black')\n",
    "plt.axvline(lag_max, color='red', label=f'{lag_max}')\n",
    "plt.legend()\n",
    "plt.title(f'{readable_name}')\n",
    "plt.xlabel('Lag (datapoints)')\n",
    "plt.ylabel('CCF')\n",
    "plt.tight_layout()\n",
    "plt.savefig(f'correlation_outputs/plots/{simbad_name},{xrt_curve},{uvot_filter},corr_ccf.png')\n",
    "plt.savefig(f'correlation_outputs/plots/{simbad_name},{xrt_curve},{uvot_filter},corr_ccf.pdf')\n",
    "\n",
    "# Plot autocorrelations\n",
    "plt.figure(figsize=(5,5))\n",
    "plt.title(f'{readable_name}')\n",
    "plt.plot(acf_x, label=f'ACF UVOT')\n",
    "plt.plot(acf_y, label=f'ACF XRT')\n",
    "plt.legend()\n",
    "plt.tight_layout()\n",
    "plt.savefig(f'correlation_outputs/plots/{simbad_name},{xrt_curve},{uvot_filter},corr_acf.png')\n",
    "plt.savefig(f'correlation_outputs/plots/{simbad_name},{xrt_curve},{uvot_filter},corr_acf.pdf')"
   ]
  },
  {
   "cell_type": "code",
   "execution_count": null,
   "id": "6e4da31a-6a69-4e41-853f-d65b90b159ba",
   "metadata": {},
   "outputs": [],
   "source": [
    "def line(x, m, c):\n",
    "    return m*x+c"
   ]
  },
  {
   "cell_type": "code",
   "execution_count": null,
   "id": "0135e9ac-344d-45b8-a52f-7892f4dec57e",
   "metadata": {},
   "outputs": [],
   "source": [
    "plt.figure(figsize=(4,4))\n",
    "all_mc_res = []\n",
    "for i in tqdm(range(10000)):\n",
    "    mc_res = {}\n",
    "    x_samp = np.random.normal(loc=x, scale=x_err)\n",
    "    y_samp = np.random.normal(loc=y, scale=y_err)\n",
    "    r, p_val = pearsonr(x_samp,y_samp)\n",
    "    p_opt, p_cov = curve_fit(line, x_samp, y_samp)\n",
    "    m, c = p_opt\n",
    "    \n",
    "    mc_res['r'] = r\n",
    "    mc_res['m'] = m\n",
    "    mc_res['c'] = c\n",
    "    all_mc_res.append(mc_res)\n",
    "    \n",
    "df_mc_res = pd.DataFrame(all_mc_res)\n",
    "df_mc_res.to_csv(f'correlation_outputs/tables/{simbad_name},{xrt_curve},{uvot_filter},line_mc.csv', index=False)\n",
    "\n",
    "\n",
    "# Calcultae best fit values and errors\n",
    "r_best = df_mc_res['r'].mean()\n",
    "r_std  = df_mc_res['r'].std()\n",
    "m_best = df_mc_res['m'].mean()\n",
    "m_std  = df_mc_res['m'].std()\n",
    "c_best = df_mc_res['c'].mean()\n",
    "c_std  = df_mc_res['c'].std()\n"
   ]
  },
  {
   "cell_type": "code",
   "execution_count": null,
   "id": "8c647c41-bb9e-455c-9a0a-abaeb4d054c1",
   "metadata": {},
   "outputs": [],
   "source": [
    "ax = df_mc_res.hist(bins=100, grid=False)\n",
    "plt.savefig(f'correlation_outputs/plots/{simbad_name},{xrt_curve},{uvot_filter},corr_dist.eps')"
   ]
  },
  {
   "cell_type": "code",
   "execution_count": null,
   "id": "6326f955-797d-42a2-8b6f-0a084d2fddf2",
   "metadata": {},
   "outputs": [],
   "source": [
    "fig, ax = plt.subplots(1,1,figsize=(5,5), facecolor='white')\n",
    "ax.scatter(x, y, marker='x', color='grey', alpha=0.8)     \n",
    "\n",
    "xmin, xmax = ax.get_xlim()\n",
    "xrange = np.linspace(xmin, xmax, 10)\n",
    "\n",
    "\n",
    "# Plot best fit line\n",
    "ax.plot(xrange, line(xrange, m_best, c_best), color='red', label=f'y={m_best:.2f}x+{c_best:.2f}')\n",
    "ax.set_xlim(xmin, xmax)\n",
    "ax.legend(loc='upper right')\n",
    "\n",
    "# Plot binned data\n",
    "xmax = np.max(x)\n",
    "xmin = np.min(x)\n",
    "nbins = 9\n",
    "xbins = np.linspace(xmin, xmax, nbins)\n",
    "\n",
    "for i in range(nbins-1):\n",
    "    xlow = xbins[i]\n",
    "    xhigh = xbins[i+1]\n",
    "    xs = x[(x>xlow) & (x<xhigh)]\n",
    "    ys = y[(x>xlow) & (x<xhigh)]\n",
    "    \n",
    "    x_mean = np.mean(xs)\n",
    "    x_err = np.std(xs) / np.sqrt(len(xs))\n",
    "    y_mean = np.mean(ys)\n",
    "    y_err = np.std(ys) / np.sqrt(len(ys))\n",
    "    ax.errorbar(x_mean, y_mean, yerr=y_err, color='black', capsize=1.0, lw=1.0, marker='.', label='Binned')\n",
    "    \n",
    "    xmin, xmax = ax.get_xlim()\n",
    "    xrange = np.linspace(xmin, xmax, 10)\n",
    "    \n",
    "\n",
    "ax.set_xlabel(f'XRT {xrt_curve} {xrt_rate} (ct/s)')\n",
    "ax.set_ylabel(f'UVOT {uvot_filter} RATE (ct/s)')\n",
    "ax.set_title(f'{readable_name} | $r$ = {r_best:.2f} $\\pm$ {r_std:.2f}')\n",
    "plt.savefig(f'correlation_outputs/plots/{simbad_name},{xrt_curve},{uvot_filter},corr_fit.png')\n",
    "plt.savefig(f'correlation_outputs/plots/{simbad_name},{xrt_curve},{uvot_filter},corr_fit.eps')"
   ]
  },
  {
   "cell_type": "code",
   "execution_count": null,
   "id": "a194c202-a183-4561-90f2-23cd85c072f6",
   "metadata": {},
   "outputs": [],
   "source": []
  },
  {
   "cell_type": "code",
   "execution_count": null,
   "id": "02b01183-1ac6-4a3b-b3be-e14390e2f3e3",
   "metadata": {},
   "outputs": [],
   "source": []
  },
  {
   "cell_type": "code",
   "execution_count": null,
   "id": "d180c822-01e4-4606-8900-ece4ba97ad72",
   "metadata": {},
   "outputs": [],
   "source": []
  }
 ],
 "metadata": {
  "kernelspec": {
   "display_name": "Python 3 (ipykernel)",
   "language": "python",
   "name": "python3"
  },
  "language_info": {
   "codemirror_mode": {
    "name": "ipython",
    "version": 3
   },
   "file_extension": ".py",
   "mimetype": "text/x-python",
   "name": "python",
   "nbconvert_exporter": "python",
   "pygments_lexer": "ipython3",
   "version": "3.10.4"
  }
 },
 "nbformat": 4,
 "nbformat_minor": 5
}
