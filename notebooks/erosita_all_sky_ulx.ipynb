{
 "cells": [
  {
   "cell_type": "code",
   "execution_count": null,
   "id": "d5e2b3e2-ca74-43d6-bb74-2226fcfa1740",
   "metadata": {},
   "outputs": [],
   "source": [
    "import matplotlib.pyplot as plt\n",
    "from PIL import Image\n",
    "image = Image.open('erass_cropped.png')\n",
    "image.show()"
   ]
  },
  {
   "cell_type": "code",
   "execution_count": null,
   "id": "c5a6497a-f0ba-4c35-bf6e-bf0d11553993",
   "metadata": {},
   "outputs": [],
   "source": [
    "from astropy.coordinates import SkyCoord"
   ]
  },
  {
   "cell_type": "code",
   "execution_count": null,
   "id": "23aeab9f-4e35-43a7-babe-d41c50a42ce9",
   "metadata": {},
   "outputs": [],
   "source": [
    "sc = SkyCoord(\"3h18m15.4s -66d29m50s\", frame='icrs')"
   ]
  },
  {
   "cell_type": "code",
   "execution_count": null,
   "id": "d974c333-1a03-48f0-bb42-09f0149d3fac",
   "metadata": {},
   "outputs": [],
   "source": [
    "sc"
   ]
  },
  {
   "cell_type": "code",
   "execution_count": null,
   "id": "38c2b55a-0f05-495c-a071-e9b055d694d3",
   "metadata": {},
   "outputs": [],
   "source": [
    "fig, ax = plt.subplots(figsize=(30,10))\n",
    "ax.imshow(image)\n",
    "xmin, xmax = ax.get_xlim()[0], ax.get_xlim()[1]\n",
    "ymin, ymax = ax.get_ylim()[1], ax.get_ylim()[0]\n",
    "\n",
    "ax.scatter(xmax/2, ymax/2, marker='x', color='cyan', s=500)"
   ]
  },
  {
   "cell_type": "code",
   "execution_count": null,
   "id": "d02d7e09-2197-4501-9f3c-4ea5aafa66b5",
   "metadata": {},
   "outputs": [],
   "source": []
  },
  {
   "cell_type": "code",
   "execution_count": null,
   "id": "0ec6c9f5-2084-467d-9e94-7d2019265bee",
   "metadata": {},
   "outputs": [],
   "source": [
    "fig = plt.figure()\n",
    "#create axes in the background to show cartesian image\n",
    "ax0 = fig.add_subplot(111)\n",
    "ax0.imshow(image)\n",
    "ax0.axis(\"off\")\n",
    "\n",
    "# create polar axes in the foreground and remove its background\n",
    "# to see through\n",
    "ax = fig.add_subplot(111, projection=\"aitoff\", label=\"polar\")\n",
    "\n",
    "ax.set_facecolor(\"None\")\n",
    "plt.show()"
   ]
  },
  {
   "cell_type": "code",
   "execution_count": null,
   "id": "fd773cd8-8480-47d5-a4a0-8fed30501249",
   "metadata": {},
   "outputs": [],
   "source": []
  },
  {
   "cell_type": "code",
   "execution_count": null,
   "id": "1e241a29-5b78-4bfe-ac26-8e6f4161db9b",
   "metadata": {},
   "outputs": [],
   "source": [
    "plt.plot(image.histogram())\n",
    "plt.yscale('log')"
   ]
  },
  {
   "cell_type": "code",
   "execution_count": null,
   "id": "b4af25d8-e1c6-4b19-855a-63de8fbeef70",
   "metadata": {},
   "outputs": [],
   "source": [
    "?image.histogram"
   ]
  },
  {
   "cell_type": "code",
   "execution_count": null,
   "id": "7909fd15-85b9-4e2e-b363-2c0842ee57aa",
   "metadata": {},
   "outputs": [],
   "source": []
  }
 ],
 "metadata": {
  "kernelspec": {
   "display_name": "Python 3 (ipykernel)",
   "language": "python",
   "name": "python3"
  },
  "language_info": {
   "codemirror_mode": {
    "name": "ipython",
    "version": 3
   },
   "file_extension": ".py",
   "mimetype": "text/x-python",
   "name": "python",
   "nbconvert_exporter": "python",
   "pygments_lexer": "ipython3",
   "version": "3.10.4"
  }
 },
 "nbformat": 4,
 "nbformat_minor": 5
}
