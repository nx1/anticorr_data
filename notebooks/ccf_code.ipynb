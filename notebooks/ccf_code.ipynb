{
 "cells": [
  {
   "cell_type": "code",
   "execution_count": null,
   "id": "0276b21f-a18c-4137-a6d9-e6b2ed003bec",
   "metadata": {},
   "outputs": [],
   "source": [
    "\"\"\"\n",
    "# calculate ccf\n",
    "lags = np.arange(-len(x) + 1, len(x))\n",
    "c = signal.correlate(x / np.std(x), y / np.std(y), 'full') \n",
    "c = c / len(x)\n",
    "lag_max = lags[np.argmax(c)]\n",
    "\n",
    "#calculate autocorrelations\n",
    "acf_y = sm.tsa.acf(y, nlags=2*len(y))\n",
    "acf_x = sm.tsa.acf(x, nlags=2*len(x))\n",
    "\n",
    "\n",
    "# Plot CCF\n",
    "if not include_UL:\n",
    "    plt.figure(figsize=(5,5), facecolor='white')\n",
    "    plt.plot(lags, c, label='CCF', color='black')\n",
    "    plt.axvline(lag_max, color='red', label=f'{lag_max}')\n",
    "    plt.legend()\n",
    "    plt.title(f'{readable_name}')\n",
    "    plt.xlabel('Lag (datapoints)')\n",
    "    plt.ylabel('CCF')\n",
    "    plt.tight_layout()\n",
    "    plt.savefig(plot_path/f'{outfile},corr_ccf.png')\n",
    "    plt.savefig(plot_path/f'/{outfile},corr_ccf.pdf')\n",
    "\n",
    "    # Plot autocorrelations\n",
    "    plt.figure(figsize=(5,5))\n",
    "    plt.title(f'{readable_name}')\n",
    "    plt.plot(acf_x, label=f'ACF UVOT')\n",
    "    plt.plot(acf_y, label=f'ACF XRT')\n",
    "    plt.legend()\n",
    "    plt.tight_layout()\n",
    "    plt.savefig(plot_path/f'{outfile},corr_acf.png')\n",
    "    plt.savefig(plot_path/f'{outfile},corr_acf.pdf')\n",
    "\"\"\""
   ]
  }
 ],
 "metadata": {
  "kernelspec": {
   "display_name": "Python 3 (ipykernel)",
   "language": "python",
   "name": "python3"
  },
  "language_info": {
   "codemirror_mode": {
    "name": "ipython",
    "version": 3
   },
   "file_extension": ".py",
   "mimetype": "text/x-python",
   "name": "python",
   "nbconvert_exporter": "python",
   "pygments_lexer": "ipython3",
   "version": "3.10.4"
  }
 },
 "nbformat": 4,
 "nbformat_minor": 5
}
