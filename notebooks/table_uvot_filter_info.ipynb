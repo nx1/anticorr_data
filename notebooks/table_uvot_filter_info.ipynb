{
 "cells": [
  {
   "cell_type": "code",
   "execution_count": 2,
   "id": "70441808-9104-4d10-805e-0a8a91ab5314",
   "metadata": {},
   "outputs": [
    {
     "data": {
      "text/html": [
       "<div>\n",
       "<style scoped>\n",
       "    .dataframe tbody tr th:only-of-type {\n",
       "        vertical-align: middle;\n",
       "    }\n",
       "\n",
       "    .dataframe tbody tr th {\n",
       "        vertical-align: top;\n",
       "    }\n",
       "\n",
       "    .dataframe thead th {\n",
       "        text-align: right;\n",
       "    }\n",
       "</style>\n",
       "<table border=\"1\" class=\"dataframe\">\n",
       "  <thead>\n",
       "    <tr style=\"text-align: right;\">\n",
       "      <th></th>\n",
       "      <th>filter</th>\n",
       "      <th>cent</th>\n",
       "      <th>fwhm</th>\n",
       "    </tr>\n",
       "  </thead>\n",
       "  <tbody>\n",
       "    <tr>\n",
       "      <th>0</th>\n",
       "      <td>v</td>\n",
       "      <td>5468</td>\n",
       "      <td>769</td>\n",
       "    </tr>\n",
       "    <tr>\n",
       "      <th>1</th>\n",
       "      <td>b</td>\n",
       "      <td>4392</td>\n",
       "      <td>975</td>\n",
       "    </tr>\n",
       "    <tr>\n",
       "      <th>2</th>\n",
       "      <td>u</td>\n",
       "      <td>3465</td>\n",
       "      <td>785</td>\n",
       "    </tr>\n",
       "    <tr>\n",
       "      <th>3</th>\n",
       "      <td>uvw1</td>\n",
       "      <td>2600</td>\n",
       "      <td>693</td>\n",
       "    </tr>\n",
       "    <tr>\n",
       "      <th>4</th>\n",
       "      <td>uvm2</td>\n",
       "      <td>2246</td>\n",
       "      <td>498</td>\n",
       "    </tr>\n",
       "    <tr>\n",
       "      <th>5</th>\n",
       "      <td>uvw2</td>\n",
       "      <td>1928</td>\n",
       "      <td>657</td>\n",
       "    </tr>\n",
       "  </tbody>\n",
       "</table>\n",
       "</div>"
      ],
      "text/plain": [
       "  filter  cent  fwhm\n",
       "0      v  5468   769\n",
       "1      b  4392   975\n",
       "2      u  3465   785\n",
       "3   uvw1  2600   693\n",
       "4   uvm2  2246   498\n",
       "5   uvw2  1928   657"
      ]
     },
     "execution_count": 2,
     "metadata": {},
     "output_type": "execute_result"
    }
   ],
   "source": [
    "import pandas as pd\n",
    "# UVOT bands\n",
    "v    = {'filter':'v', 'cent'    : 5468, 'fwhm' : 769}\n",
    "b    = {'filter':'b', 'cent'    : 4392, 'fwhm' : 975}\n",
    "u    = {'filter':'u', 'cent'    : 3465, 'fwhm' : 785}\n",
    "uvw1 = {'filter':'uvw1', 'cent' : 2600, 'fwhm' : 693}\n",
    "uvm2 = {'filter':'uvm2', 'cent' : 2246, 'fwhm' : 498}\n",
    "uvw2 = {'filter':'uvw2', 'cent' : 1928, 'fwhm' : 657}\n",
    "\n",
    "all_bands = [v, b, u , uvw1, uvm2, uvw2]\n",
    "\n",
    "filter_info = pd.DataFrame(all_bands)\n",
    "filter_info"
   ]
  },
  {
   "cell_type": "code",
   "execution_count": null,
   "id": "a903bde6-bc58-485c-93b7-7182cfb3f01a",
   "metadata": {},
   "outputs": [],
   "source": []
  }
 ],
 "metadata": {
  "kernelspec": {
   "display_name": "Python 3 (ipykernel)",
   "language": "python",
   "name": "python3"
  },
  "language_info": {
   "codemirror_mode": {
    "name": "ipython",
    "version": 3
   },
   "file_extension": ".py",
   "mimetype": "text/x-python",
   "name": "python",
   "nbconvert_exporter": "python",
   "pygments_lexer": "ipython3",
   "version": "3.10.4"
  }
 },
 "nbformat": 4,
 "nbformat_minor": 5
}
